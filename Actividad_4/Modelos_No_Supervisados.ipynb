{
 "cells": [
  {
   "cell_type": "markdown",
   "metadata": {
    "colab_type": "text",
    "id": "NIpn4wrYHUvv"
   },
   "source": [
    "# Actividad 4\n",
    "## Modelo No Supervisado\n",
    "\n",
    "### Integrantes\n",
    "- Ana Maria Uran Gonzalez\n",
    "- Karen Lizeth Velásquez Moná\n",
    "\n"
   ]
  },
  {
   "cell_type": "markdown",
   "metadata": {
    "colab_type": "text",
    "id": "iK4BnKBmHUvx"
   },
   "source": [
    "## 1. Modelo no supervisado para variables categóricas."
   ]
  },
  {
   "cell_type": "markdown",
   "metadata": {
    "colab_type": "text",
    "id": "2g4xZrBwHUvy"
   },
   "source": [
    "Muchos de los problemas encontrados en la industria y los datos recogidos por las mismas se centran en datos consolidados que contemplan variables que representan características, por lo cual es un reto encontrar un algoritmo de agrupación enfocado en este tipo de variables que permitan generar entendimiento del problema, por lo anterior nuestra primera aplicación se centra en algoritmo de agrupamiento para variables categóricas."
   ]
  },
  {
   "cell_type": "markdown",
   "metadata": {
    "colab_type": "text",
    "id": "auAOPrWhHUvy"
   },
   "source": [
    "### 1.2. Objetivo de la iteración"
   ]
  },
  {
   "cell_type": "markdown",
   "metadata": {
    "colab_type": "text",
    "id": "BtYu1LiaHUvz"
   },
   "source": [
    "Entender, desarrollar y aplicar modelo k-modes el cual es una adaptación del modelo de k- means cuyos centroides se basan en la frecuencia de las variables categóricas. Entender este problema, permite conocer soluciones implementadas para problemas que se centran en datos categóricos."
   ]
  },
  {
   "cell_type": "code",
   "execution_count": 1,
   "metadata": {
    "colab": {},
    "colab_type": "code",
    "id": "BJglLa-QT_rd"
   },
   "outputs": [],
   "source": [
    "import pandas as pd\n",
    "import matplotlib.pyplot as plt \n",
    "import numpy as np\n",
    "import pandas as pd\n",
    "import numpy as np\n",
    "import seaborn as sns\n",
    "import sklearn\n",
    "from sklearn.feature_selection import SelectKBest\n",
    "from sklearn.feature_selection import chi2\n",
    "from sklearn.model_selection import train_test_split\n",
    "from sklearn.ensemble import RandomForestClassifier\n",
    "from sklearn.ensemble import ExtraTreesClassifier\n",
    "from matplotlib import pyplot\n",
    "import statsmodels.api as sm"
   ]
  },
  {
   "cell_type": "markdown",
   "metadata": {
    "colab_type": "text",
    "id": "QcLbuphnHUv3"
   },
   "source": [
    "### 1.3. Entendimiento del problema"
   ]
  },
  {
   "cell_type": "markdown",
   "metadata": {
    "colab_type": "text",
    "id": "mDZOU49tHUv3"
   },
   "source": [
    "Medellín en la actualidad enfrenta diferentes problemas de inseguridad entre los que se encuentra homicidios, hurtos, y tráfico de drogas. De acuerdo con encuestas realizadas en la ciudad de Medellín (Medellín como vamos) el 20% de los casos de inseguridad está asociada a hurtos el cual involucra hurto a personas, vehículos, bienes y negocios. La ciudad de Medellín cuenta con una línea de atención y un escuadrón de policías cuyo objetivo es recibir y atender las denuncias de este tipo de casos; por lo que esta problemática hace necesaria idear estrategias que permitan entender las diferentes denuncias que hace la ciudadanía con el fin de que dicho entendimiento, sea la base para el despliegue de diferentes acciones que permitan la mitigación del problema.\n",
    "\n"
   ]
  },
  {
   "cell_type": "markdown",
   "metadata": {
    "colab_type": "text",
    "id": "WZFyCMJxHUv4"
   },
   "source": [
    "### 1.4. Datos"
   ]
  },
  {
   "cell_type": "markdown",
   "metadata": {
    "colab_type": "text",
    "id": "HvvpFgDGHUv5"
   },
   "source": [
    "Para cumplir el objetivo planteado anteriormente, se parte de un dataset de hurtos denunciados realizados en Medellín durante el año 2019, el cual se componen de 60579 denuncias con 41 variables. Bajo análisis previo se eliminan algunas variables las cuales no aportan al  modelo ya que tienen un mismo valor definido."
   ]
  },
  {
   "cell_type": "code",
   "execution_count": 2,
   "metadata": {
    "colab": {
     "base_uri": "https://localhost:8080/",
     "height": 690
    },
    "colab_type": "code",
    "id": "sGTULy0hT_rh",
    "outputId": "40bde6be-977a-4116-bdf2-c6515635872e"
   },
   "outputs": [
    {
     "name": "stderr",
     "output_type": "stream",
     "text": [
      "C:\\Users\\Familia Zapata\\Anaconda3\\lib\\site-packages\\IPython\\core\\interactiveshell.py:3058: DtypeWarning: Columns (24) have mixed types. Specify dtype option on import or set low_memory=False.\n",
      "  interactivity=interactivity, compiler=compiler, result=result)\n"
     ]
    },
    {
     "data": {
      "text/html": [
       "<div>\n",
       "<style scoped>\n",
       "    .dataframe tbody tr th:only-of-type {\n",
       "        vertical-align: middle;\n",
       "    }\n",
       "\n",
       "    .dataframe tbody tr th {\n",
       "        vertical-align: top;\n",
       "    }\n",
       "\n",
       "    .dataframe thead th {\n",
       "        text-align: right;\n",
       "    }\n",
       "</style>\n",
       "<table border=\"1\" class=\"dataframe\">\n",
       "  <thead>\n",
       "    <tr style=\"text-align: right;\">\n",
       "      <th></th>\n",
       "      <th>Hurto</th>\n",
       "      <th>Codigo_Stage_Hurto</th>\n",
       "      <th>Caso_Hurto</th>\n",
       "      <th>Ano</th>\n",
       "      <th>Dia</th>\n",
       "      <th>Dia_nombre</th>\n",
       "      <th>Mes_Calendario</th>\n",
       "      <th>Hora_Hurto</th>\n",
       "      <th>Minuto_Hurto</th>\n",
       "      <th>Jornada</th>\n",
       "      <th>...</th>\n",
       "      <th>Modelo_Hurto</th>\n",
       "      <th>Estado_Civil</th>\n",
       "      <th>Medio_Transporte</th>\n",
       "      <th>Medio_Transporte_Agresor</th>\n",
       "      <th>Sede_Receptora</th>\n",
       "      <th>Grupo_Sede_Receptora</th>\n",
       "      <th>Marca</th>\n",
       "      <th>Color</th>\n",
       "      <th>Arma_Medio</th>\n",
       "      <th>Fecha_Actualización_Hurto</th>\n",
       "    </tr>\n",
       "  </thead>\n",
       "  <tbody>\n",
       "    <tr>\n",
       "      <td>0</td>\n",
       "      <td>3666715</td>\n",
       "      <td>0c5427ba55773540b7094c705b0ae4e5de8d7a02</td>\n",
       "      <td>1</td>\n",
       "      <td>2019</td>\n",
       "      <td>1/01/2019</td>\n",
       "      <td>Martes</td>\n",
       "      <td>Enero</td>\n",
       "      <td>18</td>\n",
       "      <td>0</td>\n",
       "      <td>Noche</td>\n",
       "      <td>...</td>\n",
       "      <td>-1</td>\n",
       "      <td>Soltero(a)</td>\n",
       "      <td>Caminata</td>\n",
       "      <td>Caminata</td>\n",
       "      <td>Santa Cruz</td>\n",
       "      <td>Estación</td>\n",
       "      <td>Bajaj</td>\n",
       "      <td>Gris</td>\n",
       "      <td>Llave maestra</td>\n",
       "      <td>8/01/2020</td>\n",
       "    </tr>\n",
       "    <tr>\n",
       "      <td>1</td>\n",
       "      <td>3668423</td>\n",
       "      <td>579cce1970b79a8e735daee28d2f302bb1638b8d</td>\n",
       "      <td>1</td>\n",
       "      <td>2019</td>\n",
       "      <td>1/01/2019</td>\n",
       "      <td>Martes</td>\n",
       "      <td>Enero</td>\n",
       "      <td>9</td>\n",
       "      <td>30</td>\n",
       "      <td>Mañana</td>\n",
       "      <td>...</td>\n",
       "      <td>-1</td>\n",
       "      <td>Soltero(a)</td>\n",
       "      <td>Caminata</td>\n",
       "      <td>Caminata</td>\n",
       "      <td>Buenos Aires</td>\n",
       "      <td>Estación</td>\n",
       "      <td>Bajaj</td>\n",
       "      <td>Negro</td>\n",
       "      <td>Llave maestra</td>\n",
       "      <td>8/01/2020</td>\n",
       "    </tr>\n",
       "    <tr>\n",
       "      <td>2</td>\n",
       "      <td>3668430</td>\n",
       "      <td>58510a14c21af55955027f92827415ae634bf45e</td>\n",
       "      <td>1</td>\n",
       "      <td>2019</td>\n",
       "      <td>1/01/2019</td>\n",
       "      <td>Martes</td>\n",
       "      <td>Enero</td>\n",
       "      <td>11</td>\n",
       "      <td>15</td>\n",
       "      <td>Mañana</td>\n",
       "      <td>...</td>\n",
       "      <td>2013</td>\n",
       "      <td>Soltero(a)</td>\n",
       "      <td>Caminata</td>\n",
       "      <td>Caminata</td>\n",
       "      <td>Aranjuez</td>\n",
       "      <td>Estación</td>\n",
       "      <td>Auteco</td>\n",
       "      <td>Sin dato</td>\n",
       "      <td>No</td>\n",
       "      <td>8/01/2020</td>\n",
       "    </tr>\n",
       "    <tr>\n",
       "      <td>3</td>\n",
       "      <td>3668625</td>\n",
       "      <td>6086384fc292885c54dbcfd986655b68cbe90827</td>\n",
       "      <td>1</td>\n",
       "      <td>2019</td>\n",
       "      <td>1/01/2019</td>\n",
       "      <td>Martes</td>\n",
       "      <td>Enero</td>\n",
       "      <td>22</td>\n",
       "      <td>30</td>\n",
       "      <td>Noche</td>\n",
       "      <td>...</td>\n",
       "      <td>-1</td>\n",
       "      <td>Casado(a)</td>\n",
       "      <td>Caminata</td>\n",
       "      <td>Caminata</td>\n",
       "      <td>Castilla</td>\n",
       "      <td>Estación</td>\n",
       "      <td>AKT</td>\n",
       "      <td>Negro</td>\n",
       "      <td>Llave maestra</td>\n",
       "      <td>8/01/2020</td>\n",
       "    </tr>\n",
       "    <tr>\n",
       "      <td>4</td>\n",
       "      <td>3669376</td>\n",
       "      <td>80a315ea15c7659112293b4db1ab548357595f04</td>\n",
       "      <td>1</td>\n",
       "      <td>2019</td>\n",
       "      <td>1/01/2019</td>\n",
       "      <td>Martes</td>\n",
       "      <td>Enero</td>\n",
       "      <td>20</td>\n",
       "      <td>40</td>\n",
       "      <td>Noche</td>\n",
       "      <td>...</td>\n",
       "      <td>2008</td>\n",
       "      <td>Soltero(a)</td>\n",
       "      <td>Caminata</td>\n",
       "      <td>Caminata</td>\n",
       "      <td>Candelaria</td>\n",
       "      <td>Estación</td>\n",
       "      <td>Honda</td>\n",
       "      <td>Negro</td>\n",
       "      <td>Llave maestra</td>\n",
       "      <td>8/01/2020</td>\n",
       "    </tr>\n",
       "    <tr>\n",
       "      <td>...</td>\n",
       "      <td>...</td>\n",
       "      <td>...</td>\n",
       "      <td>...</td>\n",
       "      <td>...</td>\n",
       "      <td>...</td>\n",
       "      <td>...</td>\n",
       "      <td>...</td>\n",
       "      <td>...</td>\n",
       "      <td>...</td>\n",
       "      <td>...</td>\n",
       "      <td>...</td>\n",
       "      <td>...</td>\n",
       "      <td>...</td>\n",
       "      <td>...</td>\n",
       "      <td>...</td>\n",
       "      <td>...</td>\n",
       "      <td>...</td>\n",
       "      <td>...</td>\n",
       "      <td>...</td>\n",
       "      <td>...</td>\n",
       "      <td>...</td>\n",
       "    </tr>\n",
       "    <tr>\n",
       "      <td>63477</td>\n",
       "      <td>3735773</td>\n",
       "      <td>a805f5bdd710dff2d61db7795277b58d2be0992d</td>\n",
       "      <td>1</td>\n",
       "      <td>2020</td>\n",
       "      <td>18/01/2020</td>\n",
       "      <td>Sábado</td>\n",
       "      <td>Enero</td>\n",
       "      <td>8</td>\n",
       "      <td>30</td>\n",
       "      <td>Mañana</td>\n",
       "      <td>...</td>\n",
       "      <td>-1</td>\n",
       "      <td>Soltero(a)</td>\n",
       "      <td>Caminata</td>\n",
       "      <td>Caminata</td>\n",
       "      <td>Laureles</td>\n",
       "      <td>Estación</td>\n",
       "      <td>Samsung</td>\n",
       "      <td>Negro</td>\n",
       "      <td>No</td>\n",
       "      <td>23/01/2020</td>\n",
       "    </tr>\n",
       "    <tr>\n",
       "      <td>63478</td>\n",
       "      <td>3735932</td>\n",
       "      <td>cc25d2f032ceb8e891ad0531744b735aa69cfe3c</td>\n",
       "      <td>1</td>\n",
       "      <td>2020</td>\n",
       "      <td>18/01/2020</td>\n",
       "      <td>Sábado</td>\n",
       "      <td>Enero</td>\n",
       "      <td>5</td>\n",
       "      <td>0</td>\n",
       "      <td>Madrugada</td>\n",
       "      <td>...</td>\n",
       "      <td>-1</td>\n",
       "      <td>Soltero(a)</td>\n",
       "      <td>Caminata</td>\n",
       "      <td>Caminata</td>\n",
       "      <td>Candelaria</td>\n",
       "      <td>Estación</td>\n",
       "      <td>Motorola</td>\n",
       "      <td>Negro</td>\n",
       "      <td>Arma de fuego</td>\n",
       "      <td>23/01/2020</td>\n",
       "    </tr>\n",
       "    <tr>\n",
       "      <td>63479</td>\n",
       "      <td>3736033</td>\n",
       "      <td>e4b9a9758c8491897f1467f08f8070b3c445ead6</td>\n",
       "      <td>1</td>\n",
       "      <td>2020</td>\n",
       "      <td>18/01/2020</td>\n",
       "      <td>Sábado</td>\n",
       "      <td>Enero</td>\n",
       "      <td>8</td>\n",
       "      <td>30</td>\n",
       "      <td>Mañana</td>\n",
       "      <td>...</td>\n",
       "      <td>-1</td>\n",
       "      <td>Soltero(a)</td>\n",
       "      <td>Automóvil</td>\n",
       "      <td>Motocicleta</td>\n",
       "      <td>San Javier</td>\n",
       "      <td>Estación</td>\n",
       "      <td>Sin dato</td>\n",
       "      <td>Sin dato</td>\n",
       "      <td>Arma de fuego</td>\n",
       "      <td>23/01/2020</td>\n",
       "    </tr>\n",
       "    <tr>\n",
       "      <td>63480</td>\n",
       "      <td>3736104</td>\n",
       "      <td>f44ac7bcdf2ed68ec6bed08d53005b331fa11e4d</td>\n",
       "      <td>1</td>\n",
       "      <td>2020</td>\n",
       "      <td>18/01/2020</td>\n",
       "      <td>Sábado</td>\n",
       "      <td>Enero</td>\n",
       "      <td>1</td>\n",
       "      <td>0</td>\n",
       "      <td>Madrugada</td>\n",
       "      <td>...</td>\n",
       "      <td>-1</td>\n",
       "      <td>Soltero(a)</td>\n",
       "      <td>Caminata</td>\n",
       "      <td>Caminata</td>\n",
       "      <td>Poblado</td>\n",
       "      <td>Estación</td>\n",
       "      <td>Sin dato</td>\n",
       "      <td>Negro</td>\n",
       "      <td>No</td>\n",
       "      <td>23/01/2020</td>\n",
       "    </tr>\n",
       "    <tr>\n",
       "      <td>63481</td>\n",
       "      <td>3736265</td>\n",
       "      <td>f3bdf9f73790b245aa6d642bcc918faee267c9ea</td>\n",
       "      <td>0</td>\n",
       "      <td>2020</td>\n",
       "      <td>18/01/2020</td>\n",
       "      <td>Sábado</td>\n",
       "      <td>Enero</td>\n",
       "      <td>2</td>\n",
       "      <td>0</td>\n",
       "      <td>Madrugada</td>\n",
       "      <td>...</td>\n",
       "      <td>-1</td>\n",
       "      <td>Soltero(a)</td>\n",
       "      <td>Motocicleta con parrillero</td>\n",
       "      <td>Motocicleta con parrillero</td>\n",
       "      <td>Buenos Aires</td>\n",
       "      <td>Estación</td>\n",
       "      <td>Motorola</td>\n",
       "      <td>Negro</td>\n",
       "      <td>Arma de fuego</td>\n",
       "      <td>23/01/2020</td>\n",
       "    </tr>\n",
       "  </tbody>\n",
       "</table>\n",
       "<p>63482 rows × 41 columns</p>\n",
       "</div>"
      ],
      "text/plain": [
       "         Hurto                        Codigo_Stage_Hurto  Caso_Hurto   Ano  \\\n",
       "0      3666715  0c5427ba55773540b7094c705b0ae4e5de8d7a02           1  2019   \n",
       "1      3668423  579cce1970b79a8e735daee28d2f302bb1638b8d           1  2019   \n",
       "2      3668430  58510a14c21af55955027f92827415ae634bf45e           1  2019   \n",
       "3      3668625  6086384fc292885c54dbcfd986655b68cbe90827           1  2019   \n",
       "4      3669376  80a315ea15c7659112293b4db1ab548357595f04           1  2019   \n",
       "...        ...                                       ...         ...   ...   \n",
       "63477  3735773  a805f5bdd710dff2d61db7795277b58d2be0992d           1  2020   \n",
       "63478  3735932  cc25d2f032ceb8e891ad0531744b735aa69cfe3c           1  2020   \n",
       "63479  3736033  e4b9a9758c8491897f1467f08f8070b3c445ead6           1  2020   \n",
       "63480  3736104  f44ac7bcdf2ed68ec6bed08d53005b331fa11e4d           1  2020   \n",
       "63481  3736265  f3bdf9f73790b245aa6d642bcc918faee267c9ea           0  2020   \n",
       "\n",
       "              Dia Dia_nombre Mes_Calendario  Hora_Hurto  Minuto_Hurto  \\\n",
       "0       1/01/2019     Martes          Enero          18             0   \n",
       "1       1/01/2019     Martes          Enero           9            30   \n",
       "2       1/01/2019     Martes          Enero          11            15   \n",
       "3       1/01/2019     Martes          Enero          22            30   \n",
       "4       1/01/2019     Martes          Enero          20            40   \n",
       "...           ...        ...            ...         ...           ...   \n",
       "63477  18/01/2020     Sábado          Enero           8            30   \n",
       "63478  18/01/2020     Sábado          Enero           5             0   \n",
       "63479  18/01/2020     Sábado          Enero           8            30   \n",
       "63480  18/01/2020     Sábado          Enero           1             0   \n",
       "63481  18/01/2020     Sábado          Enero           2             0   \n",
       "\n",
       "         Jornada  ... Modelo_Hurto Estado_Civil            Medio_Transporte  \\\n",
       "0          Noche  ...           -1   Soltero(a)                    Caminata   \n",
       "1         Mañana  ...           -1   Soltero(a)                    Caminata   \n",
       "2         Mañana  ...         2013   Soltero(a)                    Caminata   \n",
       "3          Noche  ...           -1    Casado(a)                    Caminata   \n",
       "4          Noche  ...         2008   Soltero(a)                    Caminata   \n",
       "...          ...  ...          ...          ...                         ...   \n",
       "63477     Mañana  ...           -1   Soltero(a)                    Caminata   \n",
       "63478  Madrugada  ...           -1   Soltero(a)                    Caminata   \n",
       "63479     Mañana  ...           -1   Soltero(a)                   Automóvil   \n",
       "63480  Madrugada  ...           -1   Soltero(a)                    Caminata   \n",
       "63481  Madrugada  ...           -1   Soltero(a)  Motocicleta con parrillero   \n",
       "\n",
       "         Medio_Transporte_Agresor Sede_Receptora Grupo_Sede_Receptora  \\\n",
       "0                        Caminata     Santa Cruz             Estación   \n",
       "1                        Caminata   Buenos Aires             Estación   \n",
       "2                        Caminata       Aranjuez             Estación   \n",
       "3                        Caminata       Castilla             Estación   \n",
       "4                        Caminata     Candelaria             Estación   \n",
       "...                           ...            ...                  ...   \n",
       "63477                    Caminata       Laureles             Estación   \n",
       "63478                    Caminata     Candelaria             Estación   \n",
       "63479                 Motocicleta     San Javier             Estación   \n",
       "63480                    Caminata        Poblado             Estación   \n",
       "63481  Motocicleta con parrillero   Buenos Aires             Estación   \n",
       "\n",
       "          Marca     Color     Arma_Medio  Fecha_Actualización_Hurto  \n",
       "0         Bajaj      Gris  Llave maestra                  8/01/2020  \n",
       "1         Bajaj     Negro  Llave maestra                  8/01/2020  \n",
       "2        Auteco  Sin dato             No                  8/01/2020  \n",
       "3           AKT     Negro  Llave maestra                  8/01/2020  \n",
       "4         Honda     Negro  Llave maestra                  8/01/2020  \n",
       "...         ...       ...            ...                        ...  \n",
       "63477   Samsung     Negro             No                 23/01/2020  \n",
       "63478  Motorola     Negro  Arma de fuego                 23/01/2020  \n",
       "63479  Sin dato  Sin dato  Arma de fuego                 23/01/2020  \n",
       "63480  Sin dato     Negro             No                 23/01/2020  \n",
       "63481  Motorola     Negro  Arma de fuego                 23/01/2020  \n",
       "\n",
       "[63482 rows x 41 columns]"
      ]
     },
     "execution_count": 2,
     "metadata": {},
     "output_type": "execute_result"
    }
   ],
   "source": [
    "Medellin=pd.read_csv('Hurtos.csv',sep=';',encoding = 'UTF-8') #Carga datos\n",
    "Medellin"
   ]
  },
  {
   "cell_type": "markdown",
   "metadata": {
    "colab_type": "text",
    "id": "XVbMM-JzT_rk"
   },
   "source": [
    "### Extracción y transformación de variables.\n",
    "Las  variables que  componen nuestro conjunto de  datos  no tienen la estructura  idónea para la creación de  un modelo, es por  esto  que en esta parte nos  centraremos en  crear variables más representativas  de los datos  y eliminaremos aquellas  que  no aportan valor."
   ]
  },
  {
   "cell_type": "markdown",
   "metadata": {
    "colab_type": "text",
    "id": "l_1s25HuHUv9"
   },
   "source": [
    "A continuacion se realiza la eliminacioón de 10 variables las cuales no aportan debido a que no contienen datos únicos o ya representados, obteniendo un set de datos con 31 variables."
   ]
  },
  {
   "cell_type": "code",
   "execution_count": 3,
   "metadata": {
    "colab": {
     "base_uri": "https://localhost:8080/",
     "height": 640
    },
    "colab_type": "code",
    "id": "yctvlDOoT_rl",
    "outputId": "eab317c2-6e4c-48d4-cf22-2e0a4853f290"
   },
   "outputs": [
    {
     "data": {
      "text/html": [
       "<div>\n",
       "<style scoped>\n",
       "    .dataframe tbody tr th:only-of-type {\n",
       "        vertical-align: middle;\n",
       "    }\n",
       "\n",
       "    .dataframe tbody tr th {\n",
       "        vertical-align: top;\n",
       "    }\n",
       "\n",
       "    .dataframe thead th {\n",
       "        text-align: right;\n",
       "    }\n",
       "</style>\n",
       "<table border=\"1\" class=\"dataframe\">\n",
       "  <thead>\n",
       "    <tr style=\"text-align: right;\">\n",
       "      <th></th>\n",
       "      <th>Caso_Hurto</th>\n",
       "      <th>Dia</th>\n",
       "      <th>Dia_nombre</th>\n",
       "      <th>Mes_Calendario</th>\n",
       "      <th>Hora_Hurto</th>\n",
       "      <th>Minuto_Hurto</th>\n",
       "      <th>Jornada</th>\n",
       "      <th>Bien</th>\n",
       "      <th>Categoria_Bien</th>\n",
       "      <th>Grupo_Bien</th>\n",
       "      <th>...</th>\n",
       "      <th>Geo_X_Hurto</th>\n",
       "      <th>Geo_Y_Hurto</th>\n",
       "      <th>Lugar</th>\n",
       "      <th>Grupo_Lugar</th>\n",
       "      <th>Valor_Hurto</th>\n",
       "      <th>Estado_Civil</th>\n",
       "      <th>Medio_Transporte</th>\n",
       "      <th>Medio_Transporte_Agresor</th>\n",
       "      <th>Sede_Receptora</th>\n",
       "      <th>Arma_Medio</th>\n",
       "    </tr>\n",
       "  </thead>\n",
       "  <tbody>\n",
       "    <tr>\n",
       "      <td>0</td>\n",
       "      <td>1</td>\n",
       "      <td>1/01/2019</td>\n",
       "      <td>Martes</td>\n",
       "      <td>Enero</td>\n",
       "      <td>18</td>\n",
       "      <td>0</td>\n",
       "      <td>Noche</td>\n",
       "      <td>Moto</td>\n",
       "      <td>Vehículos de 2 o 4 ruedas</td>\n",
       "      <td>Vehículo</td>\n",
       "      <td>...</td>\n",
       "      <td>-75,54969917</td>\n",
       "      <td>6,29909867</td>\n",
       "      <td>Residencia</td>\n",
       "      <td>Habitacional</td>\n",
       "      <td>5000000</td>\n",
       "      <td>Soltero(a)</td>\n",
       "      <td>Caminata</td>\n",
       "      <td>Caminata</td>\n",
       "      <td>Santa Cruz</td>\n",
       "      <td>Llave maestra</td>\n",
       "    </tr>\n",
       "    <tr>\n",
       "      <td>1</td>\n",
       "      <td>1</td>\n",
       "      <td>1/01/2019</td>\n",
       "      <td>Martes</td>\n",
       "      <td>Enero</td>\n",
       "      <td>9</td>\n",
       "      <td>30</td>\n",
       "      <td>Mañana</td>\n",
       "      <td>Moto</td>\n",
       "      <td>Vehículos de 2 o 4 ruedas</td>\n",
       "      <td>Vehículo</td>\n",
       "      <td>...</td>\n",
       "      <td>-75,53617064</td>\n",
       "      <td>6,22998405</td>\n",
       "      <td>Residencia</td>\n",
       "      <td>Habitacional</td>\n",
       "      <td>4200000</td>\n",
       "      <td>Soltero(a)</td>\n",
       "      <td>Caminata</td>\n",
       "      <td>Caminata</td>\n",
       "      <td>Buenos Aires</td>\n",
       "      <td>Llave maestra</td>\n",
       "    </tr>\n",
       "    <tr>\n",
       "      <td>2</td>\n",
       "      <td>1</td>\n",
       "      <td>1/01/2019</td>\n",
       "      <td>Martes</td>\n",
       "      <td>Enero</td>\n",
       "      <td>11</td>\n",
       "      <td>15</td>\n",
       "      <td>Mañana</td>\n",
       "      <td>Moto</td>\n",
       "      <td>Vehículos de 2 o 4 ruedas</td>\n",
       "      <td>Vehículo</td>\n",
       "      <td>...</td>\n",
       "      <td>-75,5571555</td>\n",
       "      <td>6,27821866</td>\n",
       "      <td>Vía pública</td>\n",
       "      <td>Transporte</td>\n",
       "      <td>4000000</td>\n",
       "      <td>Soltero(a)</td>\n",
       "      <td>Caminata</td>\n",
       "      <td>Caminata</td>\n",
       "      <td>Aranjuez</td>\n",
       "      <td>No</td>\n",
       "    </tr>\n",
       "    <tr>\n",
       "      <td>3</td>\n",
       "      <td>1</td>\n",
       "      <td>1/01/2019</td>\n",
       "      <td>Martes</td>\n",
       "      <td>Enero</td>\n",
       "      <td>22</td>\n",
       "      <td>30</td>\n",
       "      <td>Noche</td>\n",
       "      <td>Moto</td>\n",
       "      <td>Vehículos de 2 o 4 ruedas</td>\n",
       "      <td>Vehículo</td>\n",
       "      <td>...</td>\n",
       "      <td>-75,56694979</td>\n",
       "      <td>6,30970945</td>\n",
       "      <td>Residencia</td>\n",
       "      <td>Habitacional</td>\n",
       "      <td>2500000</td>\n",
       "      <td>Casado(a)</td>\n",
       "      <td>Caminata</td>\n",
       "      <td>Caminata</td>\n",
       "      <td>Castilla</td>\n",
       "      <td>Llave maestra</td>\n",
       "    </tr>\n",
       "    <tr>\n",
       "      <td>4</td>\n",
       "      <td>1</td>\n",
       "      <td>1/01/2019</td>\n",
       "      <td>Martes</td>\n",
       "      <td>Enero</td>\n",
       "      <td>20</td>\n",
       "      <td>40</td>\n",
       "      <td>Noche</td>\n",
       "      <td>Moto</td>\n",
       "      <td>Vehículos de 2 o 4 ruedas</td>\n",
       "      <td>Vehículo</td>\n",
       "      <td>...</td>\n",
       "      <td>-75,55488355</td>\n",
       "      <td>6,24808629</td>\n",
       "      <td>Vía pública</td>\n",
       "      <td>Transporte</td>\n",
       "      <td>3500000</td>\n",
       "      <td>Soltero(a)</td>\n",
       "      <td>Caminata</td>\n",
       "      <td>Caminata</td>\n",
       "      <td>Candelaria</td>\n",
       "      <td>Llave maestra</td>\n",
       "    </tr>\n",
       "    <tr>\n",
       "      <td>...</td>\n",
       "      <td>...</td>\n",
       "      <td>...</td>\n",
       "      <td>...</td>\n",
       "      <td>...</td>\n",
       "      <td>...</td>\n",
       "      <td>...</td>\n",
       "      <td>...</td>\n",
       "      <td>...</td>\n",
       "      <td>...</td>\n",
       "      <td>...</td>\n",
       "      <td>...</td>\n",
       "      <td>...</td>\n",
       "      <td>...</td>\n",
       "      <td>...</td>\n",
       "      <td>...</td>\n",
       "      <td>...</td>\n",
       "      <td>...</td>\n",
       "      <td>...</td>\n",
       "      <td>...</td>\n",
       "      <td>...</td>\n",
       "      <td>...</td>\n",
       "    </tr>\n",
       "    <tr>\n",
       "      <td>60574</td>\n",
       "      <td>1</td>\n",
       "      <td>31/12/2019</td>\n",
       "      <td>Martes</td>\n",
       "      <td>Diciembre</td>\n",
       "      <td>13</td>\n",
       "      <td>0</td>\n",
       "      <td>Tarde</td>\n",
       "      <td>Sin dato documentos</td>\n",
       "      <td>Documentos</td>\n",
       "      <td>Mercancía</td>\n",
       "      <td>...</td>\n",
       "      <td>-75,57235063</td>\n",
       "      <td>6,24905821</td>\n",
       "      <td>Almacén tienda y otro</td>\n",
       "      <td>Económica</td>\n",
       "      <td>50000</td>\n",
       "      <td>Soltero(a)</td>\n",
       "      <td>Caminata</td>\n",
       "      <td>Caminata</td>\n",
       "      <td>Candelaria</td>\n",
       "      <td>No</td>\n",
       "    </tr>\n",
       "    <tr>\n",
       "      <td>60575</td>\n",
       "      <td>1</td>\n",
       "      <td>31/12/2019</td>\n",
       "      <td>Martes</td>\n",
       "      <td>Diciembre</td>\n",
       "      <td>20</td>\n",
       "      <td>0</td>\n",
       "      <td>Noche</td>\n",
       "      <td>Celular</td>\n",
       "      <td>Tecnología</td>\n",
       "      <td>Mercancía</td>\n",
       "      <td>...</td>\n",
       "      <td>-75,55797073</td>\n",
       "      <td>6,24829133</td>\n",
       "      <td>Bus de servicio público</td>\n",
       "      <td>Transporte</td>\n",
       "      <td>4300000</td>\n",
       "      <td>Casado(a)</td>\n",
       "      <td>Taxi</td>\n",
       "      <td>Motocicleta con parrillero</td>\n",
       "      <td>Candelaria</td>\n",
       "      <td>Arma de fuego</td>\n",
       "    </tr>\n",
       "    <tr>\n",
       "      <td>60576</td>\n",
       "      <td>1</td>\n",
       "      <td>31/12/2019</td>\n",
       "      <td>Martes</td>\n",
       "      <td>Diciembre</td>\n",
       "      <td>14</td>\n",
       "      <td>0</td>\n",
       "      <td>Tarde</td>\n",
       "      <td>Peso</td>\n",
       "      <td>Dinero, joyas, piedras preciosas y título valor</td>\n",
       "      <td>Mercancía</td>\n",
       "      <td>...</td>\n",
       "      <td>-75,56622356</td>\n",
       "      <td>6,24795678</td>\n",
       "      <td>Almacén tienda y otro</td>\n",
       "      <td>Económica</td>\n",
       "      <td>700000</td>\n",
       "      <td>Soltero(a)</td>\n",
       "      <td>Caminata</td>\n",
       "      <td>Caminata</td>\n",
       "      <td>Candelaria</td>\n",
       "      <td>No</td>\n",
       "    </tr>\n",
       "    <tr>\n",
       "      <td>60577</td>\n",
       "      <td>1</td>\n",
       "      <td>31/12/2019</td>\n",
       "      <td>Martes</td>\n",
       "      <td>Diciembre</td>\n",
       "      <td>13</td>\n",
       "      <td>0</td>\n",
       "      <td>Tarde</td>\n",
       "      <td>Radio</td>\n",
       "      <td>Tecnología</td>\n",
       "      <td>Mercancía</td>\n",
       "      <td>...</td>\n",
       "      <td>-75,59974741</td>\n",
       "      <td>6,23716185</td>\n",
       "      <td>Casa o apartamento</td>\n",
       "      <td>Habitacional</td>\n",
       "      <td>1000000</td>\n",
       "      <td>Soltero(a)</td>\n",
       "      <td>Caminata</td>\n",
       "      <td>Caminata</td>\n",
       "      <td>Belén</td>\n",
       "      <td>No</td>\n",
       "    </tr>\n",
       "    <tr>\n",
       "      <td>60578</td>\n",
       "      <td>1</td>\n",
       "      <td>31/12/2019</td>\n",
       "      <td>Martes</td>\n",
       "      <td>Diciembre</td>\n",
       "      <td>2</td>\n",
       "      <td>30</td>\n",
       "      <td>Madrugada</td>\n",
       "      <td>Celular</td>\n",
       "      <td>Tecnología</td>\n",
       "      <td>Mercancía</td>\n",
       "      <td>...</td>\n",
       "      <td>-75,56960321</td>\n",
       "      <td>6,24816523</td>\n",
       "      <td>Estación del Metro</td>\n",
       "      <td>Transporte</td>\n",
       "      <td>789000</td>\n",
       "      <td>Soltero(a)</td>\n",
       "      <td>Metro</td>\n",
       "      <td>Metro</td>\n",
       "      <td>Candelaria</td>\n",
       "      <td>No</td>\n",
       "    </tr>\n",
       "  </tbody>\n",
       "</table>\n",
       "<p>60579 rows × 31 columns</p>\n",
       "</div>"
      ],
      "text/plain": [
       "       Caso_Hurto         Dia Dia_nombre Mes_Calendario  Hora_Hurto  \\\n",
       "0               1   1/01/2019     Martes          Enero          18   \n",
       "1               1   1/01/2019     Martes          Enero           9   \n",
       "2               1   1/01/2019     Martes          Enero          11   \n",
       "3               1   1/01/2019     Martes          Enero          22   \n",
       "4               1   1/01/2019     Martes          Enero          20   \n",
       "...           ...         ...        ...            ...         ...   \n",
       "60574           1  31/12/2019     Martes      Diciembre          13   \n",
       "60575           1  31/12/2019     Martes      Diciembre          20   \n",
       "60576           1  31/12/2019     Martes      Diciembre          14   \n",
       "60577           1  31/12/2019     Martes      Diciembre          13   \n",
       "60578           1  31/12/2019     Martes      Diciembre           2   \n",
       "\n",
       "       Minuto_Hurto    Jornada                 Bien  \\\n",
       "0                 0      Noche                 Moto   \n",
       "1                30     Mañana                 Moto   \n",
       "2                15     Mañana                 Moto   \n",
       "3                30      Noche                 Moto   \n",
       "4                40      Noche                 Moto   \n",
       "...             ...        ...                  ...   \n",
       "60574             0      Tarde  Sin dato documentos   \n",
       "60575             0      Noche              Celular   \n",
       "60576             0      Tarde                 Peso   \n",
       "60577             0      Tarde                Radio   \n",
       "60578            30  Madrugada              Celular   \n",
       "\n",
       "                                        Categoria_Bien Grupo_Bien  ...  \\\n",
       "0                            Vehículos de 2 o 4 ruedas   Vehículo  ...   \n",
       "1                            Vehículos de 2 o 4 ruedas   Vehículo  ...   \n",
       "2                            Vehículos de 2 o 4 ruedas   Vehículo  ...   \n",
       "3                            Vehículos de 2 o 4 ruedas   Vehículo  ...   \n",
       "4                            Vehículos de 2 o 4 ruedas   Vehículo  ...   \n",
       "...                                                ...        ...  ...   \n",
       "60574                                       Documentos  Mercancía  ...   \n",
       "60575                                       Tecnología  Mercancía  ...   \n",
       "60576  Dinero, joyas, piedras preciosas y título valor  Mercancía  ...   \n",
       "60577                                       Tecnología  Mercancía  ...   \n",
       "60578                                       Tecnología  Mercancía  ...   \n",
       "\n",
       "        Geo_X_Hurto Geo_Y_Hurto                    Lugar   Grupo_Lugar  \\\n",
       "0      -75,54969917  6,29909867               Residencia  Habitacional   \n",
       "1      -75,53617064  6,22998405               Residencia  Habitacional   \n",
       "2       -75,5571555  6,27821866              Vía pública    Transporte   \n",
       "3      -75,56694979  6,30970945               Residencia  Habitacional   \n",
       "4      -75,55488355  6,24808629              Vía pública    Transporte   \n",
       "...             ...         ...                      ...           ...   \n",
       "60574  -75,57235063  6,24905821    Almacén tienda y otro     Económica   \n",
       "60575  -75,55797073  6,24829133  Bus de servicio público    Transporte   \n",
       "60576  -75,56622356  6,24795678    Almacén tienda y otro     Económica   \n",
       "60577  -75,59974741  6,23716185       Casa o apartamento  Habitacional   \n",
       "60578  -75,56960321  6,24816523       Estación del Metro    Transporte   \n",
       "\n",
       "       Valor_Hurto Estado_Civil Medio_Transporte    Medio_Transporte_Agresor  \\\n",
       "0          5000000   Soltero(a)         Caminata                    Caminata   \n",
       "1          4200000   Soltero(a)         Caminata                    Caminata   \n",
       "2          4000000   Soltero(a)         Caminata                    Caminata   \n",
       "3          2500000    Casado(a)         Caminata                    Caminata   \n",
       "4          3500000   Soltero(a)         Caminata                    Caminata   \n",
       "...            ...          ...              ...                         ...   \n",
       "60574        50000   Soltero(a)         Caminata                    Caminata   \n",
       "60575      4300000    Casado(a)             Taxi  Motocicleta con parrillero   \n",
       "60576       700000   Soltero(a)         Caminata                    Caminata   \n",
       "60577      1000000   Soltero(a)         Caminata                    Caminata   \n",
       "60578       789000   Soltero(a)            Metro                       Metro   \n",
       "\n",
       "      Sede_Receptora     Arma_Medio  \n",
       "0         Santa Cruz  Llave maestra  \n",
       "1       Buenos Aires  Llave maestra  \n",
       "2           Aranjuez             No  \n",
       "3           Castilla  Llave maestra  \n",
       "4         Candelaria  Llave maestra  \n",
       "...              ...            ...  \n",
       "60574     Candelaria             No  \n",
       "60575     Candelaria  Arma de fuego  \n",
       "60576     Candelaria             No  \n",
       "60577          Belén             No  \n",
       "60578     Candelaria             No  \n",
       "\n",
       "[60579 rows x 31 columns]"
      ]
     },
     "execution_count": 3,
     "metadata": {},
     "output_type": "execute_result"
    }
   ],
   "source": [
    "Medellin2019=Medellin[Medellin['Ano'] == 2019].drop(['Ano','Codigo_Stage_Hurto','Hurto','Marca','Modelo_Hurto',\n",
    "                                                     'Grupo_Sede_Receptora','Nombre_Bien_Sijin_Hurto','Color',\n",
    "                                                     'Responsable_Indicador',\n",
    "                                                     'Fecha_Actualización_Hurto'], axis=1)\n",
    "Medellin2019"
   ]
  },
  {
   "cell_type": "markdown",
   "metadata": {
    "colab_type": "text",
    "id": "uK08wBBoHUwB"
   },
   "source": [
    "### Exploración de variables"
   ]
  },
  {
   "cell_type": "markdown",
   "metadata": {
    "colab_type": "text",
    "id": "7MX5paZpHUwC"
   },
   "source": [
    "###### Categorias del bien: \n",
    "Corresponde a la categoría del bien hurtado."
   ]
  },
  {
   "cell_type": "code",
   "execution_count": 4,
   "metadata": {
    "colab": {
     "base_uri": "https://localhost:8080/",
     "height": 624
    },
    "colab_type": "code",
    "id": "9-0jK14UT_ro",
    "outputId": "866c2c46-0434-46bb-b715-184d41abe66b"
   },
   "outputs": [
    {
     "data": {
      "text/plain": [
       "<matplotlib.axes._subplots.AxesSubplot at 0x23179fc3048>"
      ]
     },
     "execution_count": 4,
     "metadata": {},
     "output_type": "execute_result"
    },
    {
     "data": {
      "image/png": "[encoded data removed]",
      "text/plain": [
       "<Figure size 720x720 with 1 Axes>"
      ]
     },
     "metadata": {
      "needs_background": "light"
     },
     "output_type": "display_data"
    }
   ],
   "source": [
    "plt.figure(figsize=(10,10))\n",
    "Medellin2019['Categoria_Bien'].value_counts().plot(kind='barh', title='Categorias del bien')"
   ]
  },
  {
   "cell_type": "code",
   "execution_count": 5,
   "metadata": {
    "colab": {
     "base_uri": "https://localhost:8080/",
     "height": 462
    },
    "colab_type": "code",
    "id": "4OBzDn5mT_rr",
    "outputId": "5e7773c2-9a01-4d87-a597-b359c9c588e3"
   },
   "outputs": [
    {
     "data": {
      "text/html": [
       "<div>\n",
       "<style scoped>\n",
       "    .dataframe tbody tr th:only-of-type {\n",
       "        vertical-align: middle;\n",
       "    }\n",
       "\n",
       "    .dataframe tbody tr th {\n",
       "        vertical-align: top;\n",
       "    }\n",
       "\n",
       "    .dataframe thead th {\n",
       "        text-align: right;\n",
       "    }\n",
       "</style>\n",
       "<table border=\"1\" class=\"dataframe\">\n",
       "  <thead>\n",
       "    <tr style=\"text-align: right;\">\n",
       "      <th></th>\n",
       "      <th>Categoria_Bien</th>\n",
       "    </tr>\n",
       "  </thead>\n",
       "  <tbody>\n",
       "    <tr>\n",
       "      <td>Elementos para la publicidad</td>\n",
       "      <td>1</td>\n",
       "    </tr>\n",
       "    <tr>\n",
       "      <td>Arte</td>\n",
       "      <td>1</td>\n",
       "    </tr>\n",
       "    <tr>\n",
       "      <td>Contundentes</td>\n",
       "      <td>1</td>\n",
       "    </tr>\n",
       "    <tr>\n",
       "      <td>Pólvora</td>\n",
       "      <td>2</td>\n",
       "    </tr>\n",
       "    <tr>\n",
       "      <td>Sin dato mercancías</td>\n",
       "      <td>6</td>\n",
       "    </tr>\n",
       "    <tr>\n",
       "      <td>Elementos para la iluminación</td>\n",
       "      <td>6</td>\n",
       "    </tr>\n",
       "    <tr>\n",
       "      <td>Químicos</td>\n",
       "      <td>6</td>\n",
       "    </tr>\n",
       "    <tr>\n",
       "      <td>Buses</td>\n",
       "      <td>7</td>\n",
       "    </tr>\n",
       "    <tr>\n",
       "      <td>Combustible</td>\n",
       "      <td>8</td>\n",
       "    </tr>\n",
       "    <tr>\n",
       "      <td>Maquinaria pesada</td>\n",
       "      <td>8</td>\n",
       "    </tr>\n",
       "    <tr>\n",
       "      <td>Transporte de carga pesada</td>\n",
       "      <td>14</td>\n",
       "    </tr>\n",
       "    <tr>\n",
       "      <td>Inmuebles</td>\n",
       "      <td>14</td>\n",
       "    </tr>\n",
       "    <tr>\n",
       "      <td>Munición</td>\n",
       "      <td>19</td>\n",
       "    </tr>\n",
       "    <tr>\n",
       "      <td>Equipamiento vías y señalización</td>\n",
       "      <td>20</td>\n",
       "    </tr>\n",
       "  </tbody>\n",
       "</table>\n",
       "</div>"
      ],
      "text/plain": [
       "                                  Categoria_Bien\n",
       "Elementos para la publicidad                   1\n",
       "Arte                                           1\n",
       "Contundentes                                   1\n",
       "Pólvora                                        2\n",
       "Sin dato mercancías                            6\n",
       "Elementos para la iluminación                  6\n",
       "Químicos                                       6\n",
       "Buses                                          7\n",
       "Combustible                                    8\n",
       "Maquinaria pesada                              8\n",
       "Transporte de carga pesada                    14\n",
       "Inmuebles                                     14\n",
       "Munición                                      19\n",
       "Equipamiento vías y señalización              20"
      ]
     },
     "execution_count": 5,
     "metadata": {},
     "output_type": "execute_result"
    }
   ],
   "source": [
    "casos=pd.DataFrame(Medellin2019['Categoria_Bien'].value_counts())\n",
    "casos.sort_values(by=['Categoria_Bien']).head(14)"
   ]
  },
  {
   "cell_type": "code",
   "execution_count": 6,
   "metadata": {
    "colab": {},
    "colab_type": "code",
    "id": "CO172wZXT_ru"
   },
   "outputs": [],
   "source": [
    "filtro_bien=['Contundentes','Arte','Elementos para la publicidad','Pólvora','Químicos','Sin dato mercancías',\n",
    "       'Elementos para la iluminación','Buses','Combustible','Maquinaria pesada','Inmuebles',\n",
    "        'Transporte de carga pesada','Munición','Equipamiento vías y señalización','Sin dato']\n",
    "filtro1=Medellin2019[~Medellin2019['Categoria_Bien'].isin(filtro_bien)]\n"
   ]
  },
  {
   "cell_type": "markdown",
   "metadata": {
    "colab_type": "text",
    "id": "jSV_5vLQHUwK"
   },
   "source": [
    "##### Grupo de bienes"
   ]
  },
  {
   "cell_type": "markdown",
   "metadata": {
    "colab_type": "text",
    "id": "3uA--5ubHUwL"
   },
   "source": [
    "Se realiza filtro proceso de agrupación de las categorias"
   ]
  },
  {
   "cell_type": "code",
   "execution_count": 7,
   "metadata": {
    "colab": {
     "base_uri": "https://localhost:8080/",
     "height": 101
    },
    "colab_type": "code",
    "id": "kqb0kK4gT_r0",
    "outputId": "4aa88eb5-2852-4a56-e994-7b04924348e7"
   },
   "outputs": [
    {
     "name": "stderr",
     "output_type": "stream",
     "text": [
      "C:\\Users\\Familia Zapata\\Anaconda3\\lib\\site-packages\\ipykernel_launcher.py:39: SettingWithCopyWarning: \n",
      "A value is trying to be set on a copy of a slice from a DataFrame.\n",
      "Try using .loc[row_indexer,col_indexer] = value instead\n",
      "\n",
      "See the caveats in the documentation: http://pandas.pydata.org/pandas-docs/stable/user_guide/indexing.html#returning-a-view-versus-a-copy\n"
     ]
    }
   ],
   "source": [
    "Grupo_bienes=[]\n",
    "lista1=['Tecnología','Elementos para guardar o almacenar','Software']\n",
    "lista2=['Dinero, joyas, piedras preciosas y título valor']\n",
    "lista3=['Documentos']\n",
    "lista4=['Vehículos de 2 o 4 ruedas','Automóvil','Autoparte y elementos de la mecánica automotriz','Camionetas','Vehículo panel',\n",
    "    'Transporte aire']\n",
    "lista5=['Prendas de vestir y accesorios']\n",
    "lista6=['Alimento']\n",
    "lista7=['Otros elementos','Elementos escolares','Librería, Papelería y útiles','Equipamiento servicios públicos','Licor',\n",
    "       'Artículos de fumador','Medicamento','Artículos médicos','Elementos para actividades al aire libre','Música']\n",
    "lista8=['Maquinaria y equipo','Herramientas','Materiales y elementos para la construcción','Materia prima']\n",
    "lista9=['Electrodomésticos','Accesorios del hogar','Muebles']\n",
    "lista10=['Arma de fuego','Accesorios militares, policía o vigilancia privada','Arma blanca']\n",
    "lista11=['Fauna','Flora']\n",
    "for i in range(0,len(filtro1)):\n",
    "    if np.array(filtro1.Categoria_Bien)[i] in lista1:\n",
    "        P='Tecnología'\n",
    "    elif np.array(filtro1.Categoria_Bien)[i] in lista2:\n",
    "        P='Dinero'\n",
    "    elif np.array(filtro1.Categoria_Bien)[i] in lista3:  \n",
    "        P='Documentos'\n",
    "    elif np.array(filtro1.Categoria_Bien)[i] in lista4:   \n",
    "        P='Vehículos'\n",
    "    elif np.array(filtro1.Categoria_Bien)[i] in lista5:  \n",
    "        P='Vestuario'\n",
    "    elif np.array(filtro1.Categoria_Bien)[i] in lista6:   \n",
    "        P='Alimentos'\n",
    "    elif np.array(filtro1.Categoria_Bien)[i] in lista7:  \n",
    "        P='Otros elementos'\n",
    "    elif np.array(filtro1.Categoria_Bien)[i] in lista8:   \n",
    "        P='Maquinas y herramientas'\n",
    "    elif np.array(filtro1.Categoria_Bien)[i] in lista9:    \n",
    "        P='Hogar'\n",
    "    elif np.array(filtro1.Categoria_Bien)[i] in lista10:  \n",
    "        P='Armas'\n",
    "    else:\n",
    "        P='Fauna y FLora'\n",
    "    Grupo_bienes.append(P)\n",
    "filtro1['Grupo_bienes']=Grupo_bienes"
   ]
  },
  {
   "cell_type": "code",
   "execution_count": 8,
   "metadata": {
    "colab": {
     "base_uri": "https://localhost:8080/",
     "height": 298
    },
    "colab_type": "code",
    "id": "5Es7ygAbT_r3",
    "outputId": "132a3844-91ab-460c-f630-1bbc485bdf5c"
   },
   "outputs": [
    {
     "data": {
      "text/plain": [
       "<matplotlib.axes._subplots.AxesSubplot at 0x23179f3d308>"
      ]
     },
     "execution_count": 8,
     "metadata": {},
     "output_type": "execute_result"
    },
    {
     "data": {
      "image/png": "[encoded data removed]",
      "text/plain": [
       "<Figure size 432x288 with 1 Axes>"
      ]
     },
     "metadata": {
      "needs_background": "light"
     },
     "output_type": "display_data"
    }
   ],
   "source": [
    "filtro1['Grupo_bienes'].value_counts().plot(kind='barh', title='Grupos bien')"
   ]
  },
  {
   "cell_type": "markdown",
   "metadata": {
    "colab_type": "text",
    "id": "YbEDhsrWHUwP"
   },
   "source": [
    "#### Modalidad \n",
    "Corresponde al tipo de hurto realizado"
   ]
  },
  {
   "cell_type": "code",
   "execution_count": 9,
   "metadata": {
    "colab": {
     "base_uri": "https://localhost:8080/",
     "height": 407
    },
    "colab_type": "code",
    "id": "HSrwBg_wT_r6",
    "outputId": "a4a298a3-a529-414c-909c-b3cd9fc92ba8"
   },
   "outputs": [
    {
     "data": {
      "text/plain": [
       "<matplotlib.axes._subplots.AxesSubplot at 0x23179e706c8>"
      ]
     },
     "execution_count": 9,
     "metadata": {},
     "output_type": "execute_result"
    },
    {
     "data": {
      "image/png": "[encoded data removed]",
      "text/plain": [
       "<Figure size 720x432 with 1 Axes>"
      ]
     },
     "metadata": {
      "needs_background": "light"
     },
     "output_type": "display_data"
    }
   ],
   "source": [
    "plt.figure(figsize=(10,6))\n",
    "filtro1['Modalidad'].value_counts().plot(kind='barh', title='Modalidad')"
   ]
  },
  {
   "cell_type": "code",
   "execution_count": 10,
   "metadata": {
    "colab": {},
    "colab_type": "code",
    "id": "FUKC32OiT_r8"
   },
   "outputs": [],
   "source": [
    "Med2019=filtro1[filtro1['Modalidad'] != 'Sin dato']"
   ]
  },
  {
   "cell_type": "markdown",
   "metadata": {
    "colab_type": "text",
    "id": "W01hJCGNHUwV"
   },
   "source": [
    "Se convierten las datos a fechas"
   ]
  },
  {
   "cell_type": "code",
   "execution_count": 11,
   "metadata": {
    "colab": {
     "base_uri": "https://localhost:8080/",
     "height": 218
    },
    "colab_type": "code",
    "id": "3I7XEurKT_sB",
    "outputId": "64fdaaab-7ab4-4206-e819-7f567755a94b"
   },
   "outputs": [
    {
     "name": "stderr",
     "output_type": "stream",
     "text": [
      "C:\\Users\\Familia Zapata\\Anaconda3\\lib\\site-packages\\ipykernel_launcher.py:1: SettingWithCopyWarning: \n",
      "A value is trying to be set on a copy of a slice from a DataFrame.\n",
      "Try using .loc[row_indexer,col_indexer] = value instead\n",
      "\n",
      "See the caveats in the documentation: http://pandas.pydata.org/pandas-docs/stable/user_guide/indexing.html#returning-a-view-versus-a-copy\n",
      "  \"\"\"Entry point for launching an IPython kernel.\n",
      "C:\\Users\\Familia Zapata\\Anaconda3\\lib\\site-packages\\ipykernel_launcher.py:2: SettingWithCopyWarning: \n",
      "A value is trying to be set on a copy of a slice from a DataFrame.\n",
      "Try using .loc[row_indexer,col_indexer] = value instead\n",
      "\n",
      "See the caveats in the documentation: http://pandas.pydata.org/pandas-docs/stable/user_guide/indexing.html#returning-a-view-versus-a-copy\n",
      "  \n"
     ]
    }
   ],
   "source": [
    "Med2019[\"convertido\"]=pd.to_datetime(Med2019[\"Dia\"],dayfirst=True)\n",
    "Med2019[\"day\"]=Med2019[\"convertido\"].apply(lambda row:row.day)"
   ]
  },
  {
   "cell_type": "markdown",
   "metadata": {
    "colab_type": "text",
    "id": "xqJPo4GnHUwX"
   },
   "source": [
    "#### Días calendario"
   ]
  },
  {
   "cell_type": "markdown",
   "metadata": {
    "colab_type": "text",
    "id": "HpW_JWM8HUwY"
   },
   "source": [
    "Basado en análisis descriptivos se crean grupos de días "
   ]
  },
  {
   "cell_type": "code",
   "execution_count": 12,
   "metadata": {
    "colab": {
     "base_uri": "https://localhost:8080/",
     "height": 281
    },
    "colab_type": "code",
    "id": "BCkiAFlcT_sG",
    "outputId": "ae547421-9c65-44f8-97ae-1e3583b21df8"
   },
   "outputs": [
    {
     "data": {
      "image/png": "[encoded data removed]",
      "text/plain": [
       "<Figure size 432x288 with 1 Axes>"
      ]
     },
     "metadata": {
      "needs_background": "light"
     },
     "output_type": "display_data"
    }
   ],
   "source": [
    "plt.title('Días calendario hurtos')\n",
    "plt.hist(Med2019['day'],bins=60)\n",
    "plt.show()"
   ]
  },
  {
   "cell_type": "code",
   "execution_count": 13,
   "metadata": {
    "colab": {
     "base_uri": "https://localhost:8080/",
     "height": 118
    },
    "colab_type": "code",
    "id": "kR9FZkN1T_sJ",
    "outputId": "edc21787-1cec-443e-b665-687fd1942c2c"
   },
   "outputs": [
    {
     "name": "stderr",
     "output_type": "stream",
     "text": [
      "C:\\Users\\Familia Zapata\\Anaconda3\\lib\\site-packages\\ipykernel_launcher.py:14: SettingWithCopyWarning: \n",
      "A value is trying to be set on a copy of a slice from a DataFrame.\n",
      "Try using .loc[row_indexer,col_indexer] = value instead\n",
      "\n",
      "See the caveats in the documentation: http://pandas.pydata.org/pandas-docs/stable/user_guide/indexing.html#returning-a-view-versus-a-copy\n",
      "  \n"
     ]
    }
   ],
   "source": [
    "Grupo_dia1=[]\n",
    "for i in range(0,len(Med2019)):\n",
    "    if np.array(Med2019.day)[i]<=7:\n",
    "        P=0\n",
    "    elif np.array(Med2019.day)[i]>7 and np.array(Med2019.day)[i]<=15:\n",
    "        P=1\n",
    "    elif np.array(Med2019.day)[i]>15 and np.array(Med2019.day)[i]<=23:  \n",
    "        P=2\n",
    "    elif np.array(Med2019.day)[i]>23: \n",
    "        P=3\n",
    "    else:\n",
    "        P=0\n",
    "    Grupo_dia1.append(P)\n",
    "Med2019['Grupo_dia1']=Grupo_dia1"
   ]
  },
  {
   "cell_type": "code",
   "execution_count": 14,
   "metadata": {
    "colab": {
     "base_uri": "https://localhost:8080/",
     "height": 118
    },
    "colab_type": "code",
    "id": "fbFMIN4tT_sL",
    "outputId": "ccc19599-c876-4f83-bdef-880c80f45afc"
   },
   "outputs": [
    {
     "name": "stderr",
     "output_type": "stream",
     "text": [
      "C:\\Users\\Familia Zapata\\Anaconda3\\lib\\site-packages\\ipykernel_launcher.py:15: SettingWithCopyWarning: \n",
      "A value is trying to be set on a copy of a slice from a DataFrame.\n",
      "Try using .loc[row_indexer,col_indexer] = value instead\n",
      "\n",
      "See the caveats in the documentation: http://pandas.pydata.org/pandas-docs/stable/user_guide/indexing.html#returning-a-view-versus-a-copy\n",
      "  from ipykernel import kernelapp as app\n"
     ]
    }
   ],
   "source": [
    "Grupo_dia2=[]\n",
    "lista1=[2,4,5,6,8,9,11,15,16,30]\n",
    "lista2=[1,2,10,12,18,21,22,23,27,28]\n",
    "lista3=[3,13,14,17,19,20,24,25,26,29,31]\n",
    "for i in range(0,len(Med2019)):\n",
    "    if np.array(Med2019.day)[i] in lista1:\n",
    "        P=0\n",
    "    elif np.array(Med2019.day)[i] in lista2:\n",
    "        P=1\n",
    "    elif np.array(Med2019.day)[i] in lista3:  \n",
    "        P=2\n",
    "    else:\n",
    "        P=0\n",
    "    Grupo_dia2.append(P)\n",
    "Med2019['Grupo_dia2']=Grupo_dia2"
   ]
  },
  {
   "cell_type": "markdown",
   "metadata": {
    "colab_type": "text",
    "id": "6PNYFFelHUwf"
   },
   "source": [
    "### Día nombre\n",
    "Nombre del día de la semana en que se ejecuto el atraco"
   ]
  },
  {
   "cell_type": "code",
   "execution_count": 15,
   "metadata": {
    "colab": {
     "base_uri": "https://localhost:8080/",
     "height": 336
    },
    "colab_type": "code",
    "id": "QMyBqWVYT_sN",
    "outputId": "d29e517d-23a1-4a93-da9a-062a9d74c429",
    "scrolled": true
   },
   "outputs": [
    {
     "data": {
      "text/plain": [
       "<matplotlib.axes._subplots.AxesSubplot at 0x23100323cc8>"
      ]
     },
     "execution_count": 15,
     "metadata": {},
     "output_type": "execute_result"
    },
    {
     "data": {
      "image/png": "[encoded data removed]",
      "text/plain": [
       "<Figure size 432x288 with 1 Axes>"
      ]
     },
     "metadata": {
      "needs_background": "light"
     },
     "output_type": "display_data"
    }
   ],
   "source": [
    "Med2019['Dia_nombre'].value_counts().plot(kind='bar', title='Nombre día')"
   ]
  },
  {
   "cell_type": "markdown",
   "metadata": {
    "colab_type": "text",
    "id": "2gZDDq8vHUwj"
   },
   "source": [
    "#### Grupo Hora\n",
    "\n",
    "Corresponde a la hora en que fue realizado el hurto, por lo cual se realiza la grupación enfocada en rangos de horario"
   ]
  },
  {
   "cell_type": "code",
   "execution_count": 16,
   "metadata": {
    "colab": {
     "base_uri": "https://localhost:8080/",
     "height": 118
    },
    "colab_type": "code",
    "id": "uAFGsbwlT_sP",
    "outputId": "d6c5d3cf-2c05-4277-f907-4e7350f36042"
   },
   "outputs": [
    {
     "name": "stderr",
     "output_type": "stream",
     "text": [
      "C:\\Users\\Familia Zapata\\Anaconda3\\lib\\site-packages\\ipykernel_launcher.py:14: SettingWithCopyWarning: \n",
      "A value is trying to be set on a copy of a slice from a DataFrame.\n",
      "Try using .loc[row_indexer,col_indexer] = value instead\n",
      "\n",
      "See the caveats in the documentation: http://pandas.pydata.org/pandas-docs/stable/user_guide/indexing.html#returning-a-view-versus-a-copy\n",
      "  \n"
     ]
    }
   ],
   "source": [
    "Grupo_hora=[]\n",
    "for i in range(0,len(Med2019)):\n",
    "    if np.array(Med2019.loc[:,['Hora_Hurto']])[i]<=7:\n",
    "        P=0\n",
    "    elif np.array(Med2019.loc[:,['Hora_Hurto']])[i]>7 and np.array(Med2019.loc[:,['Hora_Hurto']])[i]<=12:\n",
    "        P=1\n",
    "    elif np.array(Med2019.loc[:,['Hora_Hurto']])[i]>12 and np.array(Med2019.loc[:,['Hora_Hurto']])[i]<=18:  \n",
    "        P=2\n",
    "    elif np.array(Med2019.loc[:,['Hora_Hurto']])[i]>18: \n",
    "        P=3\n",
    "    else:\n",
    "        P=0\n",
    "    Grupo_hora.append(P)\n",
    "Med2019['Grupo_hora']=Grupo_hora"
   ]
  },
  {
   "cell_type": "code",
   "execution_count": 17,
   "metadata": {
    "colab": {
     "base_uri": "https://localhost:8080/",
     "height": 101
    },
    "colab_type": "code",
    "id": "MiTjn90wT_sR",
    "outputId": "b1f7dcd5-56a6-4acf-e321-c3b785badc89"
   },
   "outputs": [
    {
     "name": "stderr",
     "output_type": "stream",
     "text": [
      "C:\\Users\\Familia Zapata\\Anaconda3\\lib\\site-packages\\ipykernel_launcher.py:18: SettingWithCopyWarning: \n",
      "A value is trying to be set on a copy of a slice from a DataFrame.\n",
      "Try using .loc[row_indexer,col_indexer] = value instead\n",
      "\n",
      "See the caveats in the documentation: http://pandas.pydata.org/pandas-docs/stable/user_guide/indexing.html#returning-a-view-versus-a-copy\n"
     ]
    }
   ],
   "source": [
    "Grupo_hora2=[]\n",
    "lista1=[20,19,18,10,11,21]\n",
    "lista2=[17,7,15,16,12,9]\n",
    "lista3=[6,14,8,5,13,3]\n",
    "lista4=[22,2,4,0,1,23]\n",
    "for i in range(0,len(Med2019)):\n",
    "    if np.array(Med2019.Hora_Hurto)[i] in lista1:\n",
    "        P=0\n",
    "    elif np.array(Med2019.Hora_Hurto)[i] in lista2:\n",
    "        P=1\n",
    "    elif np.array(Med2019.Hora_Hurto)[i] in lista3:  \n",
    "        P=2\n",
    "    elif np.array(Med2019.Hora_Hurto)[i] in lista4:  \n",
    "        P=3\n",
    "    else:\n",
    "        P=0\n",
    "    Grupo_hora2.append(P)\n",
    "Med2019['Grupo_hora2']=Grupo_hora2"
   ]
  },
  {
   "cell_type": "markdown",
   "metadata": {
    "colab_type": "text",
    "id": "PLF0CLi5HUwo"
   },
   "source": [
    "#### Mes calendario\n",
    "Mes del año en el que se ejecuto el hurto"
   ]
  },
  {
   "cell_type": "code",
   "execution_count": 18,
   "metadata": {
    "colab": {
     "base_uri": "https://localhost:8080/",
     "height": 346
    },
    "colab_type": "code",
    "id": "nax7QoDDT_sW",
    "outputId": "3a5b39d1-61e0-4332-c70f-c0ee48d31ef4"
   },
   "outputs": [
    {
     "data": {
      "text/plain": [
       "<matplotlib.axes._subplots.AxesSubplot at 0x23100387648>"
      ]
     },
     "execution_count": 18,
     "metadata": {},
     "output_type": "execute_result"
    },
    {
     "data": {
      "image/png": "[encoded data removed]",
      "text/plain": [
       "<Figure size 432x288 with 1 Axes>"
      ]
     },
     "metadata": {
      "needs_background": "light"
     },
     "output_type": "display_data"
    }
   ],
   "source": [
    "Med2019['Mes_Calendario'].value_counts().plot(kind='bar', title='Meses de los hurtos')"
   ]
  },
  {
   "cell_type": "markdown",
   "metadata": {
    "colab_type": "text",
    "id": "-E58ZwgsHUwr"
   },
   "source": [
    "### Sede receptora\n",
    "Sede donde se recpciono la denuncia del hurto"
   ]
  },
  {
   "cell_type": "code",
   "execution_count": 19,
   "metadata": {
    "colab": {
     "base_uri": "https://localhost:8080/",
     "height": 396
    },
    "colab_type": "code",
    "id": "KhFgl8EBT_sY",
    "outputId": "6b2c4a65-7277-4427-e721-d623916d9a19"
   },
   "outputs": [
    {
     "data": {
      "text/plain": [
       "<matplotlib.axes._subplots.AxesSubplot at 0x2310008a588>"
      ]
     },
     "execution_count": 19,
     "metadata": {},
     "output_type": "execute_result"
    },
    {
     "data": {
      "image/png": "[encoded data removed]",
      "text/plain": [
       "<Figure size 432x288 with 1 Axes>"
      ]
     },
     "metadata": {
      "needs_background": "light"
     },
     "output_type": "display_data"
    }
   ],
   "source": [
    "Med2019['Sede_Receptora'].value_counts().plot(kind='bar', title='Cantidad de hurtos atentido por sede')"
   ]
  },
  {
   "cell_type": "code",
   "execution_count": 23,
   "metadata": {
    "colab": {
     "base_uri": "https://localhost:8080/",
     "height": 185
    },
    "colab_type": "code",
    "id": "BNSFc2A2T_sa",
    "outputId": "42054151-bdc5-4c82-837d-e51430e0f0d4"
   },
   "outputs": [
    {
     "data": {
      "text/plain": [
       "Index(['Caso_Hurto', 'Dia', 'Dia_nombre', 'Mes_Calendario', 'Hora_Hurto',\n",
       "       'Minuto_Hurto', 'Jornada', 'Bien', 'Categoria_Bien', 'Grupo_Bien',\n",
       "       'Conducta_Especial', 'Conducta', 'Modalidad', 'Sexo', 'Edad_Hurto',\n",
       "       'Rango_Edad', 'Rango_Edad_Pisc', 'Cod._Barrio', 'Barrio', 'Cod._Comuna',\n",
       "       'Comuna', 'Geo_X_Hurto', 'Geo_Y_Hurto', 'Lugar', 'Grupo_Lugar',\n",
       "       'Valor_Hurto', 'Estado_Civil', 'Medio_Transporte',\n",
       "       'Medio_Transporte_Agresor', 'Sede_Receptora', 'Arma_Medio',\n",
       "       'Grupo_bienes', 'convertido', 'day', 'Grupo_dia1', 'Grupo_dia2',\n",
       "       'Grupo_hora', 'Grupo_hora2'],\n",
       "      dtype='object')"
      ]
     },
     "execution_count": 23,
     "metadata": {},
     "output_type": "execute_result"
    }
   ],
   "source": [
    "Med2019.columns"
   ]
  },
  {
   "cell_type": "code",
   "execution_count": 24,
   "metadata": {
    "colab": {
     "base_uri": "https://localhost:8080/",
     "height": 299
    },
    "colab_type": "code",
    "id": "P9CF01M4T_sc",
    "outputId": "c1209e6f-e22c-41de-ac20-c0eb4419fa69"
   },
   "outputs": [
    {
     "data": {
      "text/html": [
       "<div>\n",
       "<style scoped>\n",
       "    .dataframe tbody tr th:only-of-type {\n",
       "        vertical-align: middle;\n",
       "    }\n",
       "\n",
       "    .dataframe tbody tr th {\n",
       "        vertical-align: top;\n",
       "    }\n",
       "\n",
       "    .dataframe thead th {\n",
       "        text-align: right;\n",
       "    }\n",
       "</style>\n",
       "<table border=\"1\" class=\"dataframe\">\n",
       "  <thead>\n",
       "    <tr style=\"text-align: right;\">\n",
       "      <th></th>\n",
       "      <th>Caso_Hurto</th>\n",
       "      <th>Dia</th>\n",
       "      <th>Dia_nombre</th>\n",
       "      <th>Mes_Calendario</th>\n",
       "      <th>Hora_Hurto</th>\n",
       "      <th>Minuto_Hurto</th>\n",
       "      <th>Jornada</th>\n",
       "      <th>Bien</th>\n",
       "      <th>Categoria_Bien</th>\n",
       "      <th>Grupo_Bien</th>\n",
       "      <th>...</th>\n",
       "      <th>Medio_Transporte_Agresor</th>\n",
       "      <th>Sede_Receptora</th>\n",
       "      <th>Arma_Medio</th>\n",
       "      <th>Grupo_bienes</th>\n",
       "      <th>convertido</th>\n",
       "      <th>day</th>\n",
       "      <th>Grupo_dia1</th>\n",
       "      <th>Grupo_dia2</th>\n",
       "      <th>Grupo_hora</th>\n",
       "      <th>Grupo_hora2</th>\n",
       "    </tr>\n",
       "  </thead>\n",
       "  <tbody>\n",
       "    <tr>\n",
       "      <td>0</td>\n",
       "      <td>1</td>\n",
       "      <td>1/01/2019</td>\n",
       "      <td>Martes</td>\n",
       "      <td>Enero</td>\n",
       "      <td>18</td>\n",
       "      <td>0</td>\n",
       "      <td>Noche</td>\n",
       "      <td>Moto</td>\n",
       "      <td>Vehículos de 2 o 4 ruedas</td>\n",
       "      <td>Vehículo</td>\n",
       "      <td>...</td>\n",
       "      <td>Caminata</td>\n",
       "      <td>Santa Cruz</td>\n",
       "      <td>Llave maestra</td>\n",
       "      <td>Vehículos</td>\n",
       "      <td>2019-01-01</td>\n",
       "      <td>1</td>\n",
       "      <td>0</td>\n",
       "      <td>1</td>\n",
       "      <td>2</td>\n",
       "      <td>0</td>\n",
       "    </tr>\n",
       "    <tr>\n",
       "      <td>1</td>\n",
       "      <td>1</td>\n",
       "      <td>1/01/2019</td>\n",
       "      <td>Martes</td>\n",
       "      <td>Enero</td>\n",
       "      <td>9</td>\n",
       "      <td>30</td>\n",
       "      <td>Mañana</td>\n",
       "      <td>Moto</td>\n",
       "      <td>Vehículos de 2 o 4 ruedas</td>\n",
       "      <td>Vehículo</td>\n",
       "      <td>...</td>\n",
       "      <td>Caminata</td>\n",
       "      <td>Buenos Aires</td>\n",
       "      <td>Llave maestra</td>\n",
       "      <td>Vehículos</td>\n",
       "      <td>2019-01-01</td>\n",
       "      <td>1</td>\n",
       "      <td>0</td>\n",
       "      <td>1</td>\n",
       "      <td>1</td>\n",
       "      <td>1</td>\n",
       "    </tr>\n",
       "    <tr>\n",
       "      <td>2</td>\n",
       "      <td>1</td>\n",
       "      <td>1/01/2019</td>\n",
       "      <td>Martes</td>\n",
       "      <td>Enero</td>\n",
       "      <td>11</td>\n",
       "      <td>15</td>\n",
       "      <td>Mañana</td>\n",
       "      <td>Moto</td>\n",
       "      <td>Vehículos de 2 o 4 ruedas</td>\n",
       "      <td>Vehículo</td>\n",
       "      <td>...</td>\n",
       "      <td>Caminata</td>\n",
       "      <td>Aranjuez</td>\n",
       "      <td>No</td>\n",
       "      <td>Vehículos</td>\n",
       "      <td>2019-01-01</td>\n",
       "      <td>1</td>\n",
       "      <td>0</td>\n",
       "      <td>1</td>\n",
       "      <td>1</td>\n",
       "      <td>0</td>\n",
       "    </tr>\n",
       "    <tr>\n",
       "      <td>3</td>\n",
       "      <td>1</td>\n",
       "      <td>1/01/2019</td>\n",
       "      <td>Martes</td>\n",
       "      <td>Enero</td>\n",
       "      <td>22</td>\n",
       "      <td>30</td>\n",
       "      <td>Noche</td>\n",
       "      <td>Moto</td>\n",
       "      <td>Vehículos de 2 o 4 ruedas</td>\n",
       "      <td>Vehículo</td>\n",
       "      <td>...</td>\n",
       "      <td>Caminata</td>\n",
       "      <td>Castilla</td>\n",
       "      <td>Llave maestra</td>\n",
       "      <td>Vehículos</td>\n",
       "      <td>2019-01-01</td>\n",
       "      <td>1</td>\n",
       "      <td>0</td>\n",
       "      <td>1</td>\n",
       "      <td>3</td>\n",
       "      <td>3</td>\n",
       "    </tr>\n",
       "    <tr>\n",
       "      <td>4</td>\n",
       "      <td>1</td>\n",
       "      <td>1/01/2019</td>\n",
       "      <td>Martes</td>\n",
       "      <td>Enero</td>\n",
       "      <td>20</td>\n",
       "      <td>40</td>\n",
       "      <td>Noche</td>\n",
       "      <td>Moto</td>\n",
       "      <td>Vehículos de 2 o 4 ruedas</td>\n",
       "      <td>Vehículo</td>\n",
       "      <td>...</td>\n",
       "      <td>Caminata</td>\n",
       "      <td>Candelaria</td>\n",
       "      <td>Llave maestra</td>\n",
       "      <td>Vehículos</td>\n",
       "      <td>2019-01-01</td>\n",
       "      <td>1</td>\n",
       "      <td>0</td>\n",
       "      <td>1</td>\n",
       "      <td>3</td>\n",
       "      <td>0</td>\n",
       "    </tr>\n",
       "  </tbody>\n",
       "</table>\n",
       "<p>5 rows × 38 columns</p>\n",
       "</div>"
      ],
      "text/plain": [
       "   Caso_Hurto        Dia Dia_nombre Mes_Calendario  Hora_Hurto  Minuto_Hurto  \\\n",
       "0           1  1/01/2019     Martes          Enero          18             0   \n",
       "1           1  1/01/2019     Martes          Enero           9            30   \n",
       "2           1  1/01/2019     Martes          Enero          11            15   \n",
       "3           1  1/01/2019     Martes          Enero          22            30   \n",
       "4           1  1/01/2019     Martes          Enero          20            40   \n",
       "\n",
       "  Jornada  Bien             Categoria_Bien Grupo_Bien  ...  \\\n",
       "0   Noche  Moto  Vehículos de 2 o 4 ruedas   Vehículo  ...   \n",
       "1  Mañana  Moto  Vehículos de 2 o 4 ruedas   Vehículo  ...   \n",
       "2  Mañana  Moto  Vehículos de 2 o 4 ruedas   Vehículo  ...   \n",
       "3   Noche  Moto  Vehículos de 2 o 4 ruedas   Vehículo  ...   \n",
       "4   Noche  Moto  Vehículos de 2 o 4 ruedas   Vehículo  ...   \n",
       "\n",
       "  Medio_Transporte_Agresor Sede_Receptora     Arma_Medio Grupo_bienes  \\\n",
       "0                 Caminata     Santa Cruz  Llave maestra    Vehículos   \n",
       "1                 Caminata   Buenos Aires  Llave maestra    Vehículos   \n",
       "2                 Caminata       Aranjuez             No    Vehículos   \n",
       "3                 Caminata       Castilla  Llave maestra    Vehículos   \n",
       "4                 Caminata     Candelaria  Llave maestra    Vehículos   \n",
       "\n",
       "   convertido day Grupo_dia1 Grupo_dia2 Grupo_hora Grupo_hora2  \n",
       "0  2019-01-01   1          0          1          2           0  \n",
       "1  2019-01-01   1          0          1          1           1  \n",
       "2  2019-01-01   1          0          1          1           0  \n",
       "3  2019-01-01   1          0          1          3           3  \n",
       "4  2019-01-01   1          0          1          3           0  \n",
       "\n",
       "[5 rows x 38 columns]"
      ]
     },
     "execution_count": 24,
     "metadata": {},
     "output_type": "execute_result"
    }
   ],
   "source": [
    "Med2019.head()"
   ]
  },
  {
   "cell_type": "markdown",
   "metadata": {
    "colab_type": "text",
    "id": "ZipzlmA5HUwx"
   },
   "source": [
    "### Categorización de datos"
   ]
  },
  {
   "cell_type": "markdown",
   "metadata": {
    "colab": {
     "base_uri": "https://localhost:8080/",
     "height": 148
    },
    "colab_type": "code",
    "id": "y434vY0obawb",
    "outputId": "a61a4558-4a6f-4a73-9c3a-5b08d046b1c8"
   },
   "source": [
    "Nuestro set de datos cuenta con un 97% de variables categóricas, con el fin de tener datos homogéneos y listos para ser entrenados, a través de nuestra herramienta objetivo Python realizamos una categorización numérica para nuestras variables categóricas."
   ]
  },
  {
   "cell_type": "markdown",
   "metadata": {
    "colab_type": "text",
    "id": "0Jas3VF9HUwH"
   },
   "source": [
    "Se realiza filtro de categorias las cuales no son objeto del estudio, ya que fueron agrupadas en procedimientos anteriores"
   ]
  },
  {
   "cell_type": "code",
   "execution_count": 59,
   "metadata": {
    "colab": {},
    "colab_type": "code",
    "id": "L9zsET_gZmQa",
    "scrolled": true
   },
   "outputs": [],
   "source": [
    "basehurtosdef=Med2019.drop(['Dia','convertido'], axis=1)\n",
    "basehurtosdefc = basehurtosdef\n",
    "basehurtosdefc['Caso_Hurto']=basehurtosdefc.Caso_Hurto.astype(\"category\").cat.codes\n",
    "basehurtosdefc= basehurtosdefc.drop(['Mes_Calendario','Caso_Hurto','Barrio','Medio_Transporte','Categoria_Bien','Edad_Hurto','day','Minuto_Hurto','Grupo_Bien','Conducta_Especial','Conducta','Conducta','Cod._Barrio','Cod._Barrio','Cod._Comuna','Lugar','Estado_Civil','Bien','Dia_nombre','Hora_Hurto'], axis= 1)"
   ]
  },
  {
   "cell_type": "markdown",
   "metadata": {
    "colab_type": "text",
    "id": "trKZX2b_HUw5"
   },
   "source": [
    "### Transformamos las etiquetas en categorías"
   ]
  },
  {
   "cell_type": "code",
   "execution_count": 60,
   "metadata": {
    "colab": {},
    "colab_type": "code",
    "id": "b-7BK8ccbovK"
   },
   "outputs": [],
   "source": [
    "basehurtosdefc.rename(columns={'Cod._Comuna':'Cod_Comuna','Cod._Barrio':'Cod_Barrio'},inplace=True)"
   ]
  },
  {
   "cell_type": "code",
   "execution_count": 61,
   "metadata": {
    "colab": {},
    "colab_type": "code",
    "id": "27nOWxVIbtYS"
   },
   "outputs": [],
   "source": [
    "basehurtosdefc['Jornada']=basehurtosdefc.Jornada.astype(\"category\").cat.codes\n",
    "basehurtosdefc['Modalidad']=basehurtosdefc.Modalidad.astype(\"category\").cat.codes\n",
    "basehurtosdefc['Sexo']=basehurtosdefc.Sexo.astype(\"category\").cat.codes\n",
    "basehurtosdefc['Rango_Edad']=basehurtosdefc.Rango_Edad.astype(\"category\").cat.codes\n",
    "basehurtosdefc['Rango_Edad_Pisc']=basehurtosdefc.Rango_Edad_Pisc.astype(\"category\").cat.codes\n",
    "basehurtosdefc['Comuna']=basehurtosdefc.Comuna.astype(\"category\").cat.codes\n",
    "basehurtosdefc['Grupo_Lugar']=basehurtosdefc.Grupo_Lugar.astype(\"category\").cat.codes\n",
    "basehurtosdefc['Valor_Hurto']=basehurtosdefc.Valor_Hurto.astype(\"category\").cat.codes\n",
    "basehurtosdefc['Medio_Transporte_Agresor']=basehurtosdefc.Medio_Transporte_Agresor.astype(\"category\").cat.codes\n",
    "basehurtosdefc['Sede_Receptora']=basehurtosdefc.Sede_Receptora.astype(\"category\").cat.codes\n",
    "basehurtosdefc['Arma_Medio']=basehurtosdefc.Arma_Medio.astype(\"category\").cat.codes\n",
    "basehurtosdefc['Grupo_bienes']=basehurtosdefc.Grupo_bienes.astype(\"category\").cat.codes"
   ]
  },
  {
   "cell_type": "code",
   "execution_count": 62,
   "metadata": {},
   "outputs": [
    {
     "data": {
      "text/plain": [
       "Index(['Jornada', 'Modalidad', 'Sexo', 'Rango_Edad', 'Rango_Edad_Pisc',\n",
       "       'Comuna', 'Geo_X_Hurto', 'Geo_Y_Hurto', 'Grupo_Lugar', 'Valor_Hurto',\n",
       "       'Medio_Transporte_Agresor', 'Sede_Receptora', 'Arma_Medio',\n",
       "       'Grupo_bienes', 'Grupo_dia1', 'Grupo_dia2', 'Grupo_hora',\n",
       "       'Grupo_hora2'],\n",
       "      dtype='object')"
      ]
     },
     "execution_count": 62,
     "metadata": {},
     "output_type": "execute_result"
    }
   ],
   "source": [
    "basehurtosdefc.reset_index()\n",
    "basehurtosdefc.columns"
   ]
  },
  {
   "cell_type": "markdown",
   "metadata": {
    "colab_type": "text",
    "id": "c8sv38OXHUw-"
   },
   "source": [
    "Se elimina la categoría bien y categoria bien, los cuales estan resumidos en la categoría creada Grupo_Bien, ya que no se quiere generar redundancia"
   ]
  },
  {
   "cell_type": "code",
   "execution_count": 39,
   "metadata": {
    "colab": {},
    "colab_type": "code",
    "id": "FM0GlPu-HUw-"
   },
   "outputs": [
    {
     "data": {
      "text/html": [
       "<div>\n",
       "<style scoped>\n",
       "    .dataframe tbody tr th:only-of-type {\n",
       "        vertical-align: middle;\n",
       "    }\n",
       "\n",
       "    .dataframe tbody tr th {\n",
       "        vertical-align: top;\n",
       "    }\n",
       "\n",
       "    .dataframe thead th {\n",
       "        text-align: right;\n",
       "    }\n",
       "</style>\n",
       "<table border=\"1\" class=\"dataframe\">\n",
       "  <thead>\n",
       "    <tr style=\"text-align: right;\">\n",
       "      <th></th>\n",
       "      <th>Jornada</th>\n",
       "      <th>Modalidad</th>\n",
       "      <th>Sexo</th>\n",
       "      <th>Rango_Edad</th>\n",
       "      <th>Rango_Edad_Pisc</th>\n",
       "      <th>Comuna</th>\n",
       "      <th>Grupo_Lugar</th>\n",
       "      <th>Valor_Hurto</th>\n",
       "      <th>Medio_Transporte_Agresor</th>\n",
       "      <th>Sede_Receptora</th>\n",
       "      <th>Arma_Medio</th>\n",
       "      <th>Grupo_bienes</th>\n",
       "      <th>Grupo_dia1</th>\n",
       "      <th>Grupo_dia2</th>\n",
       "      <th>Grupo_hora</th>\n",
       "      <th>Grupo_hora2</th>\n",
       "    </tr>\n",
       "  </thead>\n",
       "  <tbody>\n",
       "    <tr>\n",
       "      <td>0</td>\n",
       "      <td>2</td>\n",
       "      <td>7</td>\n",
       "      <td>0</td>\n",
       "      <td>4</td>\n",
       "      <td>2</td>\n",
       "      <td>8</td>\n",
       "      <td>3</td>\n",
       "      <td>2996</td>\n",
       "      <td>3</td>\n",
       "      <td>17</td>\n",
       "      <td>3</td>\n",
       "      <td>9</td>\n",
       "      <td>0</td>\n",
       "      <td>1</td>\n",
       "      <td>2</td>\n",
       "      <td>0</td>\n",
       "    </tr>\n",
       "    <tr>\n",
       "      <td>1</td>\n",
       "      <td>1</td>\n",
       "      <td>7</td>\n",
       "      <td>0</td>\n",
       "      <td>4</td>\n",
       "      <td>2</td>\n",
       "      <td>19</td>\n",
       "      <td>3</td>\n",
       "      <td>2905</td>\n",
       "      <td>3</td>\n",
       "      <td>3</td>\n",
       "      <td>3</td>\n",
       "      <td>9</td>\n",
       "      <td>0</td>\n",
       "      <td>1</td>\n",
       "      <td>1</td>\n",
       "      <td>1</td>\n",
       "    </tr>\n",
       "    <tr>\n",
       "      <td>2</td>\n",
       "      <td>1</td>\n",
       "      <td>7</td>\n",
       "      <td>1</td>\n",
       "      <td>4</td>\n",
       "      <td>2</td>\n",
       "      <td>10</td>\n",
       "      <td>10</td>\n",
       "      <td>2862</td>\n",
       "      <td>3</td>\n",
       "      <td>0</td>\n",
       "      <td>4</td>\n",
       "      <td>9</td>\n",
       "      <td>0</td>\n",
       "      <td>1</td>\n",
       "      <td>1</td>\n",
       "      <td>0</td>\n",
       "    </tr>\n",
       "    <tr>\n",
       "      <td>3</td>\n",
       "      <td>2</td>\n",
       "      <td>7</td>\n",
       "      <td>1</td>\n",
       "      <td>8</td>\n",
       "      <td>4</td>\n",
       "      <td>11</td>\n",
       "      <td>3</td>\n",
       "      <td>2574</td>\n",
       "      <td>3</td>\n",
       "      <td>5</td>\n",
       "      <td>3</td>\n",
       "      <td>9</td>\n",
       "      <td>0</td>\n",
       "      <td>1</td>\n",
       "      <td>3</td>\n",
       "      <td>3</td>\n",
       "    </tr>\n",
       "    <tr>\n",
       "      <td>4</td>\n",
       "      <td>2</td>\n",
       "      <td>7</td>\n",
       "      <td>1</td>\n",
       "      <td>7</td>\n",
       "      <td>3</td>\n",
       "      <td>1</td>\n",
       "      <td>10</td>\n",
       "      <td>2770</td>\n",
       "      <td>3</td>\n",
       "      <td>4</td>\n",
       "      <td>3</td>\n",
       "      <td>9</td>\n",
       "      <td>0</td>\n",
       "      <td>1</td>\n",
       "      <td>3</td>\n",
       "      <td>0</td>\n",
       "    </tr>\n",
       "    <tr>\n",
       "      <td>...</td>\n",
       "      <td>...</td>\n",
       "      <td>...</td>\n",
       "      <td>...</td>\n",
       "      <td>...</td>\n",
       "      <td>...</td>\n",
       "      <td>...</td>\n",
       "      <td>...</td>\n",
       "      <td>...</td>\n",
       "      <td>...</td>\n",
       "      <td>...</td>\n",
       "      <td>...</td>\n",
       "      <td>...</td>\n",
       "      <td>...</td>\n",
       "      <td>...</td>\n",
       "      <td>...</td>\n",
       "      <td>...</td>\n",
       "    </tr>\n",
       "    <tr>\n",
       "      <td>60574</td>\n",
       "      <td>3</td>\n",
       "      <td>3</td>\n",
       "      <td>0</td>\n",
       "      <td>3</td>\n",
       "      <td>2</td>\n",
       "      <td>1</td>\n",
       "      <td>1</td>\n",
       "      <td>295</td>\n",
       "      <td>3</td>\n",
       "      <td>4</td>\n",
       "      <td>4</td>\n",
       "      <td>3</td>\n",
       "      <td>3</td>\n",
       "      <td>2</td>\n",
       "      <td>2</td>\n",
       "      <td>2</td>\n",
       "    </tr>\n",
       "    <tr>\n",
       "      <td>60575</td>\n",
       "      <td>2</td>\n",
       "      <td>0</td>\n",
       "      <td>0</td>\n",
       "      <td>7</td>\n",
       "      <td>4</td>\n",
       "      <td>1</td>\n",
       "      <td>10</td>\n",
       "      <td>2920</td>\n",
       "      <td>6</td>\n",
       "      <td>4</td>\n",
       "      <td>1</td>\n",
       "      <td>8</td>\n",
       "      <td>3</td>\n",
       "      <td>2</td>\n",
       "      <td>3</td>\n",
       "      <td>0</td>\n",
       "    </tr>\n",
       "    <tr>\n",
       "      <td>60576</td>\n",
       "      <td>3</td>\n",
       "      <td>0</td>\n",
       "      <td>1</td>\n",
       "      <td>7</td>\n",
       "      <td>4</td>\n",
       "      <td>1</td>\n",
       "      <td>1</td>\n",
       "      <td>1646</td>\n",
       "      <td>3</td>\n",
       "      <td>4</td>\n",
       "      <td>4</td>\n",
       "      <td>2</td>\n",
       "      <td>3</td>\n",
       "      <td>2</td>\n",
       "      <td>2</td>\n",
       "      <td>2</td>\n",
       "    </tr>\n",
       "    <tr>\n",
       "      <td>60577</td>\n",
       "      <td>3</td>\n",
       "      <td>5</td>\n",
       "      <td>0</td>\n",
       "      <td>8</td>\n",
       "      <td>4</td>\n",
       "      <td>7</td>\n",
       "      <td>3</td>\n",
       "      <td>1984</td>\n",
       "      <td>3</td>\n",
       "      <td>2</td>\n",
       "      <td>4</td>\n",
       "      <td>8</td>\n",
       "      <td>3</td>\n",
       "      <td>2</td>\n",
       "      <td>2</td>\n",
       "      <td>2</td>\n",
       "    </tr>\n",
       "    <tr>\n",
       "      <td>60578</td>\n",
       "      <td>0</td>\n",
       "      <td>2</td>\n",
       "      <td>0</td>\n",
       "      <td>4</td>\n",
       "      <td>2</td>\n",
       "      <td>1</td>\n",
       "      <td>10</td>\n",
       "      <td>1787</td>\n",
       "      <td>4</td>\n",
       "      <td>4</td>\n",
       "      <td>4</td>\n",
       "      <td>8</td>\n",
       "      <td>3</td>\n",
       "      <td>2</td>\n",
       "      <td>0</td>\n",
       "      <td>3</td>\n",
       "    </tr>\n",
       "  </tbody>\n",
       "</table>\n",
       "<p>59671 rows × 16 columns</p>\n",
       "</div>"
      ],
      "text/plain": [
       "       Jornada  Modalidad  Sexo  Rango_Edad  Rango_Edad_Pisc  Comuna  \\\n",
       "0            2          7     0           4                2       8   \n",
       "1            1          7     0           4                2      19   \n",
       "2            1          7     1           4                2      10   \n",
       "3            2          7     1           8                4      11   \n",
       "4            2          7     1           7                3       1   \n",
       "...        ...        ...   ...         ...              ...     ...   \n",
       "60574        3          3     0           3                2       1   \n",
       "60575        2          0     0           7                4       1   \n",
       "60576        3          0     1           7                4       1   \n",
       "60577        3          5     0           8                4       7   \n",
       "60578        0          2     0           4                2       1   \n",
       "\n",
       "       Grupo_Lugar  Valor_Hurto  Medio_Transporte_Agresor  Sede_Receptora  \\\n",
       "0                3         2996                         3              17   \n",
       "1                3         2905                         3               3   \n",
       "2               10         2862                         3               0   \n",
       "3                3         2574                         3               5   \n",
       "4               10         2770                         3               4   \n",
       "...            ...          ...                       ...             ...   \n",
       "60574            1          295                         3               4   \n",
       "60575           10         2920                         6               4   \n",
       "60576            1         1646                         3               4   \n",
       "60577            3         1984                         3               2   \n",
       "60578           10         1787                         4               4   \n",
       "\n",
       "       Arma_Medio  Grupo_bienes  Grupo_dia1  Grupo_dia2  Grupo_hora  \\\n",
       "0               3             9           0           1           2   \n",
       "1               3             9           0           1           1   \n",
       "2               4             9           0           1           1   \n",
       "3               3             9           0           1           3   \n",
       "4               3             9           0           1           3   \n",
       "...           ...           ...         ...         ...         ...   \n",
       "60574           4             3           3           2           2   \n",
       "60575           1             8           3           2           3   \n",
       "60576           4             2           3           2           2   \n",
       "60577           4             8           3           2           2   \n",
       "60578           4             8           3           2           0   \n",
       "\n",
       "       Grupo_hora2  \n",
       "0                0  \n",
       "1                1  \n",
       "2                0  \n",
       "3                3  \n",
       "4                0  \n",
       "...            ...  \n",
       "60574            2  \n",
       "60575            0  \n",
       "60576            2  \n",
       "60577            2  \n",
       "60578            3  \n",
       "\n",
       "[59671 rows x 16 columns]"
      ]
     },
     "execution_count": 39,
     "metadata": {},
     "output_type": "execute_result"
    }
   ],
   "source": [
    "base_kmodas = basehurtosdefc.drop(['Geo_X_Hurto','Geo_Y_Hurto'], axis=1)\n",
    "base_kmodas"
   ]
  },
  {
   "cell_type": "markdown",
   "metadata": {
    "colab_type": "text",
    "id": "Zz_Fx7omT_th"
   },
   "source": [
    "# Método no supervisado\n",
    "## K modas"
   ]
  },
  {
   "cell_type": "markdown",
   "metadata": {
    "colab_type": "text",
    "id": "NQAixlfQT_ti"
   },
   "source": [
    "Con el fin detener un análisis sobre variables categóricas teniendo como objetivo encontrar grupos que demuestren homogeneidad en nuestro set de datos y aunque actualmente los métodos de no supervisados que buscan generar agrupaciones se enfocan en variables no categóricas, nuestro enfoque será entender y utilizar método que permita generar agrupaciones en dataset donde predomina las variables categóricas; de acuerdo a lo anterior, la aplicación se centrara en la moda de los datos cuyo algoritmo es representado como K modes, este utiliza un coeficiente de disimilitud para medir la proximidad de los clúster."
   ]
  },
  {
   "cell_type": "markdown",
   "metadata": {},
   "source": [
    "-\tMedida de disimilitud:\n",
    "\n",
    "Para este caso la inicialización del algoritmo estará dada por la medida de disimilitud Huang. \n",
    "\n",
    "Esta medida de disimilitud se define como la discrepancia entre dos objetos X y Y las cuales deberán ser dos variables categóricas, mientras existan un número menor de discrepancias se consideran que tienen mayor relación los objetos.[1]\n"
   ]
  },
  {
   "cell_type": "markdown",
   "metadata": {},
   "source": [
    "- Cálculo del costo\n",
    "\n",
    "Basado en lo anterior, como estamos trabajando con una medida de disimilitud para variables categóricas, se define una función de costo la cual tiene como objetivo calcular el costo total P contra todo el conjunto permitiendo hallar una cantidad de clusters óptima (k) que permita tener un proceso computacional eficiente, debido que este tipo de medidas requieren evaluar la coincidencia para resolver P_!, utilizando frecuencias para grupos en lugar de medias y la selección de modas.\n"
   ]
  },
  {
   "cell_type": "markdown",
   "metadata": {},
   "source": [
    "### Inicialización k = 3"
   ]
  },
  {
   "cell_type": "code",
   "execution_count": null,
   "metadata": {
    "colab": {
     "base_uri": "https://localhost:8080/",
     "height": 171
    },
    "colab_type": "code",
    "id": "QeT6hnviZqfZ",
    "outputId": "779b1475-2a79-47e0-8b13-8d1572f4f09f"
   },
   "outputs": [],
   "source": [
    "! pip install kmodes"
   ]
  },
  {
   "cell_type": "code",
   "execution_count": 32,
   "metadata": {
    "colab": {},
    "colab_type": "code",
    "id": "-HLyCaFkT_ti"
   },
   "outputs": [],
   "source": [
    "from kmodes.kmodes import KModes"
   ]
  },
  {
   "cell_type": "code",
   "execution_count": 63,
   "metadata": {
    "colab": {
     "base_uri": "https://localhost:8080/",
     "height": 101
    },
    "colab_type": "code",
    "id": "9rh3dDnRT_tn",
    "outputId": "6580aa59-c682-4b62-dad5-5b88865ad413"
   },
   "outputs": [
    {
     "name": "stdout",
     "output_type": "stream",
     "text": [
      "Init: initializing centroids\n",
      "Init: initializing clusters\n",
      "Starting iterations...\n",
      "Run 1, iteration: 1/100, moves: 13503, cost: 578463.0\n",
      "Run 1, iteration: 2/100, moves: 1879, cost: 578463.0\n"
     ]
    }
   ],
   "source": [
    "# inicialmente seleccionaremos un k = 3 por defecto\n",
    "km_Huang = KModes(n_clusters=2, init = \"Huang\", n_init = 1, verbose=1)\n",
    "fitClusters_Huang = km_Huang.fit_predict(base_kmodas)"
   ]
  },
  {
   "cell_type": "markdown",
   "metadata": {
    "colab": {
     "base_uri": "https://localhost:8080/",
     "height": 128
    },
    "colab_type": "code",
    "id": "AIdSKBH-T_to",
    "outputId": "b1644ab7-431d-4ec7-f2c3-fdcf8799b716"
   },
   "source": [
    "Podemos observar los **centroides** elegidos basados en la moda"
   ]
  },
  {
   "cell_type": "code",
   "execution_count": 64,
   "metadata": {
    "colab": {
     "base_uri": "https://localhost:8080/",
     "height": 126
    },
    "colab_type": "code",
    "id": "0KXumtrxT_tq",
    "outputId": "c995d5ba-aae0-41bc-dd4c-b2eff1824f25"
   },
   "outputs": [
    {
     "data": {
      "text/html": [
       "<div>\n",
       "<style scoped>\n",
       "    .dataframe tbody tr th:only-of-type {\n",
       "        vertical-align: middle;\n",
       "    }\n",
       "\n",
       "    .dataframe tbody tr th {\n",
       "        vertical-align: top;\n",
       "    }\n",
       "\n",
       "    .dataframe thead th {\n",
       "        text-align: right;\n",
       "    }\n",
       "</style>\n",
       "<table border=\"1\" class=\"dataframe\">\n",
       "  <thead>\n",
       "    <tr style=\"text-align: right;\">\n",
       "      <th></th>\n",
       "      <th>Jornada</th>\n",
       "      <th>Modalidad</th>\n",
       "      <th>Sexo</th>\n",
       "      <th>Rango_Edad</th>\n",
       "      <th>Rango_Edad_Pisc</th>\n",
       "      <th>Comuna</th>\n",
       "      <th>Grupo_Lugar</th>\n",
       "      <th>Valor_Hurto</th>\n",
       "      <th>Medio_Transporte_Agresor</th>\n",
       "      <th>Sede_Receptora</th>\n",
       "      <th>Arma_Medio</th>\n",
       "      <th>Grupo_bienes</th>\n",
       "      <th>Grupo_dia1</th>\n",
       "      <th>Grupo_dia2</th>\n",
       "      <th>Grupo_hora</th>\n",
       "      <th>Grupo_hora2</th>\n",
       "    </tr>\n",
       "  </thead>\n",
       "  <tbody>\n",
       "    <tr>\n",
       "      <td>0</td>\n",
       "      <td>1</td>\n",
       "      <td>0</td>\n",
       "      <td>0</td>\n",
       "      <td>3</td>\n",
       "      <td>2</td>\n",
       "      <td>1</td>\n",
       "      <td>10</td>\n",
       "      <td>500</td>\n",
       "      <td>3</td>\n",
       "      <td>4</td>\n",
       "      <td>4</td>\n",
       "      <td>8</td>\n",
       "      <td>1</td>\n",
       "      <td>0</td>\n",
       "      <td>1</td>\n",
       "      <td>0</td>\n",
       "    </tr>\n",
       "    <tr>\n",
       "      <td>1</td>\n",
       "      <td>2</td>\n",
       "      <td>3</td>\n",
       "      <td>1</td>\n",
       "      <td>6</td>\n",
       "      <td>3</td>\n",
       "      <td>1</td>\n",
       "      <td>10</td>\n",
       "      <td>500</td>\n",
       "      <td>3</td>\n",
       "      <td>4</td>\n",
       "      <td>4</td>\n",
       "      <td>8</td>\n",
       "      <td>2</td>\n",
       "      <td>2</td>\n",
       "      <td>3</td>\n",
       "      <td>3</td>\n",
       "    </tr>\n",
       "  </tbody>\n",
       "</table>\n",
       "</div>"
      ],
      "text/plain": [
       "   Jornada  Modalidad  Sexo  Rango_Edad  Rango_Edad_Pisc  Comuna  Grupo_Lugar  \\\n",
       "0        1          0     0           3                2       1           10   \n",
       "1        2          3     1           6                3       1           10   \n",
       "\n",
       "   Valor_Hurto  Medio_Transporte_Agresor  Sede_Receptora  Arma_Medio  \\\n",
       "0          500                         3               4           4   \n",
       "1          500                         3               4           4   \n",
       "\n",
       "   Grupo_bienes  Grupo_dia1  Grupo_dia2  Grupo_hora  Grupo_hora2  \n",
       "0             8           1           0           1            0  \n",
       "1             8           2           2           3            3  "
      ]
     },
     "execution_count": 64,
     "metadata": {},
     "output_type": "execute_result"
    }
   ],
   "source": [
    "clusterCentroidsDf = pd.DataFrame(km_Huang.cluster_centroids_)\n",
    "clusterCentroidsDf.columns = base_kmodas.columns\n",
    "clusterCentroidsDf"
   ]
  },
  {
   "cell_type": "markdown",
   "metadata": {
    "colab": {},
    "colab_type": "code",
    "id": "o0WXKSyfT_tt"
   },
   "source": [
    "Ahora vamos a iterar el mismo algoritmo con el fin de encontrar los k grupos que minimizan la función del costo"
   ]
  },
  {
   "cell_type": "markdown",
   "metadata": {
    "colab_type": "text",
    "id": "tl_pZ_VZHUxU"
   },
   "source": [
    "### Elección del K"
   ]
  },
  {
   "cell_type": "markdown",
   "metadata": {
    "colab_type": "text",
    "id": "UASbqQkSHUxV"
   },
   "source": [
    "De acuerdo con lo anterior se ejecuta el modelo con el fin de realizar iteraciones que permitan minimizar el costo con el fin de hallar un k óptimo.\n",
    "\n"
   ]
  },
  {
   "cell_type": "code",
   "execution_count": 66,
   "metadata": {
    "colab": {
     "base_uri": "https://localhost:8080/",
     "height": 874
    },
    "colab_type": "code",
    "id": "YGG-hiHYT_t5",
    "outputId": "657e2068-b791-4d8b-fc14-4d0c280d3425",
    "scrolled": true
   },
   "outputs": [
    {
     "name": "stdout",
     "output_type": "stream",
     "text": [
      "Init: initializing centroids\n",
      "Init: initializing clusters\n",
      "Starting iterations...\n",
      "Run 1, iteration: 1/100, moves: 0, cost: 617894.0\n",
      "Init: initializing centroids\n",
      "Init: initializing clusters\n",
      "Starting iterations...\n",
      "Run 1, iteration: 1/100, moves: 10801, cost: 568715.0\n",
      "Run 1, iteration: 2/100, moves: 686, cost: 568715.0\n",
      "Init: initializing centroids\n",
      "Init: initializing clusters\n",
      "Starting iterations...\n",
      "Run 1, iteration: 1/100, moves: 14893, cost: 547781.0\n",
      "Run 1, iteration: 2/100, moves: 1986, cost: 547781.0\n",
      "Init: initializing centroids\n",
      "Init: initializing clusters\n",
      "Starting iterations...\n",
      "Run 1, iteration: 1/100, moves: 13622, cost: 535459.0\n",
      "Run 1, iteration: 2/100, moves: 4309, cost: 535459.0\n",
      "Init: initializing centroids\n",
      "Init: initializing clusters\n",
      "Starting iterations...\n",
      "Run 1, iteration: 1/100, moves: 17459, cost: 515969.0\n",
      "Run 1, iteration: 2/100, moves: 2711, cost: 515969.0\n",
      "Init: initializing centroids\n",
      "Init: initializing clusters\n",
      "Starting iterations...\n",
      "Run 1, iteration: 1/100, moves: 17858, cost: 508324.0\n",
      "Run 1, iteration: 2/100, moves: 8607, cost: 501685.0\n",
      "Run 1, iteration: 3/100, moves: 3162, cost: 501685.0\n",
      "Init: initializing centroids\n",
      "Init: initializing clusters\n",
      "Starting iterations...\n",
      "Run 1, iteration: 1/100, moves: 18750, cost: 501520.0\n",
      "Run 1, iteration: 2/100, moves: 4418, cost: 499092.0\n",
      "Run 1, iteration: 3/100, moves: 2425, cost: 499092.0\n",
      "Init: initializing centroids\n",
      "Init: initializing clusters\n",
      "Starting iterations...\n",
      "Run 1, iteration: 1/100, moves: 13277, cost: 494625.0\n",
      "Run 1, iteration: 2/100, moves: 4963, cost: 492113.0\n",
      "Run 1, iteration: 3/100, moves: 153, cost: 492113.0\n",
      "Init: initializing centroids\n",
      "Init: initializing clusters\n",
      "Starting iterations...\n",
      "Run 1, iteration: 1/100, moves: 16004, cost: 486668.0\n",
      "Run 1, iteration: 2/100, moves: 1521, cost: 486668.0\n"
     ]
    }
   ],
   "source": [
    "cost = []\n",
    "for num_clusters in list(range(1,10)):\n",
    "    kmode = KModes(n_clusters=num_clusters, init = \"Huang\", n_init = 1, verbose=1)\n",
    "    kmode.fit_predict(base_kmodas)\n",
    "    cost.append(kmode.cost_)"
   ]
  },
  {
   "cell_type": "markdown",
   "metadata": {},
   "source": [
    "Obteniendo el siguiente gráfico que relaciona el costo vs el número de clúster"
   ]
  },
  {
   "cell_type": "code",
   "execution_count": 67,
   "metadata": {
    "colab": {
     "base_uri": "https://localhost:8080/",
     "height": 282
    },
    "colab_type": "code",
    "id": "CabOSO7UT_t7",
    "outputId": "1208fbea-2fa2-43b3-addb-2637d318258b",
    "scrolled": false
   },
   "outputs": [
    {
     "data": {
      "text/plain": [
       "[<matplotlib.lines.Line2D at 0x23103eafd48>]"
      ]
     },
     "execution_count": 67,
     "metadata": {},
     "output_type": "execute_result"
    },
    {
     "data": {
      "image/png": "[encoded data removed]",
      "text/plain": [
       "<Figure size 432x288 with 1 Axes>"
      ]
     },
     "metadata": {
      "needs_background": "light"
     },
     "output_type": "display_data"
    }
   ],
   "source": [
    "y = np.array([i for i in range(1,10,1)])\n",
    "plt.plot(y,cost)"
   ]
  },
  {
   "cell_type": "markdown",
   "metadata": {},
   "source": [
    "En este gráfico logramos evidenciar que existe un quiebre en el costo computacional en un k = 4 donde para k = 5 se mantiene la tendencia a la baja y posteriormente se evidencia de nuevo un quiebre en un k= 6. "
   ]
  },
  {
   "cell_type": "code",
   "execution_count": 74,
   "metadata": {
    "colab": {},
    "colab_type": "code",
    "id": "wzfhupz7HUxc"
   },
   "outputs": [],
   "source": [
    "X = base_kmodas"
   ]
  },
  {
   "cell_type": "code",
   "execution_count": 77,
   "metadata": {},
   "outputs": [
    {
     "data": {
      "text/html": [
       "<div>\n",
       "<style scoped>\n",
       "    .dataframe tbody tr th:only-of-type {\n",
       "        vertical-align: middle;\n",
       "    }\n",
       "\n",
       "    .dataframe tbody tr th {\n",
       "        vertical-align: top;\n",
       "    }\n",
       "\n",
       "    .dataframe thead th {\n",
       "        text-align: right;\n",
       "    }\n",
       "</style>\n",
       "<table border=\"1\" class=\"dataframe\">\n",
       "  <thead>\n",
       "    <tr style=\"text-align: right;\">\n",
       "      <th></th>\n",
       "      <th>Jornada</th>\n",
       "      <th>Modalidad</th>\n",
       "      <th>Sexo</th>\n",
       "      <th>Rango_Edad</th>\n",
       "      <th>Rango_Edad_Pisc</th>\n",
       "      <th>Comuna</th>\n",
       "      <th>Grupo_Lugar</th>\n",
       "      <th>Valor_Hurto</th>\n",
       "      <th>Medio_Transporte_Agresor</th>\n",
       "      <th>Sede_Receptora</th>\n",
       "      <th>Arma_Medio</th>\n",
       "      <th>Grupo_bienes</th>\n",
       "      <th>Grupo_dia1</th>\n",
       "      <th>Grupo_dia2</th>\n",
       "      <th>Grupo_hora</th>\n",
       "      <th>Grupo_hora2</th>\n",
       "    </tr>\n",
       "  </thead>\n",
       "  <tbody>\n",
       "    <tr>\n",
       "      <td>0</td>\n",
       "      <td>2</td>\n",
       "      <td>7</td>\n",
       "      <td>0</td>\n",
       "      <td>4</td>\n",
       "      <td>2</td>\n",
       "      <td>8</td>\n",
       "      <td>3</td>\n",
       "      <td>2996</td>\n",
       "      <td>3</td>\n",
       "      <td>17</td>\n",
       "      <td>3</td>\n",
       "      <td>9</td>\n",
       "      <td>0</td>\n",
       "      <td>1</td>\n",
       "      <td>2</td>\n",
       "      <td>0</td>\n",
       "    </tr>\n",
       "    <tr>\n",
       "      <td>1</td>\n",
       "      <td>1</td>\n",
       "      <td>7</td>\n",
       "      <td>0</td>\n",
       "      <td>4</td>\n",
       "      <td>2</td>\n",
       "      <td>19</td>\n",
       "      <td>3</td>\n",
       "      <td>2905</td>\n",
       "      <td>3</td>\n",
       "      <td>3</td>\n",
       "      <td>3</td>\n",
       "      <td>9</td>\n",
       "      <td>0</td>\n",
       "      <td>1</td>\n",
       "      <td>1</td>\n",
       "      <td>1</td>\n",
       "    </tr>\n",
       "    <tr>\n",
       "      <td>2</td>\n",
       "      <td>1</td>\n",
       "      <td>7</td>\n",
       "      <td>1</td>\n",
       "      <td>4</td>\n",
       "      <td>2</td>\n",
       "      <td>10</td>\n",
       "      <td>10</td>\n",
       "      <td>2862</td>\n",
       "      <td>3</td>\n",
       "      <td>0</td>\n",
       "      <td>4</td>\n",
       "      <td>9</td>\n",
       "      <td>0</td>\n",
       "      <td>1</td>\n",
       "      <td>1</td>\n",
       "      <td>0</td>\n",
       "    </tr>\n",
       "    <tr>\n",
       "      <td>3</td>\n",
       "      <td>2</td>\n",
       "      <td>7</td>\n",
       "      <td>1</td>\n",
       "      <td>8</td>\n",
       "      <td>4</td>\n",
       "      <td>11</td>\n",
       "      <td>3</td>\n",
       "      <td>2574</td>\n",
       "      <td>3</td>\n",
       "      <td>5</td>\n",
       "      <td>3</td>\n",
       "      <td>9</td>\n",
       "      <td>0</td>\n",
       "      <td>1</td>\n",
       "      <td>3</td>\n",
       "      <td>3</td>\n",
       "    </tr>\n",
       "    <tr>\n",
       "      <td>4</td>\n",
       "      <td>2</td>\n",
       "      <td>7</td>\n",
       "      <td>1</td>\n",
       "      <td>7</td>\n",
       "      <td>3</td>\n",
       "      <td>1</td>\n",
       "      <td>10</td>\n",
       "      <td>2770</td>\n",
       "      <td>3</td>\n",
       "      <td>4</td>\n",
       "      <td>3</td>\n",
       "      <td>9</td>\n",
       "      <td>0</td>\n",
       "      <td>1</td>\n",
       "      <td>3</td>\n",
       "      <td>0</td>\n",
       "    </tr>\n",
       "    <tr>\n",
       "      <td>...</td>\n",
       "      <td>...</td>\n",
       "      <td>...</td>\n",
       "      <td>...</td>\n",
       "      <td>...</td>\n",
       "      <td>...</td>\n",
       "      <td>...</td>\n",
       "      <td>...</td>\n",
       "      <td>...</td>\n",
       "      <td>...</td>\n",
       "      <td>...</td>\n",
       "      <td>...</td>\n",
       "      <td>...</td>\n",
       "      <td>...</td>\n",
       "      <td>...</td>\n",
       "      <td>...</td>\n",
       "      <td>...</td>\n",
       "    </tr>\n",
       "    <tr>\n",
       "      <td>60574</td>\n",
       "      <td>3</td>\n",
       "      <td>3</td>\n",
       "      <td>0</td>\n",
       "      <td>3</td>\n",
       "      <td>2</td>\n",
       "      <td>1</td>\n",
       "      <td>1</td>\n",
       "      <td>295</td>\n",
       "      <td>3</td>\n",
       "      <td>4</td>\n",
       "      <td>4</td>\n",
       "      <td>3</td>\n",
       "      <td>3</td>\n",
       "      <td>2</td>\n",
       "      <td>2</td>\n",
       "      <td>2</td>\n",
       "    </tr>\n",
       "    <tr>\n",
       "      <td>60575</td>\n",
       "      <td>2</td>\n",
       "      <td>0</td>\n",
       "      <td>0</td>\n",
       "      <td>7</td>\n",
       "      <td>4</td>\n",
       "      <td>1</td>\n",
       "      <td>10</td>\n",
       "      <td>2920</td>\n",
       "      <td>6</td>\n",
       "      <td>4</td>\n",
       "      <td>1</td>\n",
       "      <td>8</td>\n",
       "      <td>3</td>\n",
       "      <td>2</td>\n",
       "      <td>3</td>\n",
       "      <td>0</td>\n",
       "    </tr>\n",
       "    <tr>\n",
       "      <td>60576</td>\n",
       "      <td>3</td>\n",
       "      <td>0</td>\n",
       "      <td>1</td>\n",
       "      <td>7</td>\n",
       "      <td>4</td>\n",
       "      <td>1</td>\n",
       "      <td>1</td>\n",
       "      <td>1646</td>\n",
       "      <td>3</td>\n",
       "      <td>4</td>\n",
       "      <td>4</td>\n",
       "      <td>2</td>\n",
       "      <td>3</td>\n",
       "      <td>2</td>\n",
       "      <td>2</td>\n",
       "      <td>2</td>\n",
       "    </tr>\n",
       "    <tr>\n",
       "      <td>60577</td>\n",
       "      <td>3</td>\n",
       "      <td>5</td>\n",
       "      <td>0</td>\n",
       "      <td>8</td>\n",
       "      <td>4</td>\n",
       "      <td>7</td>\n",
       "      <td>3</td>\n",
       "      <td>1984</td>\n",
       "      <td>3</td>\n",
       "      <td>2</td>\n",
       "      <td>4</td>\n",
       "      <td>8</td>\n",
       "      <td>3</td>\n",
       "      <td>2</td>\n",
       "      <td>2</td>\n",
       "      <td>2</td>\n",
       "    </tr>\n",
       "    <tr>\n",
       "      <td>60578</td>\n",
       "      <td>0</td>\n",
       "      <td>2</td>\n",
       "      <td>0</td>\n",
       "      <td>4</td>\n",
       "      <td>2</td>\n",
       "      <td>1</td>\n",
       "      <td>10</td>\n",
       "      <td>1787</td>\n",
       "      <td>4</td>\n",
       "      <td>4</td>\n",
       "      <td>4</td>\n",
       "      <td>8</td>\n",
       "      <td>3</td>\n",
       "      <td>2</td>\n",
       "      <td>0</td>\n",
       "      <td>3</td>\n",
       "    </tr>\n",
       "  </tbody>\n",
       "</table>\n",
       "<p>59671 rows × 16 columns</p>\n",
       "</div>"
      ],
      "text/plain": [
       "       Jornada  Modalidad  Sexo  Rango_Edad  Rango_Edad_Pisc  Comuna  \\\n",
       "0            2          7     0           4                2       8   \n",
       "1            1          7     0           4                2      19   \n",
       "2            1          7     1           4                2      10   \n",
       "3            2          7     1           8                4      11   \n",
       "4            2          7     1           7                3       1   \n",
       "...        ...        ...   ...         ...              ...     ...   \n",
       "60574        3          3     0           3                2       1   \n",
       "60575        2          0     0           7                4       1   \n",
       "60576        3          0     1           7                4       1   \n",
       "60577        3          5     0           8                4       7   \n",
       "60578        0          2     0           4                2       1   \n",
       "\n",
       "       Grupo_Lugar  Valor_Hurto  Medio_Transporte_Agresor  Sede_Receptora  \\\n",
       "0                3         2996                         3              17   \n",
       "1                3         2905                         3               3   \n",
       "2               10         2862                         3               0   \n",
       "3                3         2574                         3               5   \n",
       "4               10         2770                         3               4   \n",
       "...            ...          ...                       ...             ...   \n",
       "60574            1          295                         3               4   \n",
       "60575           10         2920                         6               4   \n",
       "60576            1         1646                         3               4   \n",
       "60577            3         1984                         3               2   \n",
       "60578           10         1787                         4               4   \n",
       "\n",
       "       Arma_Medio  Grupo_bienes  Grupo_dia1  Grupo_dia2  Grupo_hora  \\\n",
       "0               3             9           0           1           2   \n",
       "1               3             9           0           1           1   \n",
       "2               4             9           0           1           1   \n",
       "3               3             9           0           1           3   \n",
       "4               3             9           0           1           3   \n",
       "...           ...           ...         ...         ...         ...   \n",
       "60574           4             3           3           2           2   \n",
       "60575           1             8           3           2           3   \n",
       "60576           4             2           3           2           2   \n",
       "60577           4             8           3           2           2   \n",
       "60578           4             8           3           2           0   \n",
       "\n",
       "       Grupo_hora2  \n",
       "0                0  \n",
       "1                1  \n",
       "2                0  \n",
       "3                3  \n",
       "4                0  \n",
       "...            ...  \n",
       "60574            2  \n",
       "60575            0  \n",
       "60576            2  \n",
       "60577            2  \n",
       "60578            3  \n",
       "\n",
       "[59671 rows x 16 columns]"
      ]
     },
     "execution_count": 77,
     "metadata": {},
     "output_type": "execute_result"
    }
   ],
   "source": [
    "base_kmodas"
   ]
  },
  {
   "cell_type": "code",
   "execution_count": 80,
   "metadata": {},
   "outputs": [],
   "source": [
    "from sklearn.metrics import silhouette_samples, silhouette_score\n"
   ]
  },
  {
   "cell_type": "code",
   "execution_count": 99,
   "metadata": {},
   "outputs": [
    {
     "name": "stdout",
     "output_type": "stream",
     "text": [
      "Init: initializing centroids\n",
      "Init: initializing clusters\n",
      "Starting iterations...\n",
      "Run 1, iteration: 1/100, moves: 0, cost: 617894.0\n"
     ]
    }
   ],
   "source": [
    "clusterer = KModes(n_clusters=1, init = \"Huang\", n_init = 1, verbose=1)\n",
    "cluster_labels = clusterer.fit_predict(base_kmodas)"
   ]
  },
  {
   "cell_type": "code",
   "execution_count": 101,
   "metadata": {},
   "outputs": [
    {
     "data": {
      "text/plain": [
       "array([1, 1, 1, ..., 1, 1, 1], dtype=uint16)"
      ]
     },
     "execution_count": 101,
     "metadata": {},
     "output_type": "execute_result"
    }
   ],
   "source": [
    "cluster_labels+1"
   ]
  },
  {
   "cell_type": "code",
   "execution_count": 103,
   "metadata": {
    "colab": {
     "base_uri": "https://localhost:8080/",
     "height": 958
    },
    "colab_type": "code",
    "id": "7pBA0tzwb3Sb",
    "outputId": "1de5eea7-1789-42a2-fe2b-f048d658a681"
   },
   "outputs": [
    {
     "name": "stdout",
     "output_type": "stream",
     "text": [
      "Init: initializing centroids\n",
      "Init: initializing clusters\n",
      "Starting iterations...\n",
      "Run 1, iteration: 1/100, moves: 19047, cost: 573159.0\n",
      "Run 1, iteration: 2/100, moves: 5384, cost: 573159.0\n",
      "Init: initializing centroids\n",
      "Init: initializing clusters\n",
      "Starting iterations...\n",
      "Run 1, iteration: 1/100, moves: 10128, cost: 568751.0\n",
      "Run 1, iteration: 2/100, moves: 0, cost: 568751.0\n",
      "Init: initializing centroids\n",
      "Init: initializing clusters\n",
      "Starting iterations...\n",
      "Run 1, iteration: 1/100, moves: 14910, cost: 544467.0\n",
      "Run 1, iteration: 2/100, moves: 1701, cost: 544467.0\n",
      "Init: initializing centroids\n",
      "Init: initializing clusters\n",
      "Starting iterations...\n",
      "Run 1, iteration: 1/100, moves: 17583, cost: 544143.0\n",
      "Run 1, iteration: 2/100, moves: 6755, cost: 541881.0\n",
      "Run 1, iteration: 3/100, moves: 989, cost: 541881.0\n",
      "Init: initializing centroids\n",
      "Init: initializing clusters\n",
      "Starting iterations...\n",
      "Run 1, iteration: 1/100, moves: 19531, cost: 527315.0\n",
      "Run 1, iteration: 2/100, moves: 1827, cost: 527315.0\n",
      "Init: initializing centroids\n",
      "Init: initializing clusters\n",
      "Starting iterations...\n",
      "Run 1, iteration: 1/100, moves: 15375, cost: 535958.0\n",
      "Run 1, iteration: 2/100, moves: 2786, cost: 535958.0\n",
      "Init: initializing centroids\n",
      "Init: initializing clusters\n",
      "Starting iterations...\n",
      "Run 1, iteration: 1/100, moves: 22055, cost: 515212.0\n",
      "Run 1, iteration: 2/100, moves: 250, cost: 515212.0\n",
      "Init: initializing centroids\n",
      "Init: initializing clusters\n",
      "Starting iterations...\n",
      "Run 1, iteration: 1/100, moves: 23291, cost: 509176.0\n",
      "Run 1, iteration: 2/100, moves: 4353, cost: 509176.0\n",
      "Init: initializing centroids\n",
      "Init: initializing clusters\n",
      "Starting iterations...\n",
      "Run 1, iteration: 1/100, moves: 15167, cost: 503698.0\n",
      "Run 1, iteration: 2/100, moves: 6011, cost: 503698.0\n",
      "Init: initializing centroids\n",
      "Init: initializing clusters\n",
      "Starting iterations...\n",
      "Run 1, iteration: 1/100, moves: 26403, cost: 504229.0\n",
      "Run 1, iteration: 2/100, moves: 4157, cost: 503384.0\n",
      "Run 1, iteration: 3/100, moves: 1402, cost: 503384.0\n",
      "Init: initializing centroids\n",
      "Init: initializing clusters\n",
      "Starting iterations...\n",
      "Run 1, iteration: 1/100, moves: 19395, cost: 506612.0\n",
      "Run 1, iteration: 2/100, moves: 7348, cost: 501724.0\n",
      "Run 1, iteration: 3/100, moves: 1700, cost: 501724.0\n",
      "Init: initializing centroids\n",
      "Init: initializing clusters\n",
      "Starting iterations...\n",
      "Run 1, iteration: 1/100, moves: 18027, cost: 495036.0\n",
      "Run 1, iteration: 2/100, moves: 0, cost: 495036.0\n",
      "Init: initializing centroids\n",
      "Init: initializing clusters\n",
      "Starting iterations...\n",
      "Run 1, iteration: 1/100, moves: 19965, cost: 489728.0\n",
      "Run 1, iteration: 2/100, moves: 1097, cost: 489728.0\n",
      "Init: initializing centroids\n",
      "Init: initializing clusters\n",
      "Starting iterations...\n",
      "Run 1, iteration: 1/100, moves: 20630, cost: 486760.0\n",
      "Run 1, iteration: 2/100, moves: 944, cost: 486760.0\n",
      "Init: initializing centroids\n",
      "Init: initializing clusters\n",
      "Starting iterations...\n",
      "Run 1, iteration: 1/100, moves: 15764, cost: 492406.0\n",
      "Run 1, iteration: 2/100, moves: 1188, cost: 492406.0\n",
      "Init: initializing centroids\n",
      "Init: initializing clusters\n",
      "Starting iterations...\n",
      "Run 1, iteration: 1/100, moves: 13494, cost: 485973.0\n",
      "Run 1, iteration: 2/100, moves: 854, cost: 485973.0\n",
      "Init: initializing centroids\n",
      "Init: initializing clusters\n",
      "Starting iterations...\n",
      "Run 1, iteration: 1/100, moves: 16490, cost: 473493.0\n",
      "Run 1, iteration: 2/100, moves: 4147, cost: 472218.0\n",
      "Run 1, iteration: 3/100, moves: 501, cost: 472218.0\n",
      "Init: initializing centroids\n",
      "Init: initializing clusters\n",
      "Starting iterations...\n",
      "Run 1, iteration: 1/100, moves: 21314, cost: 477538.0\n",
      "Run 1, iteration: 2/100, moves: 3117, cost: 477538.0\n"
     ]
    }
   ],
   "source": [
    "slide = []\n",
    "for num_clusters in list(range(2,11)):\n",
    "    clusterer = KModes(n_clusters=num_clusters, init = \"Huang\", n_init = 1, verbose=1)\n",
    "    cluster_labels = clusterer.fit_predict(base_kmodas)\n",
    "    cluster_labels = clusterer.fit_predict(base_kmodas)\n",
    "    silhouette_avg = silhouette_score(base_kmodas, cluster_labels)\n",
    "    slide.append(silhouette_avg)"
   ]
  },
  {
   "cell_type": "markdown",
   "metadata": {},
   "source": [
    "Adicionalmente se utiliza el método de la silueta que ofrece sklearn, el calcula utilizando la distancia media dentro del grupo (a) y la distancia media más cercana al grupo (b) para cada muestra. El coeficiente de silueta para una muestra es (b - a) / max (a, b). Para aclarar, b es la distancia entre una muestra y el grupo más cercano del que la muestra no forma parte, devolviendo un promedio, el mejor valor es 1 y el peor es -1. Los valores cercanos a 0 indican grupos superpuestos. Los valores negativos generalmente indican que se ha asignado una muestra al grupo incorrecto, ya que un grupo diferente es más similar.[3]"
   ]
  },
  {
   "cell_type": "code",
   "execution_count": 104,
   "metadata": {
    "colab": {
     "base_uri": "https://localhost:8080/",
     "height": 282
    },
    "colab_type": "code",
    "id": "b2POAuzlg6MI",
    "outputId": "a127d78b-0e4b-4ba9-8e80-932b4c473303",
    "scrolled": true
   },
   "outputs": [
    {
     "data": {
      "text/plain": [
       "[<matplotlib.lines.Line2D at 0x23103b70588>]"
      ]
     },
     "execution_count": 104,
     "metadata": {},
     "output_type": "execute_result"
    },
    {
     "data": {
      "image/png": "[encoded data removed]",
      "text/plain": [
       "<Figure size 432x288 with 1 Axes>"
      ]
     },
     "metadata": {
      "needs_background": "light"
     },
     "output_type": "display_data"
    }
   ],
   "source": [
    "y = np.array([i for i in range(2,11,1)])\n",
    "plt.plot(y,slide)"
   ]
  },
  {
   "cell_type": "markdown",
   "metadata": {},
   "source": [
    "Para este ejercicio el gráfico de la silueta permite evidenciar que podrían existir algunos grupos superpuestos, sin embargo, este método busca estar lo más cercano a 1, dado que tenemos un problema con múltiples características esto influye en no tener unos grupos que cumplan a cabalidad con esta métrica; sin embargo, es claro que el k más cercano es el k = 4 por lo cual se realiza el ejercicio. Con el fin de complementar el ejercicio se itera esta métrica para los siguientes puntos de k = [4,5,6,7,8] donde podemos observar gráficamente la dimensión de los grupos y su interpretación de posición en la silueta."
   ]
  },
  {
   "cell_type": "code",
   "execution_count": 106,
   "metadata": {
    "colab": {
     "base_uri": "https://localhost:8080/",
     "height": 1000
    },
    "colab_type": "code",
    "id": "EajZx-vSHUxd",
    "outputId": "75ad803e-7e4a-4a6b-c306-e5d309215cc4"
   },
   "outputs": [
    {
     "name": "stdout",
     "output_type": "stream",
     "text": [
      "Automatically created module for IPython interactive environment\n",
      "Init: initializing centroids\n",
      "Init: initializing clusters\n",
      "Starting iterations...\n",
      "Run 1, iteration: 1/100, moves: 19590, cost: 525813.0\n",
      "Run 1, iteration: 2/100, moves: 2391, cost: 525813.0\n",
      "For n_clusters = 4 The average silhouette_score is : -0.01890898389947905\n",
      "Init: initializing centroids\n",
      "Init: initializing clusters\n",
      "Starting iterations...\n",
      "Run 1, iteration: 1/100, moves: 23659, cost: 519224.0\n",
      "Run 1, iteration: 2/100, moves: 8529, cost: 513804.0\n",
      "Run 1, iteration: 3/100, moves: 2510, cost: 513804.0\n",
      "For n_clusters = 5 The average silhouette_score is : -0.06353278480969347\n",
      "Init: initializing centroids\n",
      "Init: initializing clusters\n",
      "Starting iterations...\n",
      "Run 1, iteration: 1/100, moves: 12620, cost: 515674.0\n",
      "Run 1, iteration: 2/100, moves: 4276, cost: 513669.0\n",
      "Run 1, iteration: 3/100, moves: 197, cost: 513669.0\n",
      "For n_clusters = 6 The average silhouette_score is : -0.048311124608847726\n",
      "Init: initializing centroids\n",
      "Init: initializing clusters\n",
      "Starting iterations...\n",
      "Run 1, iteration: 1/100, moves: 17452, cost: 504394.0\n",
      "Run 1, iteration: 2/100, moves: 4356, cost: 500894.0\n",
      "Run 1, iteration: 3/100, moves: 2322, cost: 500894.0\n",
      "For n_clusters = 7 The average silhouette_score is : -0.0776883252350382\n",
      "Init: initializing centroids\n",
      "Init: initializing clusters\n",
      "Starting iterations...\n",
      "Run 1, iteration: 1/100, moves: 16079, cost: 498726.0\n",
      "Run 1, iteration: 2/100, moves: 5103, cost: 492457.0\n",
      "Run 1, iteration: 3/100, moves: 1714, cost: 492457.0\n",
      "For n_clusters = 8 The average silhouette_score is : -0.11750269681526997\n"
     ]
    },
    {
     "data": {
      "image/png": "[encoded data removed]",
      "text/plain": [
       "<Figure size 1296x504 with 1 Axes>"
      ]
     },
     "metadata": {
      "needs_background": "light"
     },
     "output_type": "display_data"
    },
    {
     "data": {
      "image/png": "[encoded data removed]",
      "text/plain": [
       "<Figure size 1296x504 with 1 Axes>"
      ]
     },
     "metadata": {
      "needs_background": "light"
     },
     "output_type": "display_data"
    },
    {
     "data": {
      "image/png": "[encoded data removed]",
      "text/plain": [
       "<Figure size 1296x504 with 1 Axes>"
      ]
     },
     "metadata": {
      "needs_background": "light"
     },
     "output_type": "display_data"
    },
    {
     "data": {
      "image/png": "[encoded data removed]",
      "text/plain": [
       "<Figure size 1296x504 with 1 Axes>"
      ]
     },
     "metadata": {
      "needs_background": "light"
     },
     "output_type": "display_data"
    },
    {
     "data": {
      "image/png": "[encoded data removed]",
      "text/plain": [
       "<Figure size 1296x504 with 1 Axes>"
      ]
     },
     "metadata": {
      "needs_background": "light"
     },
     "output_type": "display_data"
    }
   ],
   "source": [
    "## from sklearn.datasets import make_blobs\n",
    "from sklearn.cluster import KMeans\n",
    "from sklearn.metrics import silhouette_samples, silhouette_score\n",
    "\n",
    "import matplotlib.pyplot as plt\n",
    "import matplotlib.cm as cm\n",
    "import numpy as np\n",
    "\n",
    "print(__doc__)\n",
    "\n",
    "# Generating the sample data from make_blobs\n",
    "# This particular setting has one distinct cluster and 3 clusters placed close\n",
    "# together.\n",
    "\n",
    "range_n_clusters = [4, 5, 6,7,8]\n",
    "\n",
    "for n_clusters in range_n_clusters:\n",
    "    # Create a subplot with 1 row and 2 columns\n",
    "    fig, (ax1) = plt.subplots(1)\n",
    "    fig.set_size_inches(18, 7)\n",
    "\n",
    "    # The 1st subplot is the silhouette plot\n",
    "    # The silhouette coefficient can range from -1, 1 but in this example all\n",
    "    # lie within [-0.1, 1]\n",
    "    ax1.set_xlim([-0.1, 0])\n",
    "    # The (n_clusters+1)*10 is for inserting blank space between silhouette\n",
    "    # plots of individual clusters, to demarcate them clearly.\n",
    "    ax1.set_ylim([0, len(X) + (n_clusters + 1) * 10])\n",
    "\n",
    "    # Initialize the clusterer with n_clusters value and a random generator\n",
    "    # seed of 10 for reproducibility.\n",
    "    clusterer = KModes(n_clusters=n_clusters, init = \"Huang\", n_init = 1, verbose=1)     \n",
    "    cluster_labels = clusterer.fit_predict(X)\n",
    "\n",
    "    # The silhouette_score gives the average value for all the samples.\n",
    "    # This gives a perspective into the density and separation of the formed\n",
    "    # clusters\n",
    "    silhouette_avg = silhouette_score(X, cluster_labels)\n",
    "    print(\"For n_clusters =\", n_clusters,\n",
    "          \"The average silhouette_score is :\", silhouette_avg)\n",
    "\n",
    "    # Compute the silhouette scores for each sample\n",
    "    sample_silhouette_values = silhouette_samples(X, cluster_labels)\n",
    "\n",
    "    y_lower = 10\n",
    "    for i in range(n_clusters):\n",
    "        # Aggregate the silhouette scores for samples belonging to\n",
    "        # cluster i, and sort them\n",
    "        ith_cluster_silhouette_values = \\\n",
    "            sample_silhouette_values[cluster_labels == i]\n",
    "\n",
    "        ith_cluster_silhouette_values.sort()\n",
    "\n",
    "        size_cluster_i = ith_cluster_silhouette_values.shape[0]\n",
    "        y_upper = y_lower + size_cluster_i\n",
    "\n",
    "        color = cm.nipy_spectral(float(i) / n_clusters)\n",
    "        ax1.fill_betweenx(np.arange(y_lower, y_upper),\n",
    "                          0, ith_cluster_silhouette_values,\n",
    "                          facecolor=color, edgecolor=color, alpha=0.7)\n",
    "\n",
    "        # Label the silhouette plots with their cluster numbers at the middle\n",
    "        ax1.text(-0.05, y_lower + 0.5 * size_cluster_i, str(i))\n",
    "\n",
    "        # Compute the new y_lower for next plot\n",
    "        y_lower = y_upper + 10  # 10 for the 0 samples\n",
    "\n",
    "    ax1.set_title(\"The silhouette plot for the various clusters.\")\n",
    "    ax1.set_xlabel(\"The silhouette coefficient values\")\n",
    "    ax1.set_ylabel(\"Cluster label\")\n",
    "\n",
    "    # The vertical line for average silhouette score of all the values\n",
    "    ax1.axvline(x=silhouette_avg, color=\"red\", linestyle=\"--\")\n",
    "\n",
    "    ax1.set_yticks([])  # Clear the yaxis labels / ticks\n",
    "    ax1.set_xticks([-0.3 , -0.2 , -0.1, 0, 0.1,0.2])\n",
    "\n",
    "    # 2nd Plot showing the actual clusters formed\n",
    "    #colors = cm.nipy_spectral(cluster_labels.astype(float) / n_clusters)\n",
    "    #ax2.scatter(X[:, 0], X[:, 1], marker='.', s=30, lw=0, alpha=0.7,\n",
    "                #c=colors, edgecolor='k')\n",
    "\n",
    "    # Labeling the clusters\n",
    "    #centers = clusterer.cluster_centroids_\n",
    "    # Draw white circles at cluster centers\n",
    "    #ax2.scatter(centers[:, 0], centers[:, 1], marker='o',\n",
    "               # c=\"white\", alpha=1, s=200, edgecolor='k')\n",
    "\n",
    "    #for i, c in enumerate(centers):\n",
    "        #ax2.scatter(c[0], c[1], marker='$%d$' % i, alpha=1,\n",
    "                    #s=50, edgecolor='k')\n",
    "\n",
    "    #ax2.set_title(\"The visualization of the clustered data.\")\n",
    "    #ax2.set_xlabel(\"Feature space for the 1st feature\")\n",
    "    #ax2.set_ylabel(\"Feature space for the 2nd feature\")\n",
    "\n",
    "    #plt.suptitle((\"Silhouette analysis for KMeans clustering on sample data \"\n",
    "                  #\"with n_clusters = %d\" % n_clusters),\n",
    "                 #fontsize=14, fontweight='bold')\n",
    "\n",
    "plt.show()"
   ]
  },
  {
   "cell_type": "markdown",
   "metadata": {},
   "source": [
    "- Se evidencia que el grupo cero es el más alejado o el que tiene altos valores superpuestos, sin embargo, el 3 y 2 cumple con unos grupos homogéneos, de puede evidenciar que la mayor proporción esta abarcada por el cluster 0 y el grupo 1. Cabe aclarar que en todos los grupos hay representación de valores positivos, sin embargo, dado el contexto del problema variables como la comuna la Candelaria pueden influir en este ya que \n",
    "\n",
    "\n",
    "\n"
   ]
  },
  {
   "cell_type": "markdown",
   "metadata": {},
   "source": [
    "- Tienden unas densidades más homogéneas entre los grupos sin embargo los grupos tienden a tener una métrica cada vez más alejada del enfoque deseado."
   ]
  },
  {
   "cell_type": "markdown",
   "metadata": {
    "colab_type": "text",
    "id": "mFOCtEjMHUxb"
   },
   "source": [
    "De acuerdo a la función de costo se selecciona el **k** óptimo el cual bajo el método del codo representa un quiebre en el costo de procesimiento para las diferentes iternaciones realizadas sobre los **k**, siendo en este caso el **k = 4**"
   ]
  },
  {
   "cell_type": "code",
   "execution_count": 107,
   "metadata": {
    "colab": {
     "base_uri": "https://localhost:8080/",
     "height": 118
    },
    "colab_type": "code",
    "id": "ADpetzbdOtgs",
    "outputId": "107b5771-d3c3-4c7e-96fe-c35db0babe8a"
   },
   "outputs": [
    {
     "name": "stdout",
     "output_type": "stream",
     "text": [
      "Init: initializing centroids\n",
      "Init: initializing clusters\n",
      "Starting iterations...\n",
      "Run 1, iteration: 1/100, moves: 19891, cost: 518439.0\n",
      "Run 1, iteration: 2/100, moves: 3228, cost: 517149.0\n",
      "Run 1, iteration: 3/100, moves: 937, cost: 517149.0\n"
     ]
    }
   ],
   "source": [
    "km_Huang = KModes(n_clusters=4, init = \"Huang\", n_init = 1, verbose=1)\n",
    "fitClusters_Huang = km_Huang.fit_predict(base_kmodas)"
   ]
  },
  {
   "cell_type": "code",
   "execution_count": 108,
   "metadata": {
    "colab": {
     "base_uri": "https://localhost:8080/",
     "height": 186
    },
    "colab_type": "code",
    "id": "Zu61fEcrHUxg",
    "outputId": "6b5cb256-4fa6-4fcc-88a6-ba6c6eea0a4f"
   },
   "outputs": [
    {
     "data": {
      "text/html": [
       "<div>\n",
       "<style scoped>\n",
       "    .dataframe tbody tr th:only-of-type {\n",
       "        vertical-align: middle;\n",
       "    }\n",
       "\n",
       "    .dataframe tbody tr th {\n",
       "        vertical-align: top;\n",
       "    }\n",
       "\n",
       "    .dataframe thead th {\n",
       "        text-align: right;\n",
       "    }\n",
       "</style>\n",
       "<table border=\"1\" class=\"dataframe\">\n",
       "  <thead>\n",
       "    <tr style=\"text-align: right;\">\n",
       "      <th></th>\n",
       "      <th>Jornada</th>\n",
       "      <th>Modalidad</th>\n",
       "      <th>Sexo</th>\n",
       "      <th>Rango_Edad</th>\n",
       "      <th>Rango_Edad_Pisc</th>\n",
       "      <th>Comuna</th>\n",
       "      <th>Grupo_Lugar</th>\n",
       "      <th>Valor_Hurto</th>\n",
       "      <th>Medio_Transporte_Agresor</th>\n",
       "      <th>Sede_Receptora</th>\n",
       "      <th>Arma_Medio</th>\n",
       "      <th>Grupo_bienes</th>\n",
       "      <th>Grupo_dia1</th>\n",
       "      <th>Grupo_dia2</th>\n",
       "      <th>Grupo_hora</th>\n",
       "      <th>Grupo_hora2</th>\n",
       "    </tr>\n",
       "  </thead>\n",
       "  <tbody>\n",
       "    <tr>\n",
       "      <td>0</td>\n",
       "      <td>0</td>\n",
       "      <td>0</td>\n",
       "      <td>1</td>\n",
       "      <td>4</td>\n",
       "      <td>2</td>\n",
       "      <td>1</td>\n",
       "      <td>10</td>\n",
       "      <td>500</td>\n",
       "      <td>3</td>\n",
       "      <td>4</td>\n",
       "      <td>4</td>\n",
       "      <td>8</td>\n",
       "      <td>2</td>\n",
       "      <td>1</td>\n",
       "      <td>0</td>\n",
       "      <td>2</td>\n",
       "    </tr>\n",
       "    <tr>\n",
       "      <td>1</td>\n",
       "      <td>3</td>\n",
       "      <td>0</td>\n",
       "      <td>0</td>\n",
       "      <td>6</td>\n",
       "      <td>3</td>\n",
       "      <td>2</td>\n",
       "      <td>10</td>\n",
       "      <td>500</td>\n",
       "      <td>3</td>\n",
       "      <td>10</td>\n",
       "      <td>1</td>\n",
       "      <td>2</td>\n",
       "      <td>3</td>\n",
       "      <td>2</td>\n",
       "      <td>2</td>\n",
       "      <td>1</td>\n",
       "    </tr>\n",
       "    <tr>\n",
       "      <td>2</td>\n",
       "      <td>1</td>\n",
       "      <td>3</td>\n",
       "      <td>1</td>\n",
       "      <td>7</td>\n",
       "      <td>4</td>\n",
       "      <td>1</td>\n",
       "      <td>10</td>\n",
       "      <td>500</td>\n",
       "      <td>3</td>\n",
       "      <td>4</td>\n",
       "      <td>4</td>\n",
       "      <td>8</td>\n",
       "      <td>1</td>\n",
       "      <td>0</td>\n",
       "      <td>1</td>\n",
       "      <td>1</td>\n",
       "    </tr>\n",
       "    <tr>\n",
       "      <td>3</td>\n",
       "      <td>2</td>\n",
       "      <td>0</td>\n",
       "      <td>0</td>\n",
       "      <td>3</td>\n",
       "      <td>2</td>\n",
       "      <td>1</td>\n",
       "      <td>10</td>\n",
       "      <td>500</td>\n",
       "      <td>3</td>\n",
       "      <td>4</td>\n",
       "      <td>4</td>\n",
       "      <td>8</td>\n",
       "      <td>1</td>\n",
       "      <td>0</td>\n",
       "      <td>3</td>\n",
       "      <td>0</td>\n",
       "    </tr>\n",
       "  </tbody>\n",
       "</table>\n",
       "</div>"
      ],
      "text/plain": [
       "   Jornada  Modalidad  Sexo  Rango_Edad  Rango_Edad_Pisc  Comuna  Grupo_Lugar  \\\n",
       "0        0          0     1           4                2       1           10   \n",
       "1        3          0     0           6                3       2           10   \n",
       "2        1          3     1           7                4       1           10   \n",
       "3        2          0     0           3                2       1           10   \n",
       "\n",
       "   Valor_Hurto  Medio_Transporte_Agresor  Sede_Receptora  Arma_Medio  \\\n",
       "0          500                         3               4           4   \n",
       "1          500                         3              10           1   \n",
       "2          500                         3               4           4   \n",
       "3          500                         3               4           4   \n",
       "\n",
       "   Grupo_bienes  Grupo_dia1  Grupo_dia2  Grupo_hora  Grupo_hora2  \n",
       "0             8           2           1           0            2  \n",
       "1             2           3           2           2            1  \n",
       "2             8           1           0           1            1  \n",
       "3             8           1           0           3            0  "
      ]
     },
     "execution_count": 108,
     "metadata": {},
     "output_type": "execute_result"
    }
   ],
   "source": [
    "clusterCentroidsDf = pd.DataFrame(km_Huang.cluster_centroids_)\n",
    "clusterCentroidsDf.columns = base_kmodas.columns\n",
    "clusterCentroidsDf"
   ]
  },
  {
   "cell_type": "code",
   "execution_count": 110,
   "metadata": {
    "colab": {
     "base_uri": "https://localhost:8080/",
     "height": 640
    },
    "colab_type": "code",
    "id": "28cBf0PJRRLX",
    "outputId": "d05bea2f-600d-49d8-e8b4-0184cf58e320"
   },
   "outputs": [],
   "source": [
    "basehurtosdef=Med2019.drop(['Dia','convertido'], axis=1)\n",
    "basehurtosdefc = basehurtosdef\n",
    "basehurtosdefc['Caso_Hurto']=basehurtosdefc.Caso_Hurto.astype(\"category\").cat.codes\n",
    "basehurtosdefc= basehurtosdefc.drop(['Mes_Calendario','Caso_Hurto','Barrio','Medio_Transporte','Categoria_Bien','Edad_Hurto','day','Minuto_Hurto','Grupo_Bien','Conducta_Especial','Conducta','Conducta','Cod._Barrio','Cod._Barrio','Cod._Comuna','Lugar','Estado_Civil','Bien','Dia_nombre','Hora_Hurto'], axis= 1)\n",
    "base = basehurtosdefc"
   ]
  },
  {
   "cell_type": "code",
   "execution_count": 120,
   "metadata": {},
   "outputs": [],
   "source": [
    "base_clust= base.reset_index()"
   ]
  },
  {
   "cell_type": "code",
   "execution_count": 121,
   "metadata": {
    "colab": {},
    "colab_type": "code",
    "id": "pVTSWopvRVHt"
   },
   "outputs": [],
   "source": [
    "clusterDF = pd.DataFrame(fitClusters_Huang)"
   ]
  },
  {
   "cell_type": "code",
   "execution_count": 122,
   "metadata": {
    "colab": {},
    "colab_type": "code",
    "id": "NdREU5JvRckl"
   },
   "outputs": [],
   "source": [
    "clusterDF.columns = ['cluster_predicted']"
   ]
  },
  {
   "cell_type": "code",
   "execution_count": 126,
   "metadata": {
    "colab": {},
    "colab_type": "code",
    "id": "DN7ODKPqRmZ5"
   },
   "outputs": [],
   "source": [
    "combinedDF = pd.concat([base,clusterDF], axis=1).reset_index()"
   ]
  },
  {
   "cell_type": "code",
   "execution_count": 128,
   "metadata": {
    "colab": {},
    "colab_type": "code",
    "id": "dFGME2obRrr2"
   },
   "outputs": [],
   "source": [
    "combinedDF = pd.concat([base_clust,clusterDF], axis=1).reset_index()"
   ]
  },
  {
   "cell_type": "code",
   "execution_count": 129,
   "metadata": {},
   "outputs": [],
   "source": [
    "combinedDF = combinedDF.drop(['index','level_0'],axis=1)"
   ]
  },
  {
   "cell_type": "code",
   "execution_count": 166,
   "metadata": {
    "colab": {},
    "colab_type": "code",
    "id": "qyfZKpxARtdL"
   },
   "outputs": [],
   "source": [
    "combinedDF.to_csv('Categorizada.csv', index=False)"
   ]
  },
  {
   "cell_type": "code",
   "execution_count": 164,
   "metadata": {},
   "outputs": [
    {
     "data": {
      "text/html": [
       "<div>\n",
       "<style scoped>\n",
       "    .dataframe tbody tr th:only-of-type {\n",
       "        vertical-align: middle;\n",
       "    }\n",
       "\n",
       "    .dataframe tbody tr th {\n",
       "        vertical-align: top;\n",
       "    }\n",
       "\n",
       "    .dataframe thead th {\n",
       "        text-align: right;\n",
       "    }\n",
       "</style>\n",
       "<table border=\"1\" class=\"dataframe\">\n",
       "  <thead>\n",
       "    <tr style=\"text-align: right;\">\n",
       "      <th></th>\n",
       "      <th>Jornada</th>\n",
       "      <th>Modalidad</th>\n",
       "      <th>Sexo</th>\n",
       "      <th>Rango_Edad</th>\n",
       "      <th>Rango_Edad_Pisc</th>\n",
       "      <th>Comuna</th>\n",
       "      <th>Geo_X_Hurto</th>\n",
       "      <th>Geo_Y_Hurto</th>\n",
       "      <th>Grupo_Lugar</th>\n",
       "      <th>Valor_Hurto</th>\n",
       "      <th>Medio_Transporte_Agresor</th>\n",
       "      <th>Sede_Receptora</th>\n",
       "      <th>Arma_Medio</th>\n",
       "      <th>Grupo_bienes</th>\n",
       "      <th>Grupo_dia1</th>\n",
       "      <th>Grupo_dia2</th>\n",
       "      <th>Grupo_hora</th>\n",
       "      <th>Grupo_hora2</th>\n",
       "      <th>cluster_predicted</th>\n",
       "    </tr>\n",
       "  </thead>\n",
       "  <tbody>\n",
       "    <tr>\n",
       "      <td>0</td>\n",
       "      <td>Noche</td>\n",
       "      <td>Halado</td>\n",
       "      <td>Hombre</td>\n",
       "      <td>25-28</td>\n",
       "      <td>18-28</td>\n",
       "      <td>2 Santa Cruz</td>\n",
       "      <td>-75,54969917</td>\n",
       "      <td>6,29909867</td>\n",
       "      <td>Habitacional</td>\n",
       "      <td>5000000</td>\n",
       "      <td>Caminata</td>\n",
       "      <td>Santa Cruz</td>\n",
       "      <td>Llave maestra</td>\n",
       "      <td>Vehículos</td>\n",
       "      <td>0</td>\n",
       "      <td>1</td>\n",
       "      <td>2</td>\n",
       "      <td>0</td>\n",
       "      <td>3</td>\n",
       "    </tr>\n",
       "    <tr>\n",
       "      <td>1</td>\n",
       "      <td>Mañana</td>\n",
       "      <td>Halado</td>\n",
       "      <td>Hombre</td>\n",
       "      <td>25-28</td>\n",
       "      <td>18-28</td>\n",
       "      <td>9 Buenos Aires</td>\n",
       "      <td>-75,53617064</td>\n",
       "      <td>6,22998405</td>\n",
       "      <td>Habitacional</td>\n",
       "      <td>4200000</td>\n",
       "      <td>Caminata</td>\n",
       "      <td>Buenos Aires</td>\n",
       "      <td>Llave maestra</td>\n",
       "      <td>Vehículos</td>\n",
       "      <td>0</td>\n",
       "      <td>1</td>\n",
       "      <td>1</td>\n",
       "      <td>1</td>\n",
       "      <td>0</td>\n",
       "    </tr>\n",
       "    <tr>\n",
       "      <td>2</td>\n",
       "      <td>Mañana</td>\n",
       "      <td>Halado</td>\n",
       "      <td>Mujer</td>\n",
       "      <td>25-28</td>\n",
       "      <td>18-28</td>\n",
       "      <td>4 Aranjuez</td>\n",
       "      <td>-75,5571555</td>\n",
       "      <td>6,27821866</td>\n",
       "      <td>Transporte</td>\n",
       "      <td>4000000</td>\n",
       "      <td>Caminata</td>\n",
       "      <td>Aranjuez</td>\n",
       "      <td>No</td>\n",
       "      <td>Vehículos</td>\n",
       "      <td>0</td>\n",
       "      <td>1</td>\n",
       "      <td>1</td>\n",
       "      <td>0</td>\n",
       "      <td>0</td>\n",
       "    </tr>\n",
       "    <tr>\n",
       "      <td>3</td>\n",
       "      <td>Noche</td>\n",
       "      <td>Halado</td>\n",
       "      <td>Mujer</td>\n",
       "      <td>46-52</td>\n",
       "      <td>40-59</td>\n",
       "      <td>5 Castilla</td>\n",
       "      <td>-75,56694979</td>\n",
       "      <td>6,30970945</td>\n",
       "      <td>Habitacional</td>\n",
       "      <td>2500000</td>\n",
       "      <td>Caminata</td>\n",
       "      <td>Castilla</td>\n",
       "      <td>Llave maestra</td>\n",
       "      <td>Vehículos</td>\n",
       "      <td>0</td>\n",
       "      <td>1</td>\n",
       "      <td>3</td>\n",
       "      <td>3</td>\n",
       "      <td>0</td>\n",
       "    </tr>\n",
       "    <tr>\n",
       "      <td>4</td>\n",
       "      <td>Noche</td>\n",
       "      <td>Halado</td>\n",
       "      <td>Mujer</td>\n",
       "      <td>39-45</td>\n",
       "      <td>29-39</td>\n",
       "      <td>10 La Candelaria</td>\n",
       "      <td>-75,55488355</td>\n",
       "      <td>6,24808629</td>\n",
       "      <td>Transporte</td>\n",
       "      <td>3500000</td>\n",
       "      <td>Caminata</td>\n",
       "      <td>Candelaria</td>\n",
       "      <td>Llave maestra</td>\n",
       "      <td>Vehículos</td>\n",
       "      <td>0</td>\n",
       "      <td>1</td>\n",
       "      <td>3</td>\n",
       "      <td>0</td>\n",
       "      <td>3</td>\n",
       "    </tr>\n",
       "    <tr>\n",
       "      <td>...</td>\n",
       "      <td>...</td>\n",
       "      <td>...</td>\n",
       "      <td>...</td>\n",
       "      <td>...</td>\n",
       "      <td>...</td>\n",
       "      <td>...</td>\n",
       "      <td>...</td>\n",
       "      <td>...</td>\n",
       "      <td>...</td>\n",
       "      <td>...</td>\n",
       "      <td>...</td>\n",
       "      <td>...</td>\n",
       "      <td>...</td>\n",
       "      <td>...</td>\n",
       "      <td>...</td>\n",
       "      <td>...</td>\n",
       "      <td>...</td>\n",
       "      <td>...</td>\n",
       "      <td>...</td>\n",
       "    </tr>\n",
       "    <tr>\n",
       "      <td>59666</td>\n",
       "      <td>Tarde</td>\n",
       "      <td>Descuido</td>\n",
       "      <td>Hombre</td>\n",
       "      <td>18-24</td>\n",
       "      <td>18-28</td>\n",
       "      <td>10 La Candelaria</td>\n",
       "      <td>-75,57235063</td>\n",
       "      <td>6,24905821</td>\n",
       "      <td>Económica</td>\n",
       "      <td>50000</td>\n",
       "      <td>Caminata</td>\n",
       "      <td>Candelaria</td>\n",
       "      <td>No</td>\n",
       "      <td>Documentos</td>\n",
       "      <td>3</td>\n",
       "      <td>2</td>\n",
       "      <td>2</td>\n",
       "      <td>2</td>\n",
       "      <td>3</td>\n",
       "    </tr>\n",
       "    <tr>\n",
       "      <td>59667</td>\n",
       "      <td>Noche</td>\n",
       "      <td>Atraco</td>\n",
       "      <td>Hombre</td>\n",
       "      <td>39-45</td>\n",
       "      <td>40-59</td>\n",
       "      <td>10 La Candelaria</td>\n",
       "      <td>-75,55797073</td>\n",
       "      <td>6,24829133</td>\n",
       "      <td>Transporte</td>\n",
       "      <td>4300000</td>\n",
       "      <td>Motocicleta con parrillero</td>\n",
       "      <td>Candelaria</td>\n",
       "      <td>Arma de fuego</td>\n",
       "      <td>Tecnología</td>\n",
       "      <td>3</td>\n",
       "      <td>2</td>\n",
       "      <td>3</td>\n",
       "      <td>0</td>\n",
       "      <td>3</td>\n",
       "    </tr>\n",
       "    <tr>\n",
       "      <td>59668</td>\n",
       "      <td>Tarde</td>\n",
       "      <td>Atraco</td>\n",
       "      <td>Mujer</td>\n",
       "      <td>39-45</td>\n",
       "      <td>40-59</td>\n",
       "      <td>10 La Candelaria</td>\n",
       "      <td>-75,56622356</td>\n",
       "      <td>6,24795678</td>\n",
       "      <td>Económica</td>\n",
       "      <td>700000</td>\n",
       "      <td>Caminata</td>\n",
       "      <td>Candelaria</td>\n",
       "      <td>No</td>\n",
       "      <td>Dinero</td>\n",
       "      <td>3</td>\n",
       "      <td>2</td>\n",
       "      <td>2</td>\n",
       "      <td>2</td>\n",
       "      <td>0</td>\n",
       "    </tr>\n",
       "    <tr>\n",
       "      <td>59669</td>\n",
       "      <td>Tarde</td>\n",
       "      <td>Engaño</td>\n",
       "      <td>Hombre</td>\n",
       "      <td>46-52</td>\n",
       "      <td>40-59</td>\n",
       "      <td>16 Belen</td>\n",
       "      <td>-75,59974741</td>\n",
       "      <td>6,23716185</td>\n",
       "      <td>Habitacional</td>\n",
       "      <td>1000000</td>\n",
       "      <td>Caminata</td>\n",
       "      <td>Belén</td>\n",
       "      <td>No</td>\n",
       "      <td>Tecnología</td>\n",
       "      <td>3</td>\n",
       "      <td>2</td>\n",
       "      <td>2</td>\n",
       "      <td>2</td>\n",
       "      <td>1</td>\n",
       "    </tr>\n",
       "    <tr>\n",
       "      <td>59670</td>\n",
       "      <td>Madrugada</td>\n",
       "      <td>Cosquilleo</td>\n",
       "      <td>Hombre</td>\n",
       "      <td>25-28</td>\n",
       "      <td>18-28</td>\n",
       "      <td>10 La Candelaria</td>\n",
       "      <td>-75,56960321</td>\n",
       "      <td>6,24816523</td>\n",
       "      <td>Transporte</td>\n",
       "      <td>789000</td>\n",
       "      <td>Metro</td>\n",
       "      <td>Candelaria</td>\n",
       "      <td>No</td>\n",
       "      <td>Tecnología</td>\n",
       "      <td>3</td>\n",
       "      <td>2</td>\n",
       "      <td>0</td>\n",
       "      <td>3</td>\n",
       "      <td>0</td>\n",
       "    </tr>\n",
       "  </tbody>\n",
       "</table>\n",
       "<p>59671 rows × 19 columns</p>\n",
       "</div>"
      ],
      "text/plain": [
       "         Jornada   Modalidad    Sexo Rango_Edad Rango_Edad_Pisc  \\\n",
       "0          Noche      Halado  Hombre      25-28           18-28   \n",
       "1         Mañana      Halado  Hombre      25-28           18-28   \n",
       "2         Mañana      Halado   Mujer      25-28           18-28   \n",
       "3          Noche      Halado   Mujer      46-52           40-59   \n",
       "4          Noche      Halado   Mujer      39-45           29-39   \n",
       "...          ...         ...     ...        ...             ...   \n",
       "59666      Tarde    Descuido  Hombre      18-24           18-28   \n",
       "59667      Noche      Atraco  Hombre      39-45           40-59   \n",
       "59668      Tarde      Atraco   Mujer      39-45           40-59   \n",
       "59669      Tarde      Engaño  Hombre      46-52           40-59   \n",
       "59670  Madrugada  Cosquilleo  Hombre      25-28           18-28   \n",
       "\n",
       "                 Comuna   Geo_X_Hurto Geo_Y_Hurto   Grupo_Lugar  Valor_Hurto  \\\n",
       "0          2 Santa Cruz  -75,54969917  6,29909867  Habitacional      5000000   \n",
       "1        9 Buenos Aires  -75,53617064  6,22998405  Habitacional      4200000   \n",
       "2            4 Aranjuez   -75,5571555  6,27821866    Transporte      4000000   \n",
       "3            5 Castilla  -75,56694979  6,30970945  Habitacional      2500000   \n",
       "4      10 La Candelaria  -75,55488355  6,24808629    Transporte      3500000   \n",
       "...                 ...           ...         ...           ...          ...   \n",
       "59666  10 La Candelaria  -75,57235063  6,24905821     Económica        50000   \n",
       "59667  10 La Candelaria  -75,55797073  6,24829133    Transporte      4300000   \n",
       "59668  10 La Candelaria  -75,56622356  6,24795678     Económica       700000   \n",
       "59669          16 Belen  -75,59974741  6,23716185  Habitacional      1000000   \n",
       "59670  10 La Candelaria  -75,56960321  6,24816523    Transporte       789000   \n",
       "\n",
       "         Medio_Transporte_Agresor Sede_Receptora     Arma_Medio Grupo_bienes  \\\n",
       "0                        Caminata     Santa Cruz  Llave maestra    Vehículos   \n",
       "1                        Caminata   Buenos Aires  Llave maestra    Vehículos   \n",
       "2                        Caminata       Aranjuez             No    Vehículos   \n",
       "3                        Caminata       Castilla  Llave maestra    Vehículos   \n",
       "4                        Caminata     Candelaria  Llave maestra    Vehículos   \n",
       "...                           ...            ...            ...          ...   \n",
       "59666                    Caminata     Candelaria             No   Documentos   \n",
       "59667  Motocicleta con parrillero     Candelaria  Arma de fuego   Tecnología   \n",
       "59668                    Caminata     Candelaria             No       Dinero   \n",
       "59669                    Caminata          Belén             No   Tecnología   \n",
       "59670                       Metro     Candelaria             No   Tecnología   \n",
       "\n",
       "       Grupo_dia1  Grupo_dia2  Grupo_hora  Grupo_hora2  cluster_predicted  \n",
       "0               0           1           2            0                  3  \n",
       "1               0           1           1            1                  0  \n",
       "2               0           1           1            0                  0  \n",
       "3               0           1           3            3                  0  \n",
       "4               0           1           3            0                  3  \n",
       "...           ...         ...         ...          ...                ...  \n",
       "59666           3           2           2            2                  3  \n",
       "59667           3           2           3            0                  3  \n",
       "59668           3           2           2            2                  0  \n",
       "59669           3           2           2            2                  1  \n",
       "59670           3           2           0            3                  0  \n",
       "\n",
       "[59671 rows x 19 columns]"
      ]
     },
     "execution_count": 164,
     "metadata": {},
     "output_type": "execute_result"
    }
   ],
   "source": [
    "combinedDF"
   ]
  },
  {
   "cell_type": "code",
   "execution_count": 222,
   "metadata": {},
   "outputs": [],
   "source": [
    "data= np.array(combinedDF)"
   ]
  },
  {
   "cell_type": "markdown",
   "metadata": {},
   "source": [
    "### Análisis de Grupos"
   ]
  },
  {
   "cell_type": "markdown",
   "metadata": {},
   "source": [
    "De acuerdo con lo anterior se obtiene un resultado de 4 grupos, dado que el objetivo de este tipo de algoritmos es caracterizar los datos se realiza a continuación un análisis descriptivo de los resultados."
   ]
  },
  {
   "cell_type": "markdown",
   "metadata": {},
   "source": [
    "### Clúster 0:\n",
    "#### Resumen de descripción\n",
    "-\tClúster con el 30.6% de los datos\n",
    "-\tPersonas víctimas de hurtos en la madrugada\n",
    "-\tModalidad de robo atraco y cosquilleo\n",
    "-\tHurto cometido a hombres y mujeres\n",
    "-\tPersonas víctimas entre los 18 y 28 años\n",
    "-\tVictimarios jóvenes entre los 18 y 29 años\n",
    "-\tHurtos cometidos en la candelaria \n",
    "-\tDenuncios realizados en sede policial de la candelaria\n",
    "-\tPor lo general el victimario no utiliza arma\n",
    "-\tLos principales elementos hurtados son tecnología, documentos y dinero\n",
    "-\tDías de hurto entre los 15 y 23 días del mes\n",
    "-\tPerteneces también hurtos entre los días 1,2,10,12,18,21,22,23,27,28 del mes\n",
    "-\tLos hurtos son cometidos en horas mayores a las 18 p.m y menores a las 7 a.m \n",
    "-\tAlgunas horas foco horas foco 20,19,21.\n",
    "\n",
    "### Clúster 1:\n",
    "#### Resumen de descripción:\n",
    "con el 25,4% de los datos\n",
    "-\tPersonas víctimas de hurtos en la tarde\n",
    "-\tModalidad de robo atraco\n",
    "-\tHurto cometido a hombre\n",
    "-\tPersonas víctimas entre los 29 y 38 años\n",
    "-\tVictimarios jóvenes entre los 29 y 39 años\n",
    "-\tHurtos cometidos en la Laureles\n",
    "-\tDenuncios realizados en sede policial de la Laureles\n",
    "-\tPor lo general el victimario arma de fuego.\n",
    "-\tLos principales elementos hurtados son dinero, tecnología y vehículos \n",
    "-\tDías de hurto últimos 7 días del mes\n",
    "-\tHurtos entre los días 3,13,14,17,19,20,24,25,26,29,31 del mes\n",
    "-\tLos hurtos son cometidos en horas mayores a las 18 p.m y menores a las 12 p.m y 18 p.m\n",
    "-\tAlgunas horas foco horas foco 6,14,8,5,13,3\n",
    "\n",
    "### Clúster 2:\n",
    "#### Resumen de descripción:\n",
    "-\tClúster con el 19,4% de los datos\n",
    "-\tPersonas víctimas de hurtos en la mañana\n",
    "-\tModalidad de robo descuido\n",
    "-\tHurto cometido a mujeres\n",
    "-\tPersonas víctimas entre los 39 y 45 años\n",
    "-\tVictimarios jóvenes entre los 40 y 59 años\n",
    "-\tHurtos cometidos en la Candelaria\n",
    "-\tDenuncios realizados en sede policial de la Candelaria\n",
    "-\tPor lo general el victimario no uso de arma\n",
    "-\tLos principales elementos hurtados son tecnología, dinero, vehículos y documento\n",
    "-\tDías de hurto primeros 15 días del mes\n",
    "-\tPerteneces también hurtos entre los días 2,4,5,6,8,9,11,15,16,30 del mes\n",
    "-\tLos hurtos son cometidos en horas mayores las 7 a.m y 12 p.m\n",
    "\n",
    "### Clúster 3:\n",
    "#### Resumen de descripción:\n",
    "-\tClúster con el 24,6% de los datos\n",
    "-\tPersonas víctimas de hurtos en la noche\n",
    "-\tModalidad de robo atraco\n",
    "-\tHurto cometido a hombres\n",
    "-\tPersonas víctimas entre los 18 y 24 años\n",
    "-\tVictimarios jóvenes entre los 18 y 29 años\n",
    "-\tHurtos cometidos en la Candelaria y Poblado\n",
    "-\tDenuncios realizados en sede policial de la Candelaria y Laureles\n",
    "-\tPor lo general el victimario el no uso de arma seguido de arma cortopunzante y arma de fuego.\n",
    "-\tLos principales elementos hurtados son tecnología, dinero, vehículos y vehículos\n",
    "-\tDías de hurto primeros 15 días del mes\n",
    "-\tPerteneces también hurtos entre los días 2,4,5,6,8,9,11,15,16,30 del mes\n",
    "-\tLos hurtos son cometidos en horas mayores a las 18 p.m\n",
    "-\tAlgunas horas foco horas foco 22,2,4,0,1,23\n"
   ]
  },
  {
   "cell_type": "markdown",
   "metadata": {},
   "source": [
    "### Conclusiones\n",
    "-\tPara elegir un k óptimo el método de k modes utiliza según la literatura la medida del costo, sin embargo, al combinar o comparar esta medida con otras como métodos que miden la cohesión se evidencia que las métricas podrían no ser tan eficientes, sin embargo, ante tantas categorías corresponde a un método adaptado que es útil al momento de generar clasificación.\n",
    "-\tEn nuestro ejercicio si bien se generó una descripción correcta de las características predominaron datos con clases que representan una gran proporción en el set de datos, como lo son la Comuna de la Candelaria donde se concentran los mayores robos en la ciudad de Medellín, lo que se convierte en una de la razón para que la métrica de la silueta genere un valor negativo y bajo nuestro k = 4 que tiende a cero, tener este tipo de datos podrían superponer los grupos.\n",
    "-\tLos datos categóricos deben ser tratados bajo medidas de disimilitud, ya que de estos deben ser comparado bajo este tipo de métricas, como recomendación general. \n",
    "-\tBajo el criterio de experto se hace coherente el resultado de los cluster, ya que aunque predominaba la categoría de atraco como modalidad, Candelaria como comuna y caminata como tipo de vehículo utilizado, factores que generan inseguridad como lo son las horas y días de hurto fueron bien calificados los cuales también estuvieron influenciados por el genero.\n",
    "\n",
    "\n"
   ]
  }
 ],
 "metadata": {
  "colab": {
   "name": "Modelo_No_Supervisado (2).ipynb",
   "provenance": [],
   "toc_visible": true
  },
  "kernelspec": {
   "display_name": "Python 3",
   "language": "python",
   "name": "python3"
  },
  "language_info": {
   "codemirror_mode": {
    "name": "ipython",
    "version": 3
   },
   "file_extension": ".py",
   "mimetype": "text/x-python",
   "name": "python",
   "nbconvert_exporter": "python",
   "pygments_lexer": "ipython3",
   "version": "3.7.4"
  }
 },
 "nbformat": 4,
 "nbformat_minor": 1
}
