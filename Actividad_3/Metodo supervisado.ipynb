{
 "cells": [
  {
   "cell_type": "markdown",
   "metadata": {},
   "source": [
    "## CURSO APRENDIZAJE AUTOMATICO AVANZADO.\n",
    "### Tarea 3: Modelos  Supervisados\n",
    "\n",
    "##### Integrantes:\n",
    "* Ana María Urán González.\n",
    "* Karen Lizeth Velásquez  Moná."
   ]
  },
  {
   "cell_type": "markdown",
   "metadata": {},
   "source": [
    "## Carga de base de datos"
   ]
  },
  {
   "cell_type": "markdown",
   "metadata": {},
   "source": [
    "Importamos las  librerias necesarias  para  realizar el proceso de ingenieria de  caracteristicas"
   ]
  },
  {
   "cell_type": "code",
   "execution_count": 28,
   "metadata": {},
   "outputs": [],
   "source": [
    "import pandas as pd\n",
    "import matplotlib.pyplot as plt \n",
    "import numpy as np\n",
    "import pandas as pd\n",
    "import sklearn\n",
    "from sklearn.model_selection import train_test_split\n",
    "from sklearn.ensemble import RandomForestClassifier\n",
    "from matplotlib import pyplot\n",
    "from sklearn.metrics import recall_score\n",
    "from sklearn.metrics import f1_score\n",
    "from sklearn.ensemble import AdaBoostClassifier\n"
   ]
  },
  {
   "cell_type": "markdown",
   "metadata": {},
   "source": [
    "Ajustamos  nuestro dataset para modelado segun los criterios  definidos  en el  notebook de la tarea 2 (Ingenieria de caracteristicas), recordemos que este corresponde  a los hurtos  realizados en la ciudad de  Medellín  durante  2019 y  nos  interesa  diseñar un algoritmo que nos  clasifique  el  hurto a personas  de las  otras  tipologías de  hurto."
   ]
  },
  {
   "cell_type": "code",
   "execution_count": 3,
   "metadata": {},
   "outputs": [
    {
     "name": "stderr",
     "output_type": "stream",
     "text": [
      "C:\\Users\\Acer\\Anaconda3\\lib\\site-packages\\IPython\\core\\interactiveshell.py:3063: DtypeWarning: Columns (24) have mixed types.Specify dtype option on import or set low_memory=False.\n",
      "  interactivity=interactivity, compiler=compiler, result=result)\n"
     ]
    }
   ],
   "source": [
    "Medellin=pd.read_csv('C:/Users/Acer/Downloads/Ana_base4.csv',sep=';',encoding = 'UTF-8') #Carga datos\n",
    "Medellin2019=Medellin[(Medellin['Ano'] == 2019) & (Medellin['Caso_Hurto']==1)].drop(['Hurto',\n",
    "            'Codigo_Stage_Hurto','Caso_Hurto','Ano','Minuto_Hurto','Nombre_Bien_Sijin_Hurto',\n",
    "            'Conducta_Especial','Responsable_Indicador','Modelo_Hurto','Medio_Transporte',\n",
    "            'Grupo_Sede_Receptora','Marca','Color','Fecha_Actualización_Hurto'], axis=1)\n",
    "categoria_bien=['Tecnología','Dinero, joyas, piedras preciosas y título valor',\n",
    "                'Vehículos de 2 o 4 ruedas','Documentos','Prendas de vestir y accesorios',\n",
    "                'Otros elementos','Automóvil','Alimento','Electrodomésticos','Maquinaria y equipo']\n",
    "filtro1=Medellin2019[Medellin2019['Categoria_Bien'].isin(categoria_bien)]\n",
    "filtro2=filtro1[(filtro1['Modalidad'] != 'Sin dato')]\n",
    "filtro3=filtro2[(filtro2['Edad_Hurto'] >=20 ) & (filtro2['Edad_Hurto'] <=62 )]"
   ]
  },
  {
   "cell_type": "markdown",
   "metadata": {},
   "source": [
    "A continuación crearemos las  variables nuevas"
   ]
  },
  {
   "cell_type": "code",
   "execution_count": 4,
   "metadata": {},
   "outputs": [
    {
     "name": "stderr",
     "output_type": "stream",
     "text": [
      "C:\\Users\\Acer\\Anaconda3\\lib\\site-packages\\ipykernel_launcher.py:22: SettingWithCopyWarning: \n",
      "A value is trying to be set on a copy of a slice from a DataFrame.\n",
      "Try using .loc[row_indexer,col_indexer] = value instead\n",
      "\n",
      "See the caveats in the documentation: https://pandas.pydata.org/pandas-docs/stable/user_guide/indexing.html#returning-a-view-versus-a-copy\n"
     ]
    }
   ],
   "source": [
    "bienes=[]\n",
    "tecnologia=['Tecnología']\n",
    "Dinero=['Dinero, joyas, piedras preciosas y título valor']\n",
    "Documentos=['Documentos']\n",
    "Vehiculos=['Vehículos de 2 o 4 ruedas','Automóvil']\n",
    "Ropa=['Prendas de vestir y accesorios']\n",
    "\n",
    "for i in range(0,len(filtro3)):\n",
    "    if filtro3['Categoria_Bien'].values.tolist()[i] in tecnologia:\n",
    "        P='Tecnología'\n",
    "    elif filtro3['Categoria_Bien'].values.tolist()[i] in Dinero:\n",
    "        P='Dinero'\n",
    "    elif filtro3['Categoria_Bien'].values.tolist()[i] in Documentos:  \n",
    "        P='Documentos'\n",
    "    elif filtro3['Categoria_Bien'].values.tolist()[i] in Vehiculos: \n",
    "        P='Vehiculos'\n",
    "    elif filtro3['Categoria_Bien'].values.tolist()[i] in Ropa:\n",
    "        P='Ropa'\n",
    "    else:\n",
    "        P='Otras'\n",
    "    bienes.append(P)\n",
    "filtro3['bienes']=bienes"
   ]
  },
  {
   "cell_type": "code",
   "execution_count": 5,
   "metadata": {},
   "outputs": [
    {
     "name": "stderr",
     "output_type": "stream",
     "text": [
      "C:\\Users\\Acer\\Anaconda3\\lib\\site-packages\\ipykernel_launcher.py:25: SettingWithCopyWarning: \n",
      "A value is trying to be set on a copy of a slice from a DataFrame.\n",
      "Try using .loc[row_indexer,col_indexer] = value instead\n",
      "\n",
      "See the caveats in the documentation: https://pandas.pydata.org/pandas-docs/stable/user_guide/indexing.html#returning-a-view-versus-a-copy\n"
     ]
    }
   ],
   "source": [
    "Zona=[]\n",
    "nororiental=[1,2,3,4]\n",
    "centroriental=[8,9,10]\n",
    "suroriental=[14]\n",
    "noroccidental=[5,6,7]\n",
    "cetroccidental=[11,12,13]\n",
    "suroccidental=[15,16]\n",
    "\n",
    "for i in range(0,len(filtro3)):\n",
    "    if filtro3['Cod._Comuna'].values.tolist()[i] in nororiental:\n",
    "        P='Nororiental'\n",
    "    elif filtro3['Cod._Comuna'].values.tolist()[i] in centroriental:\n",
    "        P='Centroriental'\n",
    "    elif filtro3['Cod._Comuna'].values.tolist()[i] in suroriental:  \n",
    "        P='Suroriental'\n",
    "    elif filtro3['Cod._Comuna'].values.tolist()[i] in noroccidental: \n",
    "        P='Noroccidental'\n",
    "    elif filtro3['Cod._Comuna'].values.tolist()[i] in cetroccidental:\n",
    "        P='Centroccidental'\n",
    "    elif filtro3['Cod._Comuna'].values.tolist()[i] in suroccidental:\n",
    "        P='Suroccidental'\n",
    "    else:\n",
    "        P='Otras'\n",
    "    Zona.append(P)\n",
    "filtro3['Zona']=Zona"
   ]
  },
  {
   "cell_type": "code",
   "execution_count": 6,
   "metadata": {},
   "outputs": [
    {
     "name": "stderr",
     "output_type": "stream",
     "text": [
      "C:\\Users\\Acer\\Anaconda3\\lib\\site-packages\\ipykernel_launcher.py:19: SettingWithCopyWarning: \n",
      "A value is trying to be set on a copy of a slice from a DataFrame.\n",
      "Try using .loc[row_indexer,col_indexer] = value instead\n",
      "\n",
      "See the caveats in the documentation: https://pandas.pydata.org/pandas-docs/stable/user_guide/indexing.html#returning-a-view-versus-a-copy\n"
     ]
    }
   ],
   "source": [
    "modalidades=[]\n",
    "atracos=['Comisión de delito','Atraco']\n",
    "Escopolamina=['Escopolamina']\n",
    "Cosquilleo_raponazo=['Cosquilleo','Raponazo']\n",
    "Engaño_descuido=['Descuido','Engaño','Simulando necesidad','Suplantación','Paquete chileno']\n",
    "\n",
    "for i in range(0,len(filtro3)):\n",
    "    if filtro3['Modalidad'].values.tolist()[i] in atracos:\n",
    "        P='atracos'\n",
    "    elif filtro3['Modalidad'].values.tolist()[i] in Escopolamina:\n",
    "        P='Escopolamina'\n",
    "    elif filtro3['Modalidad'].values.tolist()[i] in Cosquilleo_raponazo:  \n",
    "        P='Cosquilleo_raponazo'\n",
    "    elif filtro3['Modalidad'].values.tolist()[i] in Engaño_descuido: \n",
    "        P='Engaño_descuido'\n",
    "    else:\n",
    "        P='Otras'\n",
    "    modalidades.append(P)\n",
    "filtro3['modalidades']=modalidades"
   ]
  },
  {
   "cell_type": "code",
   "execution_count": 7,
   "metadata": {},
   "outputs": [
    {
     "name": "stderr",
     "output_type": "stream",
     "text": [
      "C:\\Users\\Acer\\Anaconda3\\lib\\site-packages\\ipykernel_launcher.py:15: SettingWithCopyWarning: \n",
      "A value is trying to be set on a copy of a slice from a DataFrame.\n",
      "Try using .loc[row_indexer,col_indexer] = value instead\n",
      "\n",
      "See the caveats in the documentation: https://pandas.pydata.org/pandas-docs/stable/user_guide/indexing.html#returning-a-view-versus-a-copy\n",
      "  from ipykernel import kernelapp as app\n"
     ]
    }
   ],
   "source": [
    "transporte=[]\n",
    "caminata=['Caminata']\n",
    "moto=['Motocicleta','Motocicleta con parrillero']\n",
    "publico=['Metro','Taxi']\n",
    "for i in range(0,len(filtro3)):\n",
    "    if filtro3['Medio_Transporte_Agresor'].values.tolist()[i] in caminata:\n",
    "        P='caminata'\n",
    "    elif filtro3['Medio_Transporte_Agresor'].values.tolist()[i] in moto:  \n",
    "        P='moto'\n",
    "    elif filtro3['Medio_Transporte_Agresor'].values.tolist()[i] in publico: \n",
    "        P='publico'\n",
    "    else:\n",
    "        P='Otras'\n",
    "    transporte.append(P)\n",
    "filtro3['transporte']=transporte"
   ]
  },
  {
   "cell_type": "code",
   "execution_count": 8,
   "metadata": {},
   "outputs": [
    {
     "name": "stderr",
     "output_type": "stream",
     "text": [
      "C:\\Users\\Acer\\Anaconda3\\lib\\site-packages\\ipykernel_launcher.py:18: SettingWithCopyWarning: \n",
      "A value is trying to be set on a copy of a slice from a DataFrame.\n",
      "Try using .loc[row_indexer,col_indexer] = value instead\n",
      "\n",
      "See the caveats in the documentation: https://pandas.pydata.org/pandas-docs/stable/user_guide/indexing.html#returning-a-view-versus-a-copy\n"
     ]
    }
   ],
   "source": [
    "lugar=[]\n",
    "comercios=['Económica']\n",
    "habitacional=['Habitacional']\n",
    "culturales_deportivos=['Otro','Social','Cultura deportes y recreación']\n",
    "transporte=['Transporte']\n",
    "for i in range(0,len(filtro3)):\n",
    "    if filtro3['Grupo_Lugar'].values.tolist()[i] in comercios:\n",
    "        P='Comercios'\n",
    "    elif filtro3['Grupo_Lugar'].values.tolist()[i] in habitacional:\n",
    "        P='Habitacional'\n",
    "    elif filtro3['Grupo_Lugar'].values.tolist()[i] in culturales_deportivos: \n",
    "        P='Cultural'\n",
    "    elif filtro3['Grupo_Lugar'].values.tolist()[i] in transporte: \n",
    "        P='Transporte'\n",
    "    else:\n",
    "        P='Otras'\n",
    "    lugar.append(P)\n",
    "filtro3['lugar']=lugar"
   ]
  },
  {
   "cell_type": "code",
   "execution_count": 9,
   "metadata": {},
   "outputs": [
    {
     "name": "stderr",
     "output_type": "stream",
     "text": [
      "C:\\Users\\Acer\\Anaconda3\\lib\\site-packages\\ipykernel_launcher.py:15: SettingWithCopyWarning: \n",
      "A value is trying to be set on a copy of a slice from a DataFrame.\n",
      "Try using .loc[row_indexer,col_indexer] = value instead\n",
      "\n",
      "See the caveats in the documentation: https://pandas.pydata.org/pandas-docs/stable/user_guide/indexing.html#returning-a-view-versus-a-copy\n",
      "  from ipykernel import kernelapp as app\n"
     ]
    }
   ],
   "source": [
    "arma=[]\n",
    "armas=['Arma cortopunzante','Arma de fuego']\n",
    "otros=['Objeto contundente','Llave maestra']\n",
    "sin_arma=['No']\n",
    "for i in range(0,len(filtro3)):\n",
    "    if filtro3['Arma_Medio'].values.tolist()[i] in armas:\n",
    "        P='armas'\n",
    "    elif filtro3['Arma_Medio'].values.tolist()[i] in otros:\n",
    "        P='Otros_elementos'\n",
    "    elif filtro3['Arma_Medio'].values.tolist()[i] in sin_arma:\n",
    "        P='Sin_arma'\n",
    "    else:\n",
    "        P='Escopolamina'\n",
    "    arma.append(P)\n",
    "filtro3['arma']=arma"
   ]
  },
  {
   "cell_type": "code",
   "execution_count": 10,
   "metadata": {},
   "outputs": [
    {
     "name": "stderr",
     "output_type": "stream",
     "text": [
      "C:\\Users\\Acer\\Anaconda3\\lib\\site-packages\\ipykernel_launcher.py:1: SettingWithCopyWarning: \n",
      "A value is trying to be set on a copy of a slice from a DataFrame.\n",
      "Try using .loc[row_indexer,col_indexer] = value instead\n",
      "\n",
      "See the caveats in the documentation: https://pandas.pydata.org/pandas-docs/stable/user_guide/indexing.html#returning-a-view-versus-a-copy\n",
      "  \"\"\"Entry point for launching an IPython kernel.\n",
      "C:\\Users\\Acer\\Anaconda3\\lib\\site-packages\\ipykernel_launcher.py:2: SettingWithCopyWarning: \n",
      "A value is trying to be set on a copy of a slice from a DataFrame.\n",
      "Try using .loc[row_indexer,col_indexer] = value instead\n",
      "\n",
      "See the caveats in the documentation: https://pandas.pydata.org/pandas-docs/stable/user_guide/indexing.html#returning-a-view-versus-a-copy\n",
      "  \n"
     ]
    }
   ],
   "source": [
    "filtro3[\"convertido\"]=pd.to_datetime(filtro3[\"Dia\"],dayfirst=True)\n",
    "filtro3[\"dia\"]=filtro3[\"convertido\"].apply(lambda row:row.day)"
   ]
  },
  {
   "cell_type": "code",
   "execution_count": 14,
   "metadata": {
    "scrolled": true
   },
   "outputs": [
    {
     "data": {
      "image/png": "[encoded data removed]",
      "text/plain": [
       "<Figure size 432x288 with 1 Axes>"
      ]
     },
     "metadata": {
      "needs_background": "light"
     },
     "output_type": "display_data"
    }
   ],
   "source": [
    "filtro3['Conducta'].value_counts().plot(kind='bar', title='Hurtos')\n",
    "plt.show()"
   ]
  },
  {
   "cell_type": "markdown",
   "metadata": {},
   "source": [
    "Como lo vemos en el anterior gráfico, existen un desbalance entre las  clases entre las  tipologias de hurto.\n",
    "Este problema puede derivar en un deterioro  en la eficiencia del clasificador, aumentando así  los  casos de  Falsos-positivos ya que  el algoritmo desempeñaría una buena  labor  sobre la  clase mayoritaria en  detrimentos a la minoritaria debido a que  en la  muestra encuentra una  gran cantidad de  valores asociados a la categoría dominante.\n"
   ]
  },
  {
   "cell_type": "code",
   "execution_count": 12,
   "metadata": {},
   "outputs": [],
   "source": [
    "Med2019=filtro3.drop(['Dia','Jornada','Categoria_Bien','Modalidad','Grupo_Bien','Bien','Categoria_Bien',\n",
    "                        'Rango_Edad', 'Rango_Edad_Pisc','Grupo_Lugar','Arma_Medio','Cod._Barrio','Cod._Comuna',\n",
    "                      'Geo_X_Hurto', 'Geo_Y_Hurto','Lugar',\n",
    "                       'Medio_Transporte_Agresor', 'convertido'],axis=1)"
   ]
  },
  {
   "cell_type": "code",
   "execution_count": 13,
   "metadata": {},
   "outputs": [
    {
     "data": {
      "text/html": [
       "<div>\n",
       "<style scoped>\n",
       "    .dataframe tbody tr th:only-of-type {\n",
       "        vertical-align: middle;\n",
       "    }\n",
       "\n",
       "    .dataframe tbody tr th {\n",
       "        vertical-align: top;\n",
       "    }\n",
       "\n",
       "    .dataframe thead th {\n",
       "        text-align: right;\n",
       "    }\n",
       "</style>\n",
       "<table border=\"1\" class=\"dataframe\">\n",
       "  <thead>\n",
       "    <tr style=\"text-align: right;\">\n",
       "      <th></th>\n",
       "      <th>Hora_Hurto</th>\n",
       "      <th>Conducta</th>\n",
       "      <th>Edad_Hurto</th>\n",
       "      <th>Valor_Hurto</th>\n",
       "      <th>dia</th>\n",
       "      <th>Dia_nombre_Jueves</th>\n",
       "      <th>Dia_nombre_Lunes</th>\n",
       "      <th>Dia_nombre_Martes</th>\n",
       "      <th>Dia_nombre_Miércoles</th>\n",
       "      <th>Dia_nombre_Sábado</th>\n",
       "      <th>...</th>\n",
       "      <th>transporte_caminata</th>\n",
       "      <th>transporte_moto</th>\n",
       "      <th>transporte_publico</th>\n",
       "      <th>lugar_Cultural</th>\n",
       "      <th>lugar_Habitacional</th>\n",
       "      <th>lugar_Otras</th>\n",
       "      <th>lugar_Transporte</th>\n",
       "      <th>arma_Otros_elementos</th>\n",
       "      <th>arma_Sin_arma</th>\n",
       "      <th>arma_armas</th>\n",
       "    </tr>\n",
       "  </thead>\n",
       "  <tbody>\n",
       "    <tr>\n",
       "      <th>0</th>\n",
       "      <td>18</td>\n",
       "      <td>Hurto de moto</td>\n",
       "      <td>26</td>\n",
       "      <td>5000000</td>\n",
       "      <td>1</td>\n",
       "      <td>0</td>\n",
       "      <td>0</td>\n",
       "      <td>1</td>\n",
       "      <td>0</td>\n",
       "      <td>0</td>\n",
       "      <td>...</td>\n",
       "      <td>1</td>\n",
       "      <td>0</td>\n",
       "      <td>0</td>\n",
       "      <td>0</td>\n",
       "      <td>1</td>\n",
       "      <td>0</td>\n",
       "      <td>0</td>\n",
       "      <td>1</td>\n",
       "      <td>0</td>\n",
       "      <td>0</td>\n",
       "    </tr>\n",
       "    <tr>\n",
       "      <th>1</th>\n",
       "      <td>9</td>\n",
       "      <td>Hurto de moto</td>\n",
       "      <td>27</td>\n",
       "      <td>4200000</td>\n",
       "      <td>1</td>\n",
       "      <td>0</td>\n",
       "      <td>0</td>\n",
       "      <td>1</td>\n",
       "      <td>0</td>\n",
       "      <td>0</td>\n",
       "      <td>...</td>\n",
       "      <td>1</td>\n",
       "      <td>0</td>\n",
       "      <td>0</td>\n",
       "      <td>0</td>\n",
       "      <td>1</td>\n",
       "      <td>0</td>\n",
       "      <td>0</td>\n",
       "      <td>1</td>\n",
       "      <td>0</td>\n",
       "      <td>0</td>\n",
       "    </tr>\n",
       "    <tr>\n",
       "      <th>2</th>\n",
       "      <td>11</td>\n",
       "      <td>Hurto de moto</td>\n",
       "      <td>28</td>\n",
       "      <td>4000000</td>\n",
       "      <td>1</td>\n",
       "      <td>0</td>\n",
       "      <td>0</td>\n",
       "      <td>1</td>\n",
       "      <td>0</td>\n",
       "      <td>0</td>\n",
       "      <td>...</td>\n",
       "      <td>1</td>\n",
       "      <td>0</td>\n",
       "      <td>0</td>\n",
       "      <td>0</td>\n",
       "      <td>0</td>\n",
       "      <td>0</td>\n",
       "      <td>1</td>\n",
       "      <td>0</td>\n",
       "      <td>1</td>\n",
       "      <td>0</td>\n",
       "    </tr>\n",
       "    <tr>\n",
       "      <th>3</th>\n",
       "      <td>22</td>\n",
       "      <td>Hurto de moto</td>\n",
       "      <td>46</td>\n",
       "      <td>2500000</td>\n",
       "      <td>1</td>\n",
       "      <td>0</td>\n",
       "      <td>0</td>\n",
       "      <td>1</td>\n",
       "      <td>0</td>\n",
       "      <td>0</td>\n",
       "      <td>...</td>\n",
       "      <td>1</td>\n",
       "      <td>0</td>\n",
       "      <td>0</td>\n",
       "      <td>0</td>\n",
       "      <td>1</td>\n",
       "      <td>0</td>\n",
       "      <td>0</td>\n",
       "      <td>1</td>\n",
       "      <td>0</td>\n",
       "      <td>0</td>\n",
       "    </tr>\n",
       "    <tr>\n",
       "      <th>4</th>\n",
       "      <td>20</td>\n",
       "      <td>Hurto de moto</td>\n",
       "      <td>39</td>\n",
       "      <td>3500000</td>\n",
       "      <td>1</td>\n",
       "      <td>0</td>\n",
       "      <td>0</td>\n",
       "      <td>1</td>\n",
       "      <td>0</td>\n",
       "      <td>0</td>\n",
       "      <td>...</td>\n",
       "      <td>1</td>\n",
       "      <td>0</td>\n",
       "      <td>0</td>\n",
       "      <td>0</td>\n",
       "      <td>0</td>\n",
       "      <td>0</td>\n",
       "      <td>1</td>\n",
       "      <td>1</td>\n",
       "      <td>0</td>\n",
       "      <td>0</td>\n",
       "    </tr>\n",
       "  </tbody>\n",
       "</table>\n",
       "<p>5 rows × 408 columns</p>\n",
       "</div>"
      ],
      "text/plain": [
       "   Hora_Hurto       Conducta  Edad_Hurto  Valor_Hurto  dia  Dia_nombre_Jueves  \\\n",
       "0          18  Hurto de moto          26      5000000    1                  0   \n",
       "1           9  Hurto de moto          27      4200000    1                  0   \n",
       "2          11  Hurto de moto          28      4000000    1                  0   \n",
       "3          22  Hurto de moto          46      2500000    1                  0   \n",
       "4          20  Hurto de moto          39      3500000    1                  0   \n",
       "\n",
       "   Dia_nombre_Lunes  Dia_nombre_Martes  Dia_nombre_Miércoles  \\\n",
       "0                 0                  1                     0   \n",
       "1                 0                  1                     0   \n",
       "2                 0                  1                     0   \n",
       "3                 0                  1                     0   \n",
       "4                 0                  1                     0   \n",
       "\n",
       "   Dia_nombre_Sábado  ...  transporte_caminata  transporte_moto  \\\n",
       "0                  0  ...                    1                0   \n",
       "1                  0  ...                    1                0   \n",
       "2                  0  ...                    1                0   \n",
       "3                  0  ...                    1                0   \n",
       "4                  0  ...                    1                0   \n",
       "\n",
       "   transporte_publico  lugar_Cultural  lugar_Habitacional  lugar_Otras  \\\n",
       "0                   0               0                   1            0   \n",
       "1                   0               0                   1            0   \n",
       "2                   0               0                   0            0   \n",
       "3                   0               0                   1            0   \n",
       "4                   0               0                   0            0   \n",
       "\n",
       "   lugar_Transporte  arma_Otros_elementos  arma_Sin_arma  arma_armas  \n",
       "0                 0                     1              0           0  \n",
       "1                 0                     1              0           0  \n",
       "2                 1                     0              1           0  \n",
       "3                 0                     1              0           0  \n",
       "4                 1                     1              0           0  \n",
       "\n",
       "[5 rows x 408 columns]"
      ]
     },
     "execution_count": 13,
     "metadata": {},
     "output_type": "execute_result"
    }
   ],
   "source": [
    "dummies=pd.get_dummies(Med2019, columns=['Dia_nombre','Mes_Calendario','Sexo','Barrio','Comuna','Sede_Receptora',\n",
    "                                                 'Estado_Civil','bienes','Zona','modalidades',\n",
    "                                                 'transporte','lugar','arma'], drop_first=True)\n",
    "dummies.head(5)"
   ]
  },
  {
   "cell_type": "markdown",
   "metadata": {},
   "source": [
    "## MODELOS"
   ]
  },
  {
   "cell_type": "markdown",
   "metadata": {},
   "source": [
    "Separaremos  las  variables explicativas de la variable  objetivo, teniendo presente  construir  un conjunto de  datos  de  entrenamiento  y pronostico unico con el puedan ser modelados todos los procesos"
   ]
  },
  {
   "cell_type": "code",
   "execution_count": 16,
   "metadata": {},
   "outputs": [],
   "source": [
    "x=dummies.drop(['Conducta'],axis=1)\n",
    "y= dummies.loc[:,['Conducta']]"
   ]
  },
  {
   "cell_type": "markdown",
   "metadata": {},
   "source": [
    "Compararemos varioas alternativas  que según la  literatura pueden ser  utilizadas ante situciones como esta, con el fin  de encontrar en este caso la mejor alternativa para clasificar nuestra variable  objetivo"
   ]
  },
  {
   "cell_type": "markdown",
   "metadata": {},
   "source": [
    "Dividiremos nuestros  datos  tomando un 70% para el entrenamiento y un 30% para la validación, adicionalmente  definiremos una semilla aleatoria en 42 con el fin de que  en cada ejecución la seleccion de las  muestras  se  conserve"
   ]
  },
  {
   "cell_type": "code",
   "execution_count": 17,
   "metadata": {},
   "outputs": [],
   "source": [
    "X_train, X_test, y_train, y_test = train_test_split(x, y, test_size=0.3,random_state = 42)"
   ]
  },
  {
   "cell_type": "markdown",
   "metadata": {},
   "source": [
    "### Random Forest"
   ]
  },
  {
   "cell_type": "markdown",
   "metadata": {},
   "source": [
    "Entrenamos el modelo"
   ]
  },
  {
   "cell_type": "code",
   "execution_count": 18,
   "metadata": {},
   "outputs": [],
   "source": [
    "rf = RandomForestClassifier(n_estimators = 500, #numero de arboles\n",
    "                            criterion='gini', #función para medir la calidad de la división\n",
    "                            max_depth=None, # Profundidad\n",
    "                            n_jobs = -1, #Trabajos  ejecutados en paralelo\n",
    "                            random_state = 42  #Inicio de la muestra \n",
    "                           )\n",
    "                            \n",
    "classifier=rf.fit(X_train, y_train.values.ravel())\n"
   ]
  },
  {
   "cell_type": "code",
   "execution_count": 60,
   "metadata": {},
   "outputs": [
    {
     "data": {
      "text/plain": [
       "array([[6666,   51,    0,   27],\n",
       "       [ 179,  277,    0,    5],\n",
       "       [  10,    0,   45,  118],\n",
       "       [  42,    0,   11, 1323]], dtype=int64)"
      ]
     },
     "execution_count": 60,
     "metadata": {},
     "output_type": "execute_result"
    }
   ],
   "source": [
    "predictions = classifier.predict(X_test)\n",
    "sklearn.metrics.confusion_matrix(y_test,predictions)"
   ]
  },
  {
   "cell_type": "markdown",
   "metadata": {},
   "source": [
    "Calculamos la matriz de confusión y las  medidas metricas del modelo (precisión, recall, f1)"
   ]
  },
  {
   "cell_type": "code",
   "execution_count": 37,
   "metadata": {},
   "outputs": [
    {
     "name": "stdout",
     "output_type": "stream",
     "text": [
      "Recall: 0.9493945624857208\n",
      "F!: 0.9436684057323842\n",
      "Accuracy: 0.9493945624857208\n"
     ]
    }
   ],
   "source": [
    "print(\"Recall:\",recall_score(y_test,predictions, average='weighted'))\n",
    "print(\"F!:\",f1_score(y_test,predictions, average='weighted'))\n",
    "print(\"Accuracy:\",sklearn.metrics.accuracy_score(y_test,predictions))"
   ]
  },
  {
   "cell_type": "markdown",
   "metadata": {},
   "source": [
    "## AdaBoostClassifier"
   ]
  },
  {
   "cell_type": "markdown",
   "metadata": {},
   "source": [
    "En este caso emplearemos en adaboostclassifier partiendo que de el estimador base para las clases en un árbol de  decisión,el cual es el valor  default del  algoritmo"
   ]
  },
  {
   "cell_type": "code",
   "execution_count": 41,
   "metadata": {},
   "outputs": [],
   "source": [
    "abc = AdaBoostClassifier(n_estimators=50 # Número de estimadores maximo en los que finaliza el refuero\n",
    "                         , learning_rate=1, #tasa de aprendizaje\n",
    "                        random_state=42)\n",
    "model = abc.fit(X_train, y_train.values.ravel())"
   ]
  },
  {
   "cell_type": "code",
   "execution_count": 42,
   "metadata": {},
   "outputs": [],
   "source": [
    "y_pred = model.predict(X_test)"
   ]
  },
  {
   "cell_type": "code",
   "execution_count": 43,
   "metadata": {},
   "outputs": [
    {
     "data": {
      "text/plain": [
       "array([[5165, 1553,   10,   16],\n",
       "       [  47,  404,    1,    9],\n",
       "       [   3,    0,  152,   18],\n",
       "       [ 309,    2,  522,  543]], dtype=int64)"
      ]
     },
     "execution_count": 43,
     "metadata": {},
     "output_type": "execute_result"
    }
   ],
   "source": [
    "sklearn.metrics.confusion_matrix(y_test,y_pred)"
   ]
  },
  {
   "cell_type": "code",
   "execution_count": 45,
   "metadata": {},
   "outputs": [
    {
     "name": "stdout",
     "output_type": "stream",
     "text": [
      "Recall: 0.7155586017820424\n",
      "F!: 0.7602802086870557\n",
      "Accuracy: 0.7155586017820424\n"
     ]
    }
   ],
   "source": [
    "print(\"Recall:\",recall_score(y_test,y_pred, average='weighted'))\n",
    "print(\"F!:\",f1_score(y_test,y_pred, average='weighted'))\n",
    "print(\"Accuracy:\",sklearn.metrics.accuracy_score(y_test,y_pred))\n"
   ]
  },
  {
   "cell_type": "markdown",
   "metadata": {},
   "source": [
    "Ensambaremos ambos modelos para mirar si  existen algun mejor ajuste"
   ]
  },
  {
   "cell_type": "markdown",
   "metadata": {},
   "source": [
    "## AdaBoostClassiffier ensablado con Random Forest"
   ]
  },
  {
   "cell_type": "code",
   "execution_count": 47,
   "metadata": {},
   "outputs": [],
   "source": [
    "abcrf = AdaBoostClassifier(n_estimators=50 # Número de estimadores maximo en los que finaliza el refuero\n",
    "                         , learning_rate=1, #tasa de aprendizaje\n",
    "                         base_estimator=rf,  \n",
    "                        random_state=42)\n",
    "modelrf = abcrf.fit(X_train, y_train.values.ravel())"
   ]
  },
  {
   "cell_type": "code",
   "execution_count": 67,
   "metadata": {},
   "outputs": [
    {
     "data": {
      "text/plain": [
       "array([[6665,   50,    0,   29],\n",
       "       [ 165,  291,    0,    5],\n",
       "       [  10,    0,   42,  121],\n",
       "       [  37,    0,   12, 1327]], dtype=int64)"
      ]
     },
     "execution_count": 67,
     "metadata": {},
     "output_type": "execute_result"
    }
   ],
   "source": [
    "y_predrf = modelrf.predict(X_test)\n",
    "sklearn.metrics.confusion_matrix(y_test,y_predrf)"
   ]
  },
  {
   "cell_type": "code",
   "execution_count": 66,
   "metadata": {},
   "outputs": [
    {
     "name": "stdout",
     "output_type": "stream",
     "text": [
      "Recall: 0.950993831391364\n",
      "F!: 0.9454263815427658\n",
      "Accuracy: 0.950993831391364\n"
     ]
    }
   ],
   "source": [
    "print(\"Recall:\",recall_score(y_test,y_predrf, average='weighted'))\n",
    "print(\"F!:\",f1_score(y_test,y_predrf, average='weighted'))\n",
    "print(\"Accuracy:\",sklearn.metrics.accuracy_score(y_test,y_predrf))"
   ]
  },
  {
   "cell_type": "code",
   "execution_count": null,
   "metadata": {},
   "outputs": [],
   "source": []
  }
 ],
 "metadata": {
  "kernelspec": {
   "display_name": "Python 3",
   "language": "python",
   "name": "python3"
  },
  "language_info": {
   "codemirror_mode": {
    "name": "ipython",
    "version": 3
   },
   "file_extension": ".py",
   "mimetype": "text/x-python",
   "name": "python",
   "nbconvert_exporter": "python",
   "pygments_lexer": "ipython3",
   "version": "3.7.3"
  }
 },
 "nbformat": 4,
 "nbformat_minor": 2
}
